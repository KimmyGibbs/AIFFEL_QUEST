{
  "cells": [
    {
      "cell_type": "markdown",
      "metadata": {
        "id": "view-in-github",
        "colab_type": "text"
      },
      "source": [
        "<a href=\"https://colab.research.google.com/github/dellaanima/AIFFEL_QUEST/blob/master/QUEST06/QUEST06.ipynb\" target=\"_parent\"><img src=\"https://colab.research.google.com/assets/colab-badge.svg\" alt=\"Open In Colab\"/></a>"
      ]
    },
    {
      "cell_type": "markdown",
      "id": "c10425af",
      "metadata": {
        "id": "c10425af"
      },
      "source": [
        "# QUEST 06\n"
      ]
    },
    {
      "cell_type": "markdown",
      "source": [
        "**[Quest Guide Line]**\n",
        "- Data\n",
        "\t- 뉴스 기사 데이터, text와 headlines 두 가지 열 존재\n",
        "\n",
        "- Tasks\n",
        "  1. 추상적 요약\n",
        "    - text를 본문, headlines를 이미 요약된 데이터로 삼아서 모델 학습\n",
        "    - 데이터 전처리 진행\n",
        "    - 모델 구조 어텐션 메커니즘 사용\n",
        "  2. 추출적 요약\n",
        "    - text열만을 사용\n",
        "    - Summa의 summarize를 사용\n",
        "\n",
        "\n",
        "**[평가문항\t& 상세기준]**\n",
        "1. Abstractive 모델 구성을 위한 텍스트 전처리 단계가 체계적으로 진행되었다.\n",
        "- 분석단계, 정제단계, 정규화와 불용어 제거, 데이터셋 분리, 인코딩 과정이 빠짐없이 체계적으로 진행되었다.\n",
        "\n",
        "2. 텍스트 요약모델이 성공적으로 학습되었음을 확인하였다.\n",
        "- 모델 학습이 진행되면서 train loss와 validation loss가 감소하는 경향을 그래프를 통해 확인했으며, 실제 요약문에 있는 핵심 단어들이 요약 문장 안에 포함되었다.\n",
        "\n",
        "3. Extractive 요약을 시도해 보고 Abstractive 요약 결과과 함께 비교해 보았다.\n",
        "- 두 요약 결과를 문법완성도 측면과 핵심단어 포함 측면으로 나누어 비교하고 분석 결과를 표로 정리하여 제시하였다.\n"
      ],
      "metadata": {
        "id": "QwyI3M5yj0x3"
      },
      "id": "QwyI3M5yj0x3"
    },
    {
      "cell_type": "markdown",
      "source": [
        "# 목차\n",
        "- Import Modules\n",
        "- Downloading Data\n",
        "- Data Preprocessing\n",
        "  1. 데이터 정리\n",
        "      - 결측치 & 중복 데이터 제거\n",
        "      - 텍스트 정규화\n",
        "      - 불용어 제거\n",
        "  2. 모델 학습을 위한 데이터 처리\n",
        "    - text , headlines 의 최대 길이 지정\n",
        "    - decoder 입출력을 위한 칼럼 생성(시작 토큰, 종료 토큰 추가 된 데이터 생성)\n",
        "    - encoder, decoder 입출력 값 생성 (numpy)\n",
        "    - train test split\n",
        "  3. Word to index\n",
        "    - 단어 집합 생성\n",
        "    - Encoder Word to Index 적용\n",
        "    - Decoder Word to index 적용\n",
        "  4. 패딩 추가\n",
        "- 모델 설계\n",
        "- 모델 훈련\n",
        "- 인퍼런스 모델 구현\n",
        "  - Endoer Model\n",
        "  - Decoder Model\n",
        "  - Word 를 Sequence 로 만드는 함수\n",
        "- 모델 테스트\n",
        "- 추출적 요약\n",
        "- 평가 및 정리\n",
        "  - 추상적 요약 모델 평가\n",
        "  - 추출적 요약 모델 평가\n",
        "  - 전체적인 분석 및 개선 방안 제시"
      ],
      "metadata": {
        "id": "pwIA7ajMk_b8"
      },
      "id": "pwIA7ajMk_b8"
    },
    {
      "cell_type": "markdown",
      "source": [
        "# Import modules"
      ],
      "metadata": {
        "id": "ULFTMdAF5Dc3"
      },
      "id": "ULFTMdAF5Dc3"
    },
    {
      "cell_type": "code",
      "execution_count": null,
      "id": "2f1802a3",
      "metadata": {
        "id": "2f1802a3",
        "colab": {
          "base_uri": "https://localhost:8080/"
        },
        "outputId": "644ed3c9-6386-4c16-8c96-aef81082ac5f"
      },
      "outputs": [
        {
          "output_type": "stream",
          "name": "stderr",
          "text": [
            "[nltk_data] Downloading package stopwords to /root/nltk_data...\n",
            "[nltk_data]   Unzipping corpora/stopwords.zip.\n"
          ]
        }
      ],
      "source": [
        "import nltk\n",
        "nltk.download('stopwords')\n",
        "\n",
        "import numpy as np\n",
        "import pandas as pd\n",
        "import os\n",
        "import re\n",
        "import matplotlib.pyplot as plt\n",
        "from nltk.corpus import stopwords\n",
        "from bs4 import BeautifulSoup\n",
        "from tensorflow.keras.preprocessing.text import Tokenizer\n",
        "from tensorflow.keras.preprocessing.sequence import pad_sequences\n",
        "import urllib.request\n",
        "import warnings\n",
        "warnings.filterwarnings(\"ignore\", category=UserWarning, module='bs4')"
      ]
    },
    {
      "cell_type": "markdown",
      "id": "78b63c3f",
      "metadata": {
        "id": "78b63c3f"
      },
      "source": [
        "# Downloading Data\n"
      ]
    },
    {
      "cell_type": "code",
      "execution_count": null,
      "id": "980d63fa",
      "metadata": {
        "scrolled": true,
        "colab": {
          "base_uri": "https://localhost:8080/"
        },
        "id": "980d63fa",
        "outputId": "9b42faf6-9f6e-4365-a9f8-c5d77d2a4a7e"
      },
      "outputs": [
        {
          "output_type": "stream",
          "name": "stdout",
          "text": [
            "전체 샘플수 : 98401\n"
          ]
        }
      ],
      "source": [
        "# 데이터 다운로드\n",
        "# nltk패키지에서 불용어 사전 다운로드\n",
        "# urllib을 이용하여 뉴스 기사 데이터를 다운로드\n",
        "urllib.request.urlretrieve(\"https://raw.githubusercontent.com/sunnysai12345/News_Summary/master/news_summary_more.csv\", filename=\"news_summary_more.csv\")\n",
        "data = pd.read_csv('news_summary_more.csv', encoding='iso-8859-1')\n",
        "print('전체 샘플수 :', (len(data)))"
      ]
    },
    {
      "cell_type": "code",
      "execution_count": null,
      "id": "e8386511",
      "metadata": {
        "scrolled": true,
        "colab": {
          "base_uri": "https://localhost:8080/",
          "height": 581
        },
        "id": "e8386511",
        "outputId": "da574568-17fe-47c4-ea94-78844ed5b3f1"
      },
      "outputs": [
        {
          "output_type": "execute_result",
          "data": {
            "text/plain": [
              "                                               headlines  \\\n",
              "17846  Rahul 1st Indian in 39 yrs to hit ton in 4th i...   \n",
              "8258   My patriotism doubted, 20 years of hard work i...   \n",
              "32544  Internet suspended in Aligarh amid AMU Jinnah ...   \n",
              "69921  Facebook tests 'Snooze' feature to temporarily...   \n",
              "95990  Trump's daughter becomes unpaid White House em...   \n",
              "34167  Apple's proposed acquisition of Shazam being i...   \n",
              "53840  11,500-yr-old DNA reveals new population of Na...   \n",
              "95536  Media owners being controlled by Modi govt: Ch...   \n",
              "12264  Rafale only reason to send Verma on leave at 3...   \n",
              "53750  Worry about Kim's mental health, not Trump's: ...   \n",
              "\n",
              "                                                    text  \n",
              "17846  Indian opener KL Rahul became the first Indian...  \n",
              "8258   Reacting to the allegations levelled against h...  \n",
              "32544  Internet services in Uttar Pradesh's Aligarh h...  \n",
              "69921  Social media giant Facebook is testing a 'Snoo...  \n",
              "95990  US President Donald Trump's daughter Ivanka Tr...  \n",
              "34167  The European Union has launched an investigati...  \n",
              "53840  Genetic analysis of a six-week-old infant that...  \n",
              "95536  Congress leader P Chidambaram on Saturday accu...  \n",
              "12264  After CBI Director Alok Verma was sent on leav...  \n",
              "53750  Defending President Donald Trump's tweet about...  "
            ],
            "text/html": [
              "\n",
              "\n",
              "  <div id=\"df-6237ad1d-b51b-4f3b-9fcd-a3fdeed2ad03\">\n",
              "    <div class=\"colab-df-container\">\n",
              "      <div>\n",
              "<style scoped>\n",
              "    .dataframe tbody tr th:only-of-type {\n",
              "        vertical-align: middle;\n",
              "    }\n",
              "\n",
              "    .dataframe tbody tr th {\n",
              "        vertical-align: top;\n",
              "    }\n",
              "\n",
              "    .dataframe thead th {\n",
              "        text-align: right;\n",
              "    }\n",
              "</style>\n",
              "<table border=\"1\" class=\"dataframe\">\n",
              "  <thead>\n",
              "    <tr style=\"text-align: right;\">\n",
              "      <th></th>\n",
              "      <th>headlines</th>\n",
              "      <th>text</th>\n",
              "    </tr>\n",
              "  </thead>\n",
              "  <tbody>\n",
              "    <tr>\n",
              "      <th>17846</th>\n",
              "      <td>Rahul 1st Indian in 39 yrs to hit ton in 4th i...</td>\n",
              "      <td>Indian opener KL Rahul became the first Indian...</td>\n",
              "    </tr>\n",
              "    <tr>\n",
              "      <th>8258</th>\n",
              "      <td>My patriotism doubted, 20 years of hard work i...</td>\n",
              "      <td>Reacting to the allegations levelled against h...</td>\n",
              "    </tr>\n",
              "    <tr>\n",
              "      <th>32544</th>\n",
              "      <td>Internet suspended in Aligarh amid AMU Jinnah ...</td>\n",
              "      <td>Internet services in Uttar Pradesh's Aligarh h...</td>\n",
              "    </tr>\n",
              "    <tr>\n",
              "      <th>69921</th>\n",
              "      <td>Facebook tests 'Snooze' feature to temporarily...</td>\n",
              "      <td>Social media giant Facebook is testing a 'Snoo...</td>\n",
              "    </tr>\n",
              "    <tr>\n",
              "      <th>95990</th>\n",
              "      <td>Trump's daughter becomes unpaid White House em...</td>\n",
              "      <td>US President Donald Trump's daughter Ivanka Tr...</td>\n",
              "    </tr>\n",
              "    <tr>\n",
              "      <th>34167</th>\n",
              "      <td>Apple's proposed acquisition of Shazam being i...</td>\n",
              "      <td>The European Union has launched an investigati...</td>\n",
              "    </tr>\n",
              "    <tr>\n",
              "      <th>53840</th>\n",
              "      <td>11,500-yr-old DNA reveals new population of Na...</td>\n",
              "      <td>Genetic analysis of a six-week-old infant that...</td>\n",
              "    </tr>\n",
              "    <tr>\n",
              "      <th>95536</th>\n",
              "      <td>Media owners being controlled by Modi govt: Ch...</td>\n",
              "      <td>Congress leader P Chidambaram on Saturday accu...</td>\n",
              "    </tr>\n",
              "    <tr>\n",
              "      <th>12264</th>\n",
              "      <td>Rafale only reason to send Verma on leave at 3...</td>\n",
              "      <td>After CBI Director Alok Verma was sent on leav...</td>\n",
              "    </tr>\n",
              "    <tr>\n",
              "      <th>53750</th>\n",
              "      <td>Worry about Kim's mental health, not Trump's: ...</td>\n",
              "      <td>Defending President Donald Trump's tweet about...</td>\n",
              "    </tr>\n",
              "  </tbody>\n",
              "</table>\n",
              "</div>\n",
              "      <button class=\"colab-df-convert\" onclick=\"convertToInteractive('df-6237ad1d-b51b-4f3b-9fcd-a3fdeed2ad03')\"\n",
              "              title=\"Convert this dataframe to an interactive table.\"\n",
              "              style=\"display:none;\">\n",
              "\n",
              "  <svg xmlns=\"http://www.w3.org/2000/svg\" height=\"24px\"viewBox=\"0 0 24 24\"\n",
              "       width=\"24px\">\n",
              "    <path d=\"M0 0h24v24H0V0z\" fill=\"none\"/>\n",
              "    <path d=\"M18.56 5.44l.94 2.06.94-2.06 2.06-.94-2.06-.94-.94-2.06-.94 2.06-2.06.94zm-11 1L8.5 8.5l.94-2.06 2.06-.94-2.06-.94L8.5 2.5l-.94 2.06-2.06.94zm10 10l.94 2.06.94-2.06 2.06-.94-2.06-.94-.94-2.06-.94 2.06-2.06.94z\"/><path d=\"M17.41 7.96l-1.37-1.37c-.4-.4-.92-.59-1.43-.59-.52 0-1.04.2-1.43.59L10.3 9.45l-7.72 7.72c-.78.78-.78 2.05 0 2.83L4 21.41c.39.39.9.59 1.41.59.51 0 1.02-.2 1.41-.59l7.78-7.78 2.81-2.81c.8-.78.8-2.07 0-2.86zM5.41 20L4 18.59l7.72-7.72 1.47 1.35L5.41 20z\"/>\n",
              "  </svg>\n",
              "      </button>\n",
              "\n",
              "\n",
              "\n",
              "    <div id=\"df-3be98d07-1298-4fea-ba9a-d6c89e7cbaa0\">\n",
              "      <button class=\"colab-df-quickchart\" onclick=\"quickchart('df-3be98d07-1298-4fea-ba9a-d6c89e7cbaa0')\"\n",
              "              title=\"Suggest charts.\"\n",
              "              style=\"display:none;\">\n",
              "\n",
              "<svg xmlns=\"http://www.w3.org/2000/svg\" height=\"24px\"viewBox=\"0 0 24 24\"\n",
              "     width=\"24px\">\n",
              "    <g>\n",
              "        <path d=\"M19 3H5c-1.1 0-2 .9-2 2v14c0 1.1.9 2 2 2h14c1.1 0 2-.9 2-2V5c0-1.1-.9-2-2-2zM9 17H7v-7h2v7zm4 0h-2V7h2v10zm4 0h-2v-4h2v4z\"/>\n",
              "    </g>\n",
              "</svg>\n",
              "      </button>\n",
              "    </div>\n",
              "\n",
              "<style>\n",
              "  .colab-df-quickchart {\n",
              "    background-color: #E8F0FE;\n",
              "    border: none;\n",
              "    border-radius: 50%;\n",
              "    cursor: pointer;\n",
              "    display: none;\n",
              "    fill: #1967D2;\n",
              "    height: 32px;\n",
              "    padding: 0 0 0 0;\n",
              "    width: 32px;\n",
              "  }\n",
              "\n",
              "  .colab-df-quickchart:hover {\n",
              "    background-color: #E2EBFA;\n",
              "    box-shadow: 0px 1px 2px rgba(60, 64, 67, 0.3), 0px 1px 3px 1px rgba(60, 64, 67, 0.15);\n",
              "    fill: #174EA6;\n",
              "  }\n",
              "\n",
              "  [theme=dark] .colab-df-quickchart {\n",
              "    background-color: #3B4455;\n",
              "    fill: #D2E3FC;\n",
              "  }\n",
              "\n",
              "  [theme=dark] .colab-df-quickchart:hover {\n",
              "    background-color: #434B5C;\n",
              "    box-shadow: 0px 1px 3px 1px rgba(0, 0, 0, 0.15);\n",
              "    filter: drop-shadow(0px 1px 2px rgba(0, 0, 0, 0.3));\n",
              "    fill: #FFFFFF;\n",
              "  }\n",
              "</style>\n",
              "\n",
              "    <script>\n",
              "      async function quickchart(key) {\n",
              "        const containerElement = document.querySelector('#' + key);\n",
              "        const charts = await google.colab.kernel.invokeFunction(\n",
              "            'suggestCharts', [key], {});\n",
              "      }\n",
              "    </script>\n",
              "\n",
              "      <script>\n",
              "\n",
              "function displayQuickchartButton(domScope) {\n",
              "  let quickchartButtonEl =\n",
              "    domScope.querySelector('#df-3be98d07-1298-4fea-ba9a-d6c89e7cbaa0 button.colab-df-quickchart');\n",
              "  quickchartButtonEl.style.display =\n",
              "    google.colab.kernel.accessAllowed ? 'block' : 'none';\n",
              "}\n",
              "\n",
              "        displayQuickchartButton(document);\n",
              "      </script>\n",
              "      <style>\n",
              "    .colab-df-container {\n",
              "      display:flex;\n",
              "      flex-wrap:wrap;\n",
              "      gap: 12px;\n",
              "    }\n",
              "\n",
              "    .colab-df-convert {\n",
              "      background-color: #E8F0FE;\n",
              "      border: none;\n",
              "      border-radius: 50%;\n",
              "      cursor: pointer;\n",
              "      display: none;\n",
              "      fill: #1967D2;\n",
              "      height: 32px;\n",
              "      padding: 0 0 0 0;\n",
              "      width: 32px;\n",
              "    }\n",
              "\n",
              "    .colab-df-convert:hover {\n",
              "      background-color: #E2EBFA;\n",
              "      box-shadow: 0px 1px 2px rgba(60, 64, 67, 0.3), 0px 1px 3px 1px rgba(60, 64, 67, 0.15);\n",
              "      fill: #174EA6;\n",
              "    }\n",
              "\n",
              "    [theme=dark] .colab-df-convert {\n",
              "      background-color: #3B4455;\n",
              "      fill: #D2E3FC;\n",
              "    }\n",
              "\n",
              "    [theme=dark] .colab-df-convert:hover {\n",
              "      background-color: #434B5C;\n",
              "      box-shadow: 0px 1px 3px 1px rgba(0, 0, 0, 0.15);\n",
              "      filter: drop-shadow(0px 1px 2px rgba(0, 0, 0, 0.3));\n",
              "      fill: #FFFFFF;\n",
              "    }\n",
              "  </style>\n",
              "\n",
              "      <script>\n",
              "        const buttonEl =\n",
              "          document.querySelector('#df-6237ad1d-b51b-4f3b-9fcd-a3fdeed2ad03 button.colab-df-convert');\n",
              "        buttonEl.style.display =\n",
              "          google.colab.kernel.accessAllowed ? 'block' : 'none';\n",
              "\n",
              "        async function convertToInteractive(key) {\n",
              "          const element = document.querySelector('#df-6237ad1d-b51b-4f3b-9fcd-a3fdeed2ad03');\n",
              "          const dataTable =\n",
              "            await google.colab.kernel.invokeFunction('convertToInteractive',\n",
              "                                                     [key], {});\n",
              "          if (!dataTable) return;\n",
              "\n",
              "          const docLinkHtml = 'Like what you see? Visit the ' +\n",
              "            '<a target=\"_blank\" href=https://colab.research.google.com/notebooks/data_table.ipynb>data table notebook</a>'\n",
              "            + ' to learn more about interactive tables.';\n",
              "          element.innerHTML = '';\n",
              "          dataTable['output_type'] = 'display_data';\n",
              "          await google.colab.output.renderOutput(dataTable, element);\n",
              "          const docLink = document.createElement('div');\n",
              "          docLink.innerHTML = docLinkHtml;\n",
              "          element.appendChild(docLink);\n",
              "        }\n",
              "      </script>\n",
              "    </div>\n",
              "  </div>\n"
            ]
          },
          "metadata": {},
          "execution_count": 6
        }
      ],
      "source": [
        "data.sample(10)"
      ]
    },
    {
      "cell_type": "markdown",
      "id": "27c3b3be",
      "metadata": {
        "id": "27c3b3be"
      },
      "source": [
        "# Data Preprocessing\n",
        "\n",
        "  1. 데이터 정리\n",
        "      - Text 칼럼에 대한 중복 데이터 제거\n",
        "      - 결측치 처리\n",
        "      - 텍스트 데이터 전처리 + 텍스트 정규화 + 불용어 제거\n",
        "  2. 모델 학습을 위한 데이터 처리\n",
        "    - text , headlines 의 최대 길이 지정\n",
        "    - decoder 입출력을 위한 칼럼 생성(시작 토큰, 종료 토큰 추가 된 데이터 생성)\n",
        "    - encoder, decoder 입출력 값 생성 (numpy)\n",
        "    - train test split\n",
        "  3. Word to index\n",
        "   -"
      ]
    },
    {
      "cell_type": "markdown",
      "id": "90cc6520",
      "metadata": {
        "id": "90cc6520"
      },
      "source": [
        "## 1. 데이터 정리\n"
      ]
    },
    {
      "cell_type": "markdown",
      "source": [
        "### Text 칼럼에 대한 중복 데이터 제거"
      ],
      "metadata": {
        "id": "08Y-54M66NWE"
      },
      "id": "08Y-54M66NWE"
    },
    {
      "cell_type": "markdown",
      "id": "f1d66840",
      "metadata": {
        "id": "f1d66840"
      },
      "source": [
        "- 중복을 제외한다면 text에는 98,360개, headlines에는 98,280개의 유니크한 데이터가 존재.\n",
        "headlines에는 간단한 요약들도 많아서 Text가 달라도 headlines는 동일할 수 있다. 하지만 Text 자체가 중복이 된 경우는 중복 샘플이므로 Text 칼럼에 대한 중복 샘플만 제거\n",
        "\n",
        "  (전체 샘플수는 98401개 이므로 text 열에서 41개 중복이 존재하는 것을 알 수 있음.)"
      ]
    },
    {
      "cell_type": "code",
      "execution_count": null,
      "id": "177e3bfd",
      "metadata": {
        "colab": {
          "base_uri": "https://localhost:8080/"
        },
        "id": "177e3bfd",
        "outputId": "fc5cd1ce-1fd6-493c-c0a7-0e5f67b66920"
      },
      "outputs": [
        {
          "output_type": "stream",
          "name": "stdout",
          "text": [
            "Text 열에서 중복을 배제한 유일한 샘플의 수 : 98360\n",
            "Summary 열에서 중복을 배제한 유일한 샘플의 수 : 98280\n"
          ]
        }
      ],
      "source": [
        "print('Text 열에서 중복을 배제한 유일한 샘플의 수 :', data['text'].nunique())\n",
        "print('Summary 열에서 중복을 배제한 유일한 샘플의 수 :', data['headlines'].nunique())"
      ]
    },
    {
      "cell_type": "code",
      "execution_count": null,
      "id": "b335a37c",
      "metadata": {
        "colab": {
          "base_uri": "https://localhost:8080/"
        },
        "id": "b335a37c",
        "outputId": "e17fec41-a0b5-4c2d-c2cd-dca6256702cf"
      },
      "outputs": [
        {
          "output_type": "stream",
          "name": "stdout",
          "text": [
            "전체 샘플수 : 98360\n"
          ]
        }
      ],
      "source": [
        "# inplace=True 를 설정하면 DataFrame 타입 값을 return 하지 않고 data 내부를 직접적으로 바꿉니다\n",
        "data.drop_duplicates(subset = ['text'], inplace=True)\n",
        "print('전체 샘플수 :', (len(data)))"
      ]
    },
    {
      "cell_type": "markdown",
      "source": [
        "### 결측치 처리"
      ],
      "metadata": {
        "id": "WSLfU2Fl6Tr5"
      },
      "id": "WSLfU2Fl6Tr5"
    },
    {
      "cell_type": "markdown",
      "id": "9e6d99e7",
      "metadata": {
        "id": "9e6d99e7"
      },
      "source": [
        "* 결측치가 존재하지 않음."
      ]
    },
    {
      "cell_type": "code",
      "execution_count": null,
      "id": "5745d42e",
      "metadata": {
        "colab": {
          "base_uri": "https://localhost:8080/"
        },
        "id": "5745d42e",
        "outputId": "cbd5e86c-8907-4125-fe88-e7e3c8f2b69c"
      },
      "outputs": [
        {
          "output_type": "stream",
          "name": "stdout",
          "text": [
            "headlines    0\n",
            "text         0\n",
            "dtype: int64\n"
          ]
        }
      ],
      "source": [
        "print(data.isnull().sum())"
      ]
    },
    {
      "cell_type": "markdown",
      "id": "e855332b",
      "metadata": {
        "id": "e855332b"
      },
      "source": [
        "### 텍스트 데이터 전처리 + 텍스트 정규화 + 불용어 제거\n",
        "\n"
      ]
    },
    {
      "cell_type": "markdown",
      "source": [
        "**텍스트 정규화(text normalization)** 란, 같은 의미이지만 다른 표현으로 사용되는 단어들을 같은 단어로 통일시켜주는 역할로, `it'll` = `it will`, `mustn't` = `must not` 와 같은 의미의 표현들을 통일시키는 과정. 텍스트 정규화를 통해 기계의 연산량을 줄일 수 있다."
      ],
      "metadata": {
        "id": "0LX905pU6xsb"
      },
      "id": "0LX905pU6xsb"
    },
    {
      "cell_type": "code",
      "execution_count": null,
      "id": "dab9713f",
      "metadata": {
        "colab": {
          "base_uri": "https://localhost:8080/"
        },
        "id": "dab9713f",
        "outputId": "dcceefe9-f8f6-4572-8838-685750bd16c4"
      },
      "outputs": [
        {
          "output_type": "stream",
          "name": "stdout",
          "text": [
            "정규화 사전의 수:  120\n"
          ]
        }
      ],
      "source": [
        "contractions = {\"ain't\": \"is not\", \"aren't\": \"are not\",\"can't\": \"cannot\", \"'cause\": \"because\", \"could've\": \"could have\", \"couldn't\": \"could not\",\n",
        "                           \"didn't\": \"did not\",  \"doesn't\": \"does not\", \"don't\": \"do not\", \"hadn't\": \"had not\", \"hasn't\": \"has not\", \"haven't\": \"have not\",\n",
        "                           \"he'd\": \"he would\",\"he'll\": \"he will\", \"he's\": \"he is\", \"how'd\": \"how did\", \"how'd'y\": \"how do you\", \"how'll\": \"how will\", \"how's\": \"how is\",\n",
        "                           \"I'd\": \"I would\", \"I'd've\": \"I would have\", \"I'll\": \"I will\", \"I'll've\": \"I will have\",\"I'm\": \"I am\", \"I've\": \"I have\", \"i'd\": \"i would\",\n",
        "                           \"i'd've\": \"i would have\", \"i'll\": \"i will\",  \"i'll've\": \"i will have\",\"i'm\": \"i am\", \"i've\": \"i have\", \"isn't\": \"is not\", \"it'd\": \"it would\",\n",
        "                           \"it'd've\": \"it would have\", \"it'll\": \"it will\", \"it'll've\": \"it will have\",\"it's\": \"it is\", \"let's\": \"let us\", \"ma'am\": \"madam\",\n",
        "                           \"mayn't\": \"may not\", \"might've\": \"might have\",\"mightn't\": \"might not\",\"mightn't've\": \"might not have\", \"must've\": \"must have\",\n",
        "                           \"mustn't\": \"must not\", \"mustn't've\": \"must not have\", \"needn't\": \"need not\", \"needn't've\": \"need not have\",\"o'clock\": \"of the clock\",\n",
        "                           \"oughtn't\": \"ought not\", \"oughtn't've\": \"ought not have\", \"shan't\": \"shall not\", \"sha'n't\": \"shall not\", \"shan't've\": \"shall not have\",\n",
        "                           \"she'd\": \"she would\", \"she'd've\": \"she would have\", \"she'll\": \"she will\", \"she'll've\": \"she will have\", \"she's\": \"she is\",\n",
        "                           \"should've\": \"should have\", \"shouldn't\": \"should not\", \"shouldn't've\": \"should not have\", \"so've\": \"so have\",\"so's\": \"so as\",\n",
        "                           \"this's\": \"this is\",\"that'd\": \"that would\", \"that'd've\": \"that would have\", \"that's\": \"that is\", \"there'd\": \"there would\",\n",
        "                           \"there'd've\": \"there would have\", \"there's\": \"there is\", \"here's\": \"here is\",\"they'd\": \"they would\", \"they'd've\": \"they would have\",\n",
        "                           \"they'll\": \"they will\", \"they'll've\": \"they will have\", \"they're\": \"they are\", \"they've\": \"they have\", \"to've\": \"to have\",\n",
        "                           \"wasn't\": \"was not\", \"we'd\": \"we would\", \"we'd've\": \"we would have\", \"we'll\": \"we will\", \"we'll've\": \"we will have\", \"we're\": \"we are\",\n",
        "                           \"we've\": \"we have\", \"weren't\": \"were not\", \"what'll\": \"what will\", \"what'll've\": \"what will have\", \"what're\": \"what are\",\n",
        "                           \"what's\": \"what is\", \"what've\": \"what have\", \"when's\": \"when is\", \"when've\": \"when have\", \"where'd\": \"where did\", \"where's\": \"where is\",\n",
        "                           \"where've\": \"where have\", \"who'll\": \"who will\", \"who'll've\": \"who will have\", \"who's\": \"who is\", \"who've\": \"who have\",\n",
        "                           \"why's\": \"why is\", \"why've\": \"why have\", \"will've\": \"will have\", \"won't\": \"will not\", \"won't've\": \"will not have\",\n",
        "                           \"would've\": \"would have\", \"wouldn't\": \"would not\", \"wouldn't've\": \"would not have\", \"y'all\": \"you all\",\n",
        "                           \"y'all'd\": \"you all would\",\"y'all'd've\": \"you all would have\",\"y'all're\": \"you all are\",\"y'all've\": \"you all have\",\n",
        "                           \"you'd\": \"you would\", \"you'd've\": \"you would have\", \"you'll\": \"you will\", \"you'll've\": \"you will have\",\n",
        "                           \"you're\": \"you are\", \"you've\": \"you have\"}\n",
        "\n",
        "print(\"정규화 사전의 수: \", len(contractions))"
      ]
    },
    {
      "cell_type": "markdown",
      "id": "e78f8e66",
      "metadata": {
        "id": "e78f8e66"
      },
      "source": [
        "**불용어** 란 자연어 처리를 할 때 의미를 분석하고 요약하는 데는 거의 의미가 없는 단어이다.\n",
        "\n",
        "* NLTK 에서 제공하는 불용어 리스트를 참조해, 샘플에서 불용어를 제거한다.\n",
        "* 불용어 리스트에는 총 179개의 불용어가 존재"
      ]
    },
    {
      "cell_type": "code",
      "execution_count": null,
      "id": "f19f9429",
      "metadata": {
        "colab": {
          "base_uri": "https://localhost:8080/"
        },
        "id": "f19f9429",
        "outputId": "6200125a-38b5-460e-c304-3a8db8fab28f"
      },
      "outputs": [
        {
          "output_type": "stream",
          "name": "stdout",
          "text": [
            "불용어 개수 : 179\n",
            "['i', 'me', 'my', 'myself', 'we', 'our', 'ours', 'ourselves', 'you', \"you're\", \"you've\", \"you'll\", \"you'd\", 'your', 'yours', 'yourself', 'yourselves', 'he', 'him', 'his', 'himself', 'she', \"she's\", 'her', 'hers', 'herself', 'it', \"it's\", 'its', 'itself', 'they', 'them', 'their', 'theirs', 'themselves', 'what', 'which', 'who', 'whom', 'this', 'that', \"that'll\", 'these', 'those', 'am', 'is', 'are', 'was', 'were', 'be', 'been', 'being', 'have', 'has', 'had', 'having', 'do', 'does', 'did', 'doing', 'a', 'an', 'the', 'and', 'but', 'if', 'or', 'because', 'as', 'until', 'while', 'of', 'at', 'by', 'for', 'with', 'about', 'against', 'between', 'into', 'through', 'during', 'before', 'after', 'above', 'below', 'to', 'from', 'up', 'down', 'in', 'out', 'on', 'off', 'over', 'under', 'again', 'further', 'then', 'once', 'here', 'there', 'when', 'where', 'why', 'how', 'all', 'any', 'both', 'each', 'few', 'more', 'most', 'other', 'some', 'such', 'no', 'nor', 'not', 'only', 'own', 'same', 'so', 'than', 'too', 'very', 's', 't', 'can', 'will', 'just', 'don', \"don't\", 'should', \"should've\", 'now', 'd', 'll', 'm', 'o', 're', 've', 'y', 'ain', 'aren', \"aren't\", 'couldn', \"couldn't\", 'didn', \"didn't\", 'doesn', \"doesn't\", 'hadn', \"hadn't\", 'hasn', \"hasn't\", 'haven', \"haven't\", 'isn', \"isn't\", 'ma', 'mightn', \"mightn't\", 'mustn', \"mustn't\", 'needn', \"needn't\", 'shan', \"shan't\", 'shouldn', \"shouldn't\", 'wasn', \"wasn't\", 'weren', \"weren't\", 'won', \"won't\", 'wouldn', \"wouldn't\"]\n"
          ]
        }
      ],
      "source": [
        "print('불용어 개수 :', len(stopwords.words('english') ))\n",
        "print(stopwords.words('english'))"
      ]
    },
    {
      "cell_type": "markdown",
      "id": "bb46d4b8",
      "metadata": {
        "id": "bb46d4b8"
      },
      "source": [
        "데이터 전처리 함수 `preprocess_sentence` 정의\n",
        "* 텍스트 소문자화\n",
        "* html 태그 제거\n",
        "* 괄호로 닫힌 문자열 (...) 제거\n",
        "* \" 제거\n",
        "* 약어 정규화\n",
        "* 소유격 제거\n",
        "* 숫자, 특수문자 공백으로 변환\n",
        "* mm 작업\n",
        "* if 조건문 이용해서, text 에 있는 불용어만 제거, headlines 에 있는 불용어는 제거하지 않음.\n",
        "  * Abstractive한 문장 요약 결과문이 자연스러운 문장이 되려면 이 불용어들이 **headlines**에는 남아 있는 게 더 좋음"
      ]
    },
    {
      "cell_type": "code",
      "execution_count": null,
      "id": "1828022c",
      "metadata": {
        "id": "1828022c"
      },
      "outputs": [],
      "source": [
        "#데이터 전처리 함수\n",
        "def preprocess_sentence(sentence, remove_stopwords=True):\n",
        "    sentence = sentence.lower() # 텍스트 소문자화\n",
        "    sentence = BeautifulSoup(sentence, \"lxml\").text # <br />, <a href = ...> 등의 html 태그 제거\n",
        "    sentence = re.sub(r'\\([^)]*\\)', '', sentence) # 괄호로 닫힌 문자열 (...) 제거 Ex) my husband (and myself!) for => my husband for\n",
        "    sentence = re.sub('\"','', sentence) # 쌍따옴표 \" 제거\n",
        "    sentence = ' '.join([contractions[t] if t in contractions else t for t in sentence.split(\" \")]) # 약어 정규화\n",
        "    sentence = re.sub(r\"'s\\b\",\"\",sentence) # 소유격 제거. Ex) roland's -> roland\n",
        "    sentence = re.sub(\"[^a-zA-Z]\", \" \", sentence) # 영어 외 문자(숫자, 특수문자 등) 공백으로 변환\n",
        "    sentence = re.sub('[m]{2,}', 'mm', sentence) # m이 3개 이상이면 2개로 변경. Ex) ummmmmmm yeah -> umm yeah\n",
        "\n",
        "    # 불용어 제거 (text)\n",
        "    if remove_stopwords:\n",
        "        tokens = ' '.join(word for word in sentence.split() if not word in stopwords.words('english') if len(word) > 1)\n",
        "    # 불용어 미제거 (headlines)\n",
        "    else:\n",
        "        tokens = ' '.join(word for word in sentence.split() if len(word) > 1)\n",
        "    return tokens"
      ]
    },
    {
      "cell_type": "markdown",
      "id": "61786e5e",
      "metadata": {
        "id": "61786e5e"
      },
      "source": [
        "전체 text에 대하여 전처리 진행\n",
        "* 전처리 과정을 거친 text 데이터는 clean_text라는 빈 리스트에 추가\n",
        "* 불용어 제거, `remove_stopwords=True`"
      ]
    },
    {
      "cell_type": "code",
      "execution_count": null,
      "id": "62ec6320",
      "metadata": {
        "colab": {
          "base_uri": "https://localhost:8080/"
        },
        "id": "62ec6320",
        "outputId": "8af7c39a-eeb7-4430-8666-ed7a45f9f2e4"
      },
      "outputs": [
        {
          "output_type": "stream",
          "name": "stdout",
          "text": [
            "Text 전처리 후 결과:  ['saurav kant alumnus upgrad iiit pg program machine learning artificial intelligence sr systems engineer infosys almost years work experience program upgrad degree career support helped transition data scientist tech mahindra salary hike upgrad online power learning powered lakh careers', 'kunal shah credit card bill payment platform cred gave users chance win free food swiggy one year pranav kaushik delhi techie bagged reward spending cred coins users get one cred coin per rupee bill paid used avail rewards brands like ixigo bookmyshow ubereats cult fit', 'new zealand defeated india wickets fourth odi hamilton thursday win first match five match odi series india lost international match rohit sharma captaincy consecutive victories dating back march match witnessed india getting seventh lowest total odi cricket history', 'aegon life iterm insurance plan customers enjoy tax benefits premiums paid save taxes plan provides life cover age years also customers options insure critical illnesses disability accidental death benefit rider life cover age years', 'speaking sexual harassment allegations rajkumar hirani sonam kapoor said known hirani many years true metoo movement get derailed metoo movement always believe woman case need reserve judgment added hirani accused assistant worked sanju']\n"
          ]
        }
      ],
      "source": [
        "clean_text = []\n",
        "# 전체 Text 데이터에 대한 전처리 : 10분 이상 시간이 걸릴 수 있습니다.\n",
        "for s in data['text']:\n",
        "    clean_text.append(preprocess_sentence(s))\n",
        "\n",
        "# 전처리 후 출력\n",
        "print(\"Text 전처리 후 결과: \", clean_text[:5])"
      ]
    },
    {
      "cell_type": "markdown",
      "id": "d9cc104d",
      "metadata": {
        "id": "d9cc104d"
      },
      "source": [
        "전체 headlines에 대하여 전처리 과정\n",
        "* 전처리 과정을 거친 headlines 데이터는 clean_headlines 이라는 빈 리스트에 추가\n",
        "* 불용어 제거 X, `remove_stopwords=False`"
      ]
    },
    {
      "cell_type": "code",
      "execution_count": null,
      "id": "c4cee082",
      "metadata": {
        "colab": {
          "base_uri": "https://localhost:8080/"
        },
        "id": "c4cee082",
        "outputId": "c153bc5f-b20d-4101-95d1-7d8371934f6f"
      },
      "outputs": [
        {
          "output_type": "stream",
          "name": "stderr",
          "text": [
            "<ipython-input-14-1298778c7c93>:4: MarkupResemblesLocatorWarning: The input looks more like a filename than markup. You may want to open this file and pass the filehandle into Beautiful Soup.\n",
            "  sentence = BeautifulSoup(sentence, \"lxml\").text # <br />, <a href = ...> 등의 html 태그 제거\n"
          ]
        },
        {
          "output_type": "stream",
          "name": "stdout",
          "text": [
            "headlines 전처리 후 결과:  ['upgrad learner switches to career in ml al with salary hike', 'delhi techie wins free food from swiggy for one year on cred', 'new zealand end rohit sharma led india match winning streak', 'aegon life iterm insurance plan helps customers save tax', 'have known hirani for yrs what if metoo claims are not true sonam']\n"
          ]
        }
      ],
      "source": [
        "clean_headlines = []\n",
        "# 전체 headlines 데이터에 대한 전처리 : 5분 이상 시간이 걸릴 수 있습니다.\n",
        "for s in data['headlines']:\n",
        "    clean_headlines.append(preprocess_sentence(s, False))\n",
        "\n",
        "print(\"headlines 전처리 후 결과: \", clean_headlines[:5])"
      ]
    },
    {
      "cell_type": "markdown",
      "id": "55d49d76",
      "metadata": {
        "id": "55d49d76"
      },
      "source": [
        "* 전처리 후에, 정제 전에는 데이터가 존재했지만, 정제 과정에서 문장의 모든 단어가 사라지는 경우가 있을 수 있음\n",
        "\n",
        "* 이후 빈(empty) 값을 가진 샘플들이 있다면, 모두 Null 값을 가진 샘플로 대체하고, 결측치 확인"
      ]
    },
    {
      "cell_type": "code",
      "execution_count": null,
      "id": "d4efafdb",
      "metadata": {
        "id": "d4efafdb"
      },
      "outputs": [],
      "source": [
        "data['text'] = clean_text\n",
        "data['headlines'] = clean_headlines\n",
        "\n",
        "# 빈 값을 Null 값으로 변환\n",
        "data.replace('', np.nan, inplace=True)\n",
        "\n",
        "data.isnull().sum()"
      ]
    },
    {
      "cell_type": "markdown",
      "id": "3c732c40",
      "metadata": {
        "id": "3c732c40"
      },
      "source": [
        "결측치 없음"
      ]
    },
    {
      "cell_type": "markdown",
      "source": [
        "- 추후에 Runtime 끊기는 상황을 대비하여, 전처리를 수행한 csv 파일을 따로 저장함"
      ],
      "metadata": {
        "id": "QNY_-7LaBmzR"
      },
      "id": "QNY_-7LaBmzR"
    },
    {
      "cell_type": "code",
      "source": [
        "\n",
        "output_file_path = 'cleaned_data.csv'\n",
        "data.to_csv(output_file_path, index=False)\n",
        "\n",
        "print(\"Data saved to CSV file:\", output_file_path)"
      ],
      "metadata": {
        "colab": {
          "base_uri": "https://localhost:8080/"
        },
        "id": "3o02ff4YBnuZ",
        "outputId": "b20e7bfd-1638-4ef6-e5af-5a1cb0538acd"
      },
      "id": "3o02ff4YBnuZ",
      "execution_count": null,
      "outputs": [
        {
          "output_type": "stream",
          "name": "stdout",
          "text": [
            "Data saved to CSV file: cleaned_data.csv\n"
          ]
        }
      ]
    },
    {
      "cell_type": "code",
      "source": [
        "from google.colab import drive\n",
        "drive.mount('/content/drive')"
      ],
      "metadata": {
        "colab": {
          "base_uri": "https://localhost:8080/"
        },
        "id": "qPIFLKpjQevh",
        "outputId": "016d0a82-bd5b-424e-cde1-a59c610f9ffa"
      },
      "id": "qPIFLKpjQevh",
      "execution_count": null,
      "outputs": [
        {
          "output_type": "stream",
          "name": "stdout",
          "text": [
            "Mounted at /content/drive\n"
          ]
        }
      ]
    },
    {
      "cell_type": "code",
      "source": [
        "# Runtime 끊겼으면 여기서부터 실행\n",
        "\n",
        "input_file = '/content/drive/MyDrive/cleaned_data.csv'\n",
        "data = pd.read_csv(input_file)\n"
      ],
      "metadata": {
        "id": "L5zrdXCcCcN1"
      },
      "id": "L5zrdXCcCcN1",
      "execution_count": null,
      "outputs": []
    },
    {
      "cell_type": "code",
      "source": [
        "data"
      ],
      "metadata": {
        "colab": {
          "base_uri": "https://localhost:8080/",
          "height": 468
        },
        "id": "_OlqDC6aC9ZJ",
        "outputId": "51bc7c83-0685-4de9-a787-78dcc3ef42b0"
      },
      "id": "_OlqDC6aC9ZJ",
      "execution_count": null,
      "outputs": [
        {
          "output_type": "execute_result",
          "data": {
            "text/plain": [
              "                                               headlines  \\\n",
              "0      upgrad learner switches to career in ml al wit...   \n",
              "1      new zealand end rohit sharma led india match w...   \n",
              "2      aegon life iterm insurance plan helps customer...   \n",
              "3      rahat fateh ali khan denies getting notice for...   \n",
              "4      india get all out for their lowest odi total i...   \n",
              "...                                                  ...   \n",
              "96533  crpf jawan axed to death by maoists in chhatti...   \n",
              "96534  first song from sonakshi sinha noor titled uff...   \n",
              "96535              the matrix film to get reboot reports   \n",
              "96536  snoop dogg aims gun at clown dressed as trump ...   \n",
              "96537  madhesi morcha withdraws support to nepalese g...   \n",
              "\n",
              "                                                    text  \\\n",
              "0      saurav kant alumnus upgrad iiit pg program mac...   \n",
              "1      new zealand defeated india wickets fourth odi ...   \n",
              "2      aegon life iterm insurance plan customers enjo...   \n",
              "3      pakistani singer rahat fateh ali khan denied r...   \n",
              "4      india recorded lowest odi total new zealand ge...   \n",
              "...                                                  ...   \n",
              "96533  crpf jawan tuesday axed death sharp edged weap...   \n",
              "96534  uff yeh first song sonakshi sinha starrer upco...   \n",
              "96535  according reports new version science fiction ...   \n",
              "96536  new music video shows rapper snoop dogg aiming...   \n",
              "96537  madhesi morcha alliance seven political partie...   \n",
              "\n",
              "                                           decoder_input  \\\n",
              "0      sostoken upgrad learner switches to career in ...   \n",
              "1      sostoken new zealand end rohit sharma led indi...   \n",
              "2      sostoken aegon life iterm insurance plan helps...   \n",
              "3      sostoken rahat fateh ali khan denies getting n...   \n",
              "4      sostoken india get all out for their lowest od...   \n",
              "...                                                  ...   \n",
              "96533  sostoken crpf jawan axed to death by maoists i...   \n",
              "96534  sostoken first song from sonakshi sinha noor t...   \n",
              "96535     sostoken the matrix film to get reboot reports   \n",
              "96536  sostoken snoop dogg aims gun at clown dressed ...   \n",
              "96537  sostoken madhesi morcha withdraws support to n...   \n",
              "\n",
              "                                          decoder_target  \n",
              "0      upgrad learner switches to career in ml al wit...  \n",
              "1      new zealand end rohit sharma led india match w...  \n",
              "2      aegon life iterm insurance plan helps customer...  \n",
              "3      rahat fateh ali khan denies getting notice for...  \n",
              "4      india get all out for their lowest odi total i...  \n",
              "...                                                  ...  \n",
              "96533  crpf jawan axed to death by maoists in chhatti...  \n",
              "96534  first song from sonakshi sinha noor titled uff...  \n",
              "96535     the matrix film to get reboot reports eostoken  \n",
              "96536  snoop dogg aims gun at clown dressed as trump ...  \n",
              "96537  madhesi morcha withdraws support to nepalese g...  \n",
              "\n",
              "[96538 rows x 4 columns]"
            ],
            "text/html": [
              "\n",
              "\n",
              "  <div id=\"df-74ef8be1-b1d3-4cc3-94d5-418fe2118a7f\">\n",
              "    <div class=\"colab-df-container\">\n",
              "      <div>\n",
              "<style scoped>\n",
              "    .dataframe tbody tr th:only-of-type {\n",
              "        vertical-align: middle;\n",
              "    }\n",
              "\n",
              "    .dataframe tbody tr th {\n",
              "        vertical-align: top;\n",
              "    }\n",
              "\n",
              "    .dataframe thead th {\n",
              "        text-align: right;\n",
              "    }\n",
              "</style>\n",
              "<table border=\"1\" class=\"dataframe\">\n",
              "  <thead>\n",
              "    <tr style=\"text-align: right;\">\n",
              "      <th></th>\n",
              "      <th>headlines</th>\n",
              "      <th>text</th>\n",
              "      <th>decoder_input</th>\n",
              "      <th>decoder_target</th>\n",
              "    </tr>\n",
              "  </thead>\n",
              "  <tbody>\n",
              "    <tr>\n",
              "      <th>0</th>\n",
              "      <td>upgrad learner switches to career in ml al wit...</td>\n",
              "      <td>saurav kant alumnus upgrad iiit pg program mac...</td>\n",
              "      <td>sostoken upgrad learner switches to career in ...</td>\n",
              "      <td>upgrad learner switches to career in ml al wit...</td>\n",
              "    </tr>\n",
              "    <tr>\n",
              "      <th>1</th>\n",
              "      <td>new zealand end rohit sharma led india match w...</td>\n",
              "      <td>new zealand defeated india wickets fourth odi ...</td>\n",
              "      <td>sostoken new zealand end rohit sharma led indi...</td>\n",
              "      <td>new zealand end rohit sharma led india match w...</td>\n",
              "    </tr>\n",
              "    <tr>\n",
              "      <th>2</th>\n",
              "      <td>aegon life iterm insurance plan helps customer...</td>\n",
              "      <td>aegon life iterm insurance plan customers enjo...</td>\n",
              "      <td>sostoken aegon life iterm insurance plan helps...</td>\n",
              "      <td>aegon life iterm insurance plan helps customer...</td>\n",
              "    </tr>\n",
              "    <tr>\n",
              "      <th>3</th>\n",
              "      <td>rahat fateh ali khan denies getting notice for...</td>\n",
              "      <td>pakistani singer rahat fateh ali khan denied r...</td>\n",
              "      <td>sostoken rahat fateh ali khan denies getting n...</td>\n",
              "      <td>rahat fateh ali khan denies getting notice for...</td>\n",
              "    </tr>\n",
              "    <tr>\n",
              "      <th>4</th>\n",
              "      <td>india get all out for their lowest odi total i...</td>\n",
              "      <td>india recorded lowest odi total new zealand ge...</td>\n",
              "      <td>sostoken india get all out for their lowest od...</td>\n",
              "      <td>india get all out for their lowest odi total i...</td>\n",
              "    </tr>\n",
              "    <tr>\n",
              "      <th>...</th>\n",
              "      <td>...</td>\n",
              "      <td>...</td>\n",
              "      <td>...</td>\n",
              "      <td>...</td>\n",
              "    </tr>\n",
              "    <tr>\n",
              "      <th>96533</th>\n",
              "      <td>crpf jawan axed to death by maoists in chhatti...</td>\n",
              "      <td>crpf jawan tuesday axed death sharp edged weap...</td>\n",
              "      <td>sostoken crpf jawan axed to death by maoists i...</td>\n",
              "      <td>crpf jawan axed to death by maoists in chhatti...</td>\n",
              "    </tr>\n",
              "    <tr>\n",
              "      <th>96534</th>\n",
              "      <td>first song from sonakshi sinha noor titled uff...</td>\n",
              "      <td>uff yeh first song sonakshi sinha starrer upco...</td>\n",
              "      <td>sostoken first song from sonakshi sinha noor t...</td>\n",
              "      <td>first song from sonakshi sinha noor titled uff...</td>\n",
              "    </tr>\n",
              "    <tr>\n",
              "      <th>96535</th>\n",
              "      <td>the matrix film to get reboot reports</td>\n",
              "      <td>according reports new version science fiction ...</td>\n",
              "      <td>sostoken the matrix film to get reboot reports</td>\n",
              "      <td>the matrix film to get reboot reports eostoken</td>\n",
              "    </tr>\n",
              "    <tr>\n",
              "      <th>96536</th>\n",
              "      <td>snoop dogg aims gun at clown dressed as trump ...</td>\n",
              "      <td>new music video shows rapper snoop dogg aiming...</td>\n",
              "      <td>sostoken snoop dogg aims gun at clown dressed ...</td>\n",
              "      <td>snoop dogg aims gun at clown dressed as trump ...</td>\n",
              "    </tr>\n",
              "    <tr>\n",
              "      <th>96537</th>\n",
              "      <td>madhesi morcha withdraws support to nepalese g...</td>\n",
              "      <td>madhesi morcha alliance seven political partie...</td>\n",
              "      <td>sostoken madhesi morcha withdraws support to n...</td>\n",
              "      <td>madhesi morcha withdraws support to nepalese g...</td>\n",
              "    </tr>\n",
              "  </tbody>\n",
              "</table>\n",
              "<p>96538 rows × 4 columns</p>\n",
              "</div>\n",
              "      <button class=\"colab-df-convert\" onclick=\"convertToInteractive('df-74ef8be1-b1d3-4cc3-94d5-418fe2118a7f')\"\n",
              "              title=\"Convert this dataframe to an interactive table.\"\n",
              "              style=\"display:none;\">\n",
              "\n",
              "  <svg xmlns=\"http://www.w3.org/2000/svg\" height=\"24px\"viewBox=\"0 0 24 24\"\n",
              "       width=\"24px\">\n",
              "    <path d=\"M0 0h24v24H0V0z\" fill=\"none\"/>\n",
              "    <path d=\"M18.56 5.44l.94 2.06.94-2.06 2.06-.94-2.06-.94-.94-2.06-.94 2.06-2.06.94zm-11 1L8.5 8.5l.94-2.06 2.06-.94-2.06-.94L8.5 2.5l-.94 2.06-2.06.94zm10 10l.94 2.06.94-2.06 2.06-.94-2.06-.94-.94-2.06-.94 2.06-2.06.94z\"/><path d=\"M17.41 7.96l-1.37-1.37c-.4-.4-.92-.59-1.43-.59-.52 0-1.04.2-1.43.59L10.3 9.45l-7.72 7.72c-.78.78-.78 2.05 0 2.83L4 21.41c.39.39.9.59 1.41.59.51 0 1.02-.2 1.41-.59l7.78-7.78 2.81-2.81c.8-.78.8-2.07 0-2.86zM5.41 20L4 18.59l7.72-7.72 1.47 1.35L5.41 20z\"/>\n",
              "  </svg>\n",
              "      </button>\n",
              "\n",
              "\n",
              "\n",
              "    <div id=\"df-33ff645b-6899-4551-8e05-693afcf7d715\">\n",
              "      <button class=\"colab-df-quickchart\" onclick=\"quickchart('df-33ff645b-6899-4551-8e05-693afcf7d715')\"\n",
              "              title=\"Suggest charts.\"\n",
              "              style=\"display:none;\">\n",
              "\n",
              "<svg xmlns=\"http://www.w3.org/2000/svg\" height=\"24px\"viewBox=\"0 0 24 24\"\n",
              "     width=\"24px\">\n",
              "    <g>\n",
              "        <path d=\"M19 3H5c-1.1 0-2 .9-2 2v14c0 1.1.9 2 2 2h14c1.1 0 2-.9 2-2V5c0-1.1-.9-2-2-2zM9 17H7v-7h2v7zm4 0h-2V7h2v10zm4 0h-2v-4h2v4z\"/>\n",
              "    </g>\n",
              "</svg>\n",
              "      </button>\n",
              "    </div>\n",
              "\n",
              "<style>\n",
              "  .colab-df-quickchart {\n",
              "    background-color: #E8F0FE;\n",
              "    border: none;\n",
              "    border-radius: 50%;\n",
              "    cursor: pointer;\n",
              "    display: none;\n",
              "    fill: #1967D2;\n",
              "    height: 32px;\n",
              "    padding: 0 0 0 0;\n",
              "    width: 32px;\n",
              "  }\n",
              "\n",
              "  .colab-df-quickchart:hover {\n",
              "    background-color: #E2EBFA;\n",
              "    box-shadow: 0px 1px 2px rgba(60, 64, 67, 0.3), 0px 1px 3px 1px rgba(60, 64, 67, 0.15);\n",
              "    fill: #174EA6;\n",
              "  }\n",
              "\n",
              "  [theme=dark] .colab-df-quickchart {\n",
              "    background-color: #3B4455;\n",
              "    fill: #D2E3FC;\n",
              "  }\n",
              "\n",
              "  [theme=dark] .colab-df-quickchart:hover {\n",
              "    background-color: #434B5C;\n",
              "    box-shadow: 0px 1px 3px 1px rgba(0, 0, 0, 0.15);\n",
              "    filter: drop-shadow(0px 1px 2px rgba(0, 0, 0, 0.3));\n",
              "    fill: #FFFFFF;\n",
              "  }\n",
              "</style>\n",
              "\n",
              "    <script>\n",
              "      async function quickchart(key) {\n",
              "        const containerElement = document.querySelector('#' + key);\n",
              "        const charts = await google.colab.kernel.invokeFunction(\n",
              "            'suggestCharts', [key], {});\n",
              "      }\n",
              "    </script>\n",
              "\n",
              "      <script>\n",
              "\n",
              "function displayQuickchartButton(domScope) {\n",
              "  let quickchartButtonEl =\n",
              "    domScope.querySelector('#df-33ff645b-6899-4551-8e05-693afcf7d715 button.colab-df-quickchart');\n",
              "  quickchartButtonEl.style.display =\n",
              "    google.colab.kernel.accessAllowed ? 'block' : 'none';\n",
              "}\n",
              "\n",
              "        displayQuickchartButton(document);\n",
              "      </script>\n",
              "      <style>\n",
              "    .colab-df-container {\n",
              "      display:flex;\n",
              "      flex-wrap:wrap;\n",
              "      gap: 12px;\n",
              "    }\n",
              "\n",
              "    .colab-df-convert {\n",
              "      background-color: #E8F0FE;\n",
              "      border: none;\n",
              "      border-radius: 50%;\n",
              "      cursor: pointer;\n",
              "      display: none;\n",
              "      fill: #1967D2;\n",
              "      height: 32px;\n",
              "      padding: 0 0 0 0;\n",
              "      width: 32px;\n",
              "    }\n",
              "\n",
              "    .colab-df-convert:hover {\n",
              "      background-color: #E2EBFA;\n",
              "      box-shadow: 0px 1px 2px rgba(60, 64, 67, 0.3), 0px 1px 3px 1px rgba(60, 64, 67, 0.15);\n",
              "      fill: #174EA6;\n",
              "    }\n",
              "\n",
              "    [theme=dark] .colab-df-convert {\n",
              "      background-color: #3B4455;\n",
              "      fill: #D2E3FC;\n",
              "    }\n",
              "\n",
              "    [theme=dark] .colab-df-convert:hover {\n",
              "      background-color: #434B5C;\n",
              "      box-shadow: 0px 1px 3px 1px rgba(0, 0, 0, 0.15);\n",
              "      filter: drop-shadow(0px 1px 2px rgba(0, 0, 0, 0.3));\n",
              "      fill: #FFFFFF;\n",
              "    }\n",
              "  </style>\n",
              "\n",
              "      <script>\n",
              "        const buttonEl =\n",
              "          document.querySelector('#df-74ef8be1-b1d3-4cc3-94d5-418fe2118a7f button.colab-df-convert');\n",
              "        buttonEl.style.display =\n",
              "          google.colab.kernel.accessAllowed ? 'block' : 'none';\n",
              "\n",
              "        async function convertToInteractive(key) {\n",
              "          const element = document.querySelector('#df-74ef8be1-b1d3-4cc3-94d5-418fe2118a7f');\n",
              "          const dataTable =\n",
              "            await google.colab.kernel.invokeFunction('convertToInteractive',\n",
              "                                                     [key], {});\n",
              "          if (!dataTable) return;\n",
              "\n",
              "          const docLinkHtml = 'Like what you see? Visit the ' +\n",
              "            '<a target=\"_blank\" href=https://colab.research.google.com/notebooks/data_table.ipynb>data table notebook</a>'\n",
              "            + ' to learn more about interactive tables.';\n",
              "          element.innerHTML = '';\n",
              "          dataTable['output_type'] = 'display_data';\n",
              "          await google.colab.output.renderOutput(dataTable, element);\n",
              "          const docLink = document.createElement('div');\n",
              "          docLink.innerHTML = docLinkHtml;\n",
              "          element.appendChild(docLink);\n",
              "        }\n",
              "      </script>\n",
              "    </div>\n",
              "  </div>\n"
            ]
          },
          "metadata": {},
          "execution_count": 6
        }
      ]
    },
    {
      "cell_type": "markdown",
      "id": "45b41035",
      "metadata": {
        "id": "45b41035"
      },
      "source": [
        "## 모델 학습을 위한 데이터 처리\n"
      ]
    },
    {
      "cell_type": "markdown",
      "source": [
        "\n",
        "### text , headlines 의 최대 길이 지정\n"
      ],
      "metadata": {
        "id": "tIhK90JF9tbN"
      },
      "id": "tIhK90JF9tbN"
    },
    {
      "cell_type": "markdown",
      "source": [
        "- 훈련에 사용할 샘플의 최대 길이를 정해주기 위해서`text` 와 `headlines` 의 최소, 최대, 평균 길이를 구하고 길이 분포를 시각화해봄"
      ],
      "metadata": {
        "id": "JlmFpdFb95TE"
      },
      "id": "JlmFpdFb95TE"
    },
    {
      "cell_type": "code",
      "execution_count": null,
      "id": "e947ca98",
      "metadata": {
        "colab": {
          "base_uri": "https://localhost:8080/",
          "height": 1000
        },
        "id": "e947ca98",
        "outputId": "3a234d04-d5d9-4a30-a4b8-6f113fad8dfd"
      },
      "outputs": [
        {
          "output_type": "stream",
          "name": "stdout",
          "text": [
            "text 의 최소 길이 : 1\n",
            "text 의 최대 길이 : 44\n",
            "text 의 평균 길이 : 35.036607346329944\n",
            "headlines 의 최소 길이 : 1\n",
            "headlines 의 최대 길이 : 12\n",
            "headlines 의 평균 길이 : 9.251455385444073\n"
          ]
        },
        {
          "output_type": "display_data",
          "data": {
            "text/plain": [
              "<Figure size 640x480 with 2 Axes>"
            ],
            "image/png": "[encoded data removed]"
          },
          "metadata": {}
        },
        {
          "output_type": "display_data",
          "data": {
            "text/plain": [
              "<Figure size 640x480 with 1 Axes>"
            ],
            "image/png": "[encoded data removed]"
          },
          "metadata": {}
        },
        {
          "output_type": "display_data",
          "data": {
            "text/plain": [
              "<Figure size 640x480 with 1 Axes>"
            ],
            "image/png": "[encoded data removed]"
          },
          "metadata": {}
        }
      ],
      "source": [
        "# 길이 분포 출력\n",
        "import matplotlib.pyplot as plt\n",
        "\n",
        "text_len = [len(s.split()) for s in data['text']]\n",
        "headlines_len = [len(s.split()) for s in data['headlines']]\n",
        "\n",
        "print('text 의 최소 길이 : {}'.format(np.min(text_len)))\n",
        "print('text 의 최대 길이 : {}'.format(np.max(text_len)))\n",
        "print('text 의 평균 길이 : {}'.format(np.mean(text_len)))\n",
        "print('headlines 의 최소 길이 : {}'.format(np.min(headlines_len)))\n",
        "print('headlines 의 최대 길이 : {}'.format(np.max(headlines_len)))\n",
        "print('headlines 의 평균 길이 : {}'.format(np.mean(headlines_len)))\n",
        "\n",
        "plt.subplot(1,2,1)\n",
        "plt.boxplot(headlines_len)\n",
        "plt.title('headlines')\n",
        "plt.subplot(1,2,2)\n",
        "plt.boxplot(text_len)\n",
        "plt.title('text')\n",
        "plt.tight_layout()\n",
        "plt.show()\n",
        "\n",
        "plt.title('headlines')\n",
        "plt.hist(headlines_len, bins = 40)\n",
        "plt.xlabel('length of samples')\n",
        "plt.ylabel('number of samples')\n",
        "plt.show()\n",
        "\n",
        "plt.title('text')\n",
        "plt.hist(text_len, bins = 40)\n",
        "plt.xlabel('length of samples')\n",
        "plt.ylabel('number of samples')\n",
        "plt.show()"
      ]
    },
    {
      "cell_type": "markdown",
      "id": "18ba94bf",
      "metadata": {
        "id": "18ba94bf"
      },
      "source": [
        "[시각화 결과 분석]\n",
        "* `text`의 경우, 대체적으로 25 ~ 45 사이의 길이 분포를 구성\n",
        "* `headlines`의 경우, 대체적으로 6 ~ 13 사이의 길이 분 구성\n",
        "\n",
        "* text와 headlines의 적절한 최대 길이를 44 와 12 로 임의로 설정했음."
      ]
    },
    {
      "cell_type": "code",
      "execution_count": null,
      "id": "cc1255f5",
      "metadata": {
        "id": "cc1255f5"
      },
      "outputs": [],
      "source": [
        "text_max_len = 44\n",
        "headlines_max_len = 12"
      ]
    },
    {
      "cell_type": "code",
      "execution_count": null,
      "id": "ed6d54ce",
      "metadata": {
        "id": "ed6d54ce"
      },
      "outputs": [],
      "source": [
        "def below_threshold_len(max_len, nested_list):  # 데이터의 몇 %가 해당하는지 계산하는 함수\n",
        "  cnt = 0\n",
        "  for s in nested_list:\n",
        "    if(len(s.split()) <= max_len):\n",
        "        cnt = cnt + 1\n",
        "  print('전체 샘플 중 길이가 %s 이하인 샘플의 비율: %s'%(max_len, (cnt / len(nested_list))))"
      ]
    },
    {
      "cell_type": "code",
      "execution_count": null,
      "id": "f8227366",
      "metadata": {
        "colab": {
          "base_uri": "https://localhost:8080/"
        },
        "id": "f8227366",
        "outputId": "68132fe7-0ac4-4dec-e620-32d264437d11"
      },
      "outputs": [
        {
          "output_type": "stream",
          "name": "stdout",
          "text": [
            "전체 샘플 중 길이가 44 이하인 샘플의 비율: 1.0\n",
            "전체 샘플 중 길이가 12 이하인 샘플의 비율: 1.0\n"
          ]
        }
      ],
      "source": [
        "below_threshold_len(text_max_len, data['text'])\n",
        "below_threshold_len(headlines_max_len,  data['headlines'])"
      ]
    },
    {
      "cell_type": "markdown",
      "source": [
        "- 최대 길이 적용\n"
      ],
      "metadata": {
        "id": "bFXyH-cd-9a5"
      },
      "id": "bFXyH-cd-9a5"
    },
    {
      "cell_type": "code",
      "execution_count": null,
      "id": "7e0df2d0",
      "metadata": {
        "colab": {
          "base_uri": "https://localhost:8080/"
        },
        "id": "7e0df2d0",
        "outputId": "caf85668-9e4c-40f4-ac81-c0c9bd61dcd6"
      },
      "outputs": [
        {
          "output_type": "stream",
          "name": "stdout",
          "text": [
            "전체 샘플 수 : 96538\n"
          ]
        }
      ],
      "source": [
        "data = data[data['text'].apply(lambda x: len(x.split()) <= text_max_len)]\n",
        "data = data[data['headlines'].apply(lambda x: len(x.split()) <= headlines_max_len)]\n",
        "print('전체 샘플 수 :',(len(data)))"
      ]
    },
    {
      "cell_type": "markdown",
      "id": "44a4a709",
      "metadata": {
        "id": "44a4a709"
      },
      "source": [
        "### decoder 입출력을 위한 칼럼 생성(시작 토큰, 종료 토큰 추가 된 데이터 생성)\n"
      ]
    },
    {
      "cell_type": "markdown",
      "source": [
        "![image.png](data:image/png;base64,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)"
      ],
      "metadata": {
        "id": "mmgj_Zvir4Sf"
      },
      "id": "mmgj_Zvir4Sf"
    },
    {
      "cell_type": "markdown",
      "source": [
        "- Decoder 는 시작 토큰을 입력받아 문장을 생성하기 시작하고, 종료 토큰을 예측한 순간 문장 생성을 멈춘다.\n",
        "- 즉, seq2seq 훈련을 위해서는 Decoder 의 입력(decoder_input)과 출력(decoder_target) 에 시작 토큰과 종료 토큰을 추가해줘야함\n",
        "- decoder_input 의 맨 앞에 시작 토큰 (sostoken)\n",
        "- decoder_target 의 맨 뒤에 종료 토큰 (eostoken)\n",
        "\n",
        "  (start of a sequence와 end of a sequence)"
      ],
      "metadata": {
        "id": "AFSkb917r5hw"
      },
      "id": "AFSkb917r5hw"
    },
    {
      "cell_type": "code",
      "execution_count": null,
      "id": "34b5dd39",
      "metadata": {
        "colab": {
          "base_uri": "https://localhost:8080/",
          "height": 206
        },
        "id": "34b5dd39",
        "outputId": "2e381cb9-360e-4211-b635-96fde7c01e79"
      },
      "outputs": [
        {
          "output_type": "execute_result",
          "data": {
            "text/plain": [
              "                                           headlines  \\\n",
              "0  upgrad learner switches to career in ml al wit...   \n",
              "1  new zealand end rohit sharma led india match w...   \n",
              "2  aegon life iterm insurance plan helps customer...   \n",
              "3  rahat fateh ali khan denies getting notice for...   \n",
              "4  india get all out for their lowest odi total i...   \n",
              "\n",
              "                                                text  \\\n",
              "0  saurav kant alumnus upgrad iiit pg program mac...   \n",
              "1  new zealand defeated india wickets fourth odi ...   \n",
              "2  aegon life iterm insurance plan customers enjo...   \n",
              "3  pakistani singer rahat fateh ali khan denied r...   \n",
              "4  india recorded lowest odi total new zealand ge...   \n",
              "\n",
              "                                       decoder_input  \\\n",
              "0  sostoken upgrad learner switches to career in ...   \n",
              "1  sostoken new zealand end rohit sharma led indi...   \n",
              "2  sostoken aegon life iterm insurance plan helps...   \n",
              "3  sostoken rahat fateh ali khan denies getting n...   \n",
              "4  sostoken india get all out for their lowest od...   \n",
              "\n",
              "                                      decoder_target  \n",
              "0  upgrad learner switches to career in ml al wit...  \n",
              "1  new zealand end rohit sharma led india match w...  \n",
              "2  aegon life iterm insurance plan helps customer...  \n",
              "3  rahat fateh ali khan denies getting notice for...  \n",
              "4  india get all out for their lowest odi total i...  "
            ],
            "text/html": [
              "\n",
              "\n",
              "  <div id=\"df-fe5d8956-e8a3-4e0f-8980-182d7a8b2fcd\">\n",
              "    <div class=\"colab-df-container\">\n",
              "      <div>\n",
              "<style scoped>\n",
              "    .dataframe tbody tr th:only-of-type {\n",
              "        vertical-align: middle;\n",
              "    }\n",
              "\n",
              "    .dataframe tbody tr th {\n",
              "        vertical-align: top;\n",
              "    }\n",
              "\n",
              "    .dataframe thead th {\n",
              "        text-align: right;\n",
              "    }\n",
              "</style>\n",
              "<table border=\"1\" class=\"dataframe\">\n",
              "  <thead>\n",
              "    <tr style=\"text-align: right;\">\n",
              "      <th></th>\n",
              "      <th>headlines</th>\n",
              "      <th>text</th>\n",
              "      <th>decoder_input</th>\n",
              "      <th>decoder_target</th>\n",
              "    </tr>\n",
              "  </thead>\n",
              "  <tbody>\n",
              "    <tr>\n",
              "      <th>0</th>\n",
              "      <td>upgrad learner switches to career in ml al wit...</td>\n",
              "      <td>saurav kant alumnus upgrad iiit pg program mac...</td>\n",
              "      <td>sostoken upgrad learner switches to career in ...</td>\n",
              "      <td>upgrad learner switches to career in ml al wit...</td>\n",
              "    </tr>\n",
              "    <tr>\n",
              "      <th>1</th>\n",
              "      <td>new zealand end rohit sharma led india match w...</td>\n",
              "      <td>new zealand defeated india wickets fourth odi ...</td>\n",
              "      <td>sostoken new zealand end rohit sharma led indi...</td>\n",
              "      <td>new zealand end rohit sharma led india match w...</td>\n",
              "    </tr>\n",
              "    <tr>\n",
              "      <th>2</th>\n",
              "      <td>aegon life iterm insurance plan helps customer...</td>\n",
              "      <td>aegon life iterm insurance plan customers enjo...</td>\n",
              "      <td>sostoken aegon life iterm insurance plan helps...</td>\n",
              "      <td>aegon life iterm insurance plan helps customer...</td>\n",
              "    </tr>\n",
              "    <tr>\n",
              "      <th>3</th>\n",
              "      <td>rahat fateh ali khan denies getting notice for...</td>\n",
              "      <td>pakistani singer rahat fateh ali khan denied r...</td>\n",
              "      <td>sostoken rahat fateh ali khan denies getting n...</td>\n",
              "      <td>rahat fateh ali khan denies getting notice for...</td>\n",
              "    </tr>\n",
              "    <tr>\n",
              "      <th>4</th>\n",
              "      <td>india get all out for their lowest odi total i...</td>\n",
              "      <td>india recorded lowest odi total new zealand ge...</td>\n",
              "      <td>sostoken india get all out for their lowest od...</td>\n",
              "      <td>india get all out for their lowest odi total i...</td>\n",
              "    </tr>\n",
              "  </tbody>\n",
              "</table>\n",
              "</div>\n",
              "      <button class=\"colab-df-convert\" onclick=\"convertToInteractive('df-fe5d8956-e8a3-4e0f-8980-182d7a8b2fcd')\"\n",
              "              title=\"Convert this dataframe to an interactive table.\"\n",
              "              style=\"display:none;\">\n",
              "\n",
              "  <svg xmlns=\"http://www.w3.org/2000/svg\" height=\"24px\"viewBox=\"0 0 24 24\"\n",
              "       width=\"24px\">\n",
              "    <path d=\"M0 0h24v24H0V0z\" fill=\"none\"/>\n",
              "    <path d=\"M18.56 5.44l.94 2.06.94-2.06 2.06-.94-2.06-.94-.94-2.06-.94 2.06-2.06.94zm-11 1L8.5 8.5l.94-2.06 2.06-.94-2.06-.94L8.5 2.5l-.94 2.06-2.06.94zm10 10l.94 2.06.94-2.06 2.06-.94-2.06-.94-.94-2.06-.94 2.06-2.06.94z\"/><path d=\"M17.41 7.96l-1.37-1.37c-.4-.4-.92-.59-1.43-.59-.52 0-1.04.2-1.43.59L10.3 9.45l-7.72 7.72c-.78.78-.78 2.05 0 2.83L4 21.41c.39.39.9.59 1.41.59.51 0 1.02-.2 1.41-.59l7.78-7.78 2.81-2.81c.8-.78.8-2.07 0-2.86zM5.41 20L4 18.59l7.72-7.72 1.47 1.35L5.41 20z\"/>\n",
              "  </svg>\n",
              "      </button>\n",
              "\n",
              "\n",
              "\n",
              "    <div id=\"df-269db645-34b1-43f5-bb60-b42157ea89b5\">\n",
              "      <button class=\"colab-df-quickchart\" onclick=\"quickchart('df-269db645-34b1-43f5-bb60-b42157ea89b5')\"\n",
              "              title=\"Suggest charts.\"\n",
              "              style=\"display:none;\">\n",
              "\n",
              "<svg xmlns=\"http://www.w3.org/2000/svg\" height=\"24px\"viewBox=\"0 0 24 24\"\n",
              "     width=\"24px\">\n",
              "    <g>\n",
              "        <path d=\"M19 3H5c-1.1 0-2 .9-2 2v14c0 1.1.9 2 2 2h14c1.1 0 2-.9 2-2V5c0-1.1-.9-2-2-2zM9 17H7v-7h2v7zm4 0h-2V7h2v10zm4 0h-2v-4h2v4z\"/>\n",
              "    </g>\n",
              "</svg>\n",
              "      </button>\n",
              "    </div>\n",
              "\n",
              "<style>\n",
              "  .colab-df-quickchart {\n",
              "    background-color: #E8F0FE;\n",
              "    border: none;\n",
              "    border-radius: 50%;\n",
              "    cursor: pointer;\n",
              "    display: none;\n",
              "    fill: #1967D2;\n",
              "    height: 32px;\n",
              "    padding: 0 0 0 0;\n",
              "    width: 32px;\n",
              "  }\n",
              "\n",
              "  .colab-df-quickchart:hover {\n",
              "    background-color: #E2EBFA;\n",
              "    box-shadow: 0px 1px 2px rgba(60, 64, 67, 0.3), 0px 1px 3px 1px rgba(60, 64, 67, 0.15);\n",
              "    fill: #174EA6;\n",
              "  }\n",
              "\n",
              "  [theme=dark] .colab-df-quickchart {\n",
              "    background-color: #3B4455;\n",
              "    fill: #D2E3FC;\n",
              "  }\n",
              "\n",
              "  [theme=dark] .colab-df-quickchart:hover {\n",
              "    background-color: #434B5C;\n",
              "    box-shadow: 0px 1px 3px 1px rgba(0, 0, 0, 0.15);\n",
              "    filter: drop-shadow(0px 1px 2px rgba(0, 0, 0, 0.3));\n",
              "    fill: #FFFFFF;\n",
              "  }\n",
              "</style>\n",
              "\n",
              "    <script>\n",
              "      async function quickchart(key) {\n",
              "        const containerElement = document.querySelector('#' + key);\n",
              "        const charts = await google.colab.kernel.invokeFunction(\n",
              "            'suggestCharts', [key], {});\n",
              "      }\n",
              "    </script>\n",
              "\n",
              "      <script>\n",
              "\n",
              "function displayQuickchartButton(domScope) {\n",
              "  let quickchartButtonEl =\n",
              "    domScope.querySelector('#df-269db645-34b1-43f5-bb60-b42157ea89b5 button.colab-df-quickchart');\n",
              "  quickchartButtonEl.style.display =\n",
              "    google.colab.kernel.accessAllowed ? 'block' : 'none';\n",
              "}\n",
              "\n",
              "        displayQuickchartButton(document);\n",
              "      </script>\n",
              "      <style>\n",
              "    .colab-df-container {\n",
              "      display:flex;\n",
              "      flex-wrap:wrap;\n",
              "      gap: 12px;\n",
              "    }\n",
              "\n",
              "    .colab-df-convert {\n",
              "      background-color: #E8F0FE;\n",
              "      border: none;\n",
              "      border-radius: 50%;\n",
              "      cursor: pointer;\n",
              "      display: none;\n",
              "      fill: #1967D2;\n",
              "      height: 32px;\n",
              "      padding: 0 0 0 0;\n",
              "      width: 32px;\n",
              "    }\n",
              "\n",
              "    .colab-df-convert:hover {\n",
              "      background-color: #E2EBFA;\n",
              "      box-shadow: 0px 1px 2px rgba(60, 64, 67, 0.3), 0px 1px 3px 1px rgba(60, 64, 67, 0.15);\n",
              "      fill: #174EA6;\n",
              "    }\n",
              "\n",
              "    [theme=dark] .colab-df-convert {\n",
              "      background-color: #3B4455;\n",
              "      fill: #D2E3FC;\n",
              "    }\n",
              "\n",
              "    [theme=dark] .colab-df-convert:hover {\n",
              "      background-color: #434B5C;\n",
              "      box-shadow: 0px 1px 3px 1px rgba(0, 0, 0, 0.15);\n",
              "      filter: drop-shadow(0px 1px 2px rgba(0, 0, 0, 0.3));\n",
              "      fill: #FFFFFF;\n",
              "    }\n",
              "  </style>\n",
              "\n",
              "      <script>\n",
              "        const buttonEl =\n",
              "          document.querySelector('#df-fe5d8956-e8a3-4e0f-8980-182d7a8b2fcd button.colab-df-convert');\n",
              "        buttonEl.style.display =\n",
              "          google.colab.kernel.accessAllowed ? 'block' : 'none';\n",
              "\n",
              "        async function convertToInteractive(key) {\n",
              "          const element = document.querySelector('#df-fe5d8956-e8a3-4e0f-8980-182d7a8b2fcd');\n",
              "          const dataTable =\n",
              "            await google.colab.kernel.invokeFunction('convertToInteractive',\n",
              "                                                     [key], {});\n",
              "          if (!dataTable) return;\n",
              "\n",
              "          const docLinkHtml = 'Like what you see? Visit the ' +\n",
              "            '<a target=\"_blank\" href=https://colab.research.google.com/notebooks/data_table.ipynb>data table notebook</a>'\n",
              "            + ' to learn more about interactive tables.';\n",
              "          element.innerHTML = '';\n",
              "          dataTable['output_type'] = 'display_data';\n",
              "          await google.colab.output.renderOutput(dataTable, element);\n",
              "          const docLink = document.createElement('div');\n",
              "          docLink.innerHTML = docLinkHtml;\n",
              "          element.appendChild(docLink);\n",
              "        }\n",
              "      </script>\n",
              "    </div>\n",
              "  </div>\n"
            ]
          },
          "metadata": {},
          "execution_count": 12
        }
      ],
      "source": [
        "data['decoder_input'] = data['headlines'].apply(lambda x : 'sostoken '+ x)\n",
        "data['decoder_target'] = data['headlines'].apply(lambda x : x + ' eostoken')\n",
        "data.head()"
      ]
    },
    {
      "cell_type": "markdown",
      "id": "bb282e38",
      "metadata": {
        "id": "bb282e38"
      },
      "source": [
        "### encoder, decoder 입출력 값 생성 (numpy) 및 데이터 고르게 섞기\n"
      ]
    },
    {
      "cell_type": "code",
      "execution_count": null,
      "id": "ef7a27ff",
      "metadata": {
        "colab": {
          "base_uri": "https://localhost:8080/"
        },
        "id": "ef7a27ff",
        "outputId": "bc8bf4a4-e392-4fdb-8f9d-8c5902765574"
      },
      "outputs": [
        {
          "output_type": "stream",
          "name": "stdout",
          "text": [
            "Before Shuffling : \n",
            "['saurav kant alumnus upgrad iiit pg program machine learning artificial intelligence sr systems engineer infosys almost years work experience program upgrad degree career support helped transition data scientist tech mahindra salary hike upgrad online power learning powered lakh careers'\n",
            " 'new zealand defeated india wickets fourth odi hamilton thursday win first match five match odi series india lost international match rohit sharma captaincy consecutive victories dating back march match witnessed india getting seventh lowest total odi cricket history'\n",
            " 'aegon life iterm insurance plan customers enjoy tax benefits premiums paid save taxes plan provides life cover age years also customers options insure critical illnesses disability accidental death benefit rider life cover age years'\n",
            " 'pakistani singer rahat fateh ali khan denied receiving notice enforcement directorate allegedly smuggling foreign currency india would better authorities would served notice first publicised reads press release issued behalf rahat statement called allegation bizarre'\n",
            " 'india recorded lowest odi total new zealand getting runs overs fourth odi hamilton thursday seven india batsmen dismissed single digit scores number ten batsman yuzvendra chahal top scored india previous lowest odi total new zealand']\n",
            "['sostoken upgrad learner switches to career in ml al with salary hike'\n",
            " 'sostoken new zealand end rohit sharma led india match winning streak'\n",
            " 'sostoken aegon life iterm insurance plan helps customers save tax'\n",
            " 'sostoken rahat fateh ali khan denies getting notice for smuggling currency'\n",
            " 'sostoken india get all out for their lowest odi total in new zealand']\n",
            "['upgrad learner switches to career in ml al with salary hike eostoken'\n",
            " 'new zealand end rohit sharma led india match winning streak eostoken'\n",
            " 'aegon life iterm insurance plan helps customers save tax eostoken'\n",
            " 'rahat fateh ali khan denies getting notice for smuggling currency eostoken'\n",
            " 'india get all out for their lowest odi total in new zealand eostoken']\n",
            "\n",
            " After Shuffling : \n",
            "['kolkata knight riders rounder andre russell took instagram share video india world cup winners shubman gill kamlesh nagarkoti dancing chammak challo shah rukh khan year old rounder smashed kkr second match ipl captioned video fun time boss srk'\n",
            " 'parag sanghvi known producing films like partner attacks summoned thane police connection ipl betting case comes actor producer arbaaz khan confessed betting ipl days arrest dawood ibrahim linked bookie sonu jalan arbaaz admitted placing bets'\n",
            " 'dolphin died tourists spain took water posed pictures dolphin reportedly young enough reliant mother milk crowding round touch take photos provokes shock greatly accelerates cardio respiratory failure exactly happened case animal rescue ngo equinac said'\n",
            " 'us president donald trump met pen pineapple apple pen singer pikotaro japan tour monday pikotaro whose song ppap went viral reportedly chosen perform trump japanese pm shinzo abe wanted keep mood upbeat pikotaro wearing leopard print outfit said valuable experience life today'\n",
            " 'online video game fortnite parent company epic games acquired kamu helsinki based company offers anti cheating security services acquisition allow epic games establish presence helsinki kamu continue support customers epic okay ongoing cheating copyright infringement anyone age company said earlier']\n",
            "['sostoken srk dances on chammak challo with russell india stars'\n",
            " 'sostoken after arbaaz partner producer summoned for ipl betting'\n",
            " 'sostoken dolphin dies after tourists pose for pictures with it'\n",
            " 'sostoken donald trump meets pen pineapple apple pen singer in japan'\n",
            " 'sostoken fortnite parent epic games buys anti cheating company kamu']\n",
            "['srk dances on chammak challo with russell india stars eostoken'\n",
            " 'after arbaaz partner producer summoned for ipl betting eostoken'\n",
            " 'dolphin dies after tourists pose for pictures with it eostoken'\n",
            " 'donald trump meets pen pineapple apple pen singer in japan eostoken'\n",
            " 'fortnite parent epic games buys anti cheating company kamu eostoken']\n"
          ]
        }
      ],
      "source": [
        "# 인코더의 입력, 디코더의 입력과 레이블을 각각 다시 Numpy 타입으로 저장\n",
        "encoder_input = np.array(data['text']) # 인코더의 입력\n",
        "decoder_input = np.array(data['decoder_input']) # 디코더의 입력\n",
        "decoder_target = np.array(data['decoder_target']) # 디코더의 레이블\n",
        "\n",
        "indices = np.arange(encoder_input.shape[0])\n",
        "np.random.shuffle(indices)\n",
        "\n",
        "\n",
        "print(\"Before Shuffling : \")\n",
        "print(encoder_input[0:5])\n",
        "print(decoder_input[0:5])\n",
        "print(decoder_target[0:5])\n",
        "\n",
        "encoder_input = encoder_input[indices]\n",
        "decoder_input = decoder_input[indices]\n",
        "decoder_target = decoder_target[indices]\n",
        "\n",
        "print(\"\\n After Shuffling : \")\n",
        "print(encoder_input[0:5])\n",
        "print(decoder_input[0:5])\n",
        "print(decoder_target[0:5])"
      ]
    },
    {
      "cell_type": "markdown",
      "id": "db3a1592",
      "metadata": {
        "id": "db3a1592"
      },
      "source": [
        "### train test split\n",
        "\n"
      ]
    },
    {
      "cell_type": "markdown",
      "source": [
        "\n",
        "* 섞인 데이터를 8:2의 비율로 훈련 데이터와 테스트 데이터로 분리할 예정\n",
        "* 전체 데이터 크기에 0.2를 곱하여, 테스트 데이터의 크기를 정의\n",
        "* 앞서 정의한 테스트 데이터의 갯수를 이용하여 전체 데이터를 훈련 데이터와 테스트 데이터로 양분\n",
        "* 총 훈련 데이터는 77,231개이고, 테스트 데이터는 19,307개"
      ],
      "metadata": {
        "id": "TJAKgVg9ElMj"
      },
      "id": "TJAKgVg9ElMj"
    },
    {
      "cell_type": "code",
      "execution_count": null,
      "id": "6e014076",
      "metadata": {
        "colab": {
          "base_uri": "https://localhost:8080/"
        },
        "id": "6e014076",
        "outputId": "e6eace75-8e1d-4bc8-cbf8-6eede3d9cf2e"
      },
      "outputs": [
        {
          "output_type": "stream",
          "name": "stdout",
          "text": [
            "테스트 데이터의 수 : 19307\n",
            "훈련 데이터의 개수 : 77231\n",
            "훈련 레이블의 개수 : 77231\n",
            "테스트 데이터의 개수 : 19307\n",
            "테스트 레이블의 개수 : 19307\n"
          ]
        }
      ],
      "source": [
        "n_of_val = int(len(encoder_input)*0.2)\n",
        "print('테스트 데이터의 수 :', n_of_val)\n",
        "\n",
        "encoder_input_train = encoder_input[:-n_of_val]\n",
        "decoder_input_train = decoder_input[:-n_of_val]\n",
        "decoder_target_train = decoder_target[:-n_of_val]\n",
        "\n",
        "encoder_input_test = encoder_input[-n_of_val:]\n",
        "decoder_input_test = decoder_input[-n_of_val:]\n",
        "decoder_target_test = decoder_target[-n_of_val:]\n",
        "\n",
        "print('훈련 데이터의 개수 :', len(encoder_input_train))\n",
        "print('훈련 레이블의 개수 :', len(decoder_input_train))\n",
        "print('테스트 데이터의 개수 :', len(encoder_input_test))\n",
        "print('테스트 레이블의 개수 :', len(decoder_input_test))"
      ]
    },
    {
      "cell_type": "markdown",
      "id": "b4c49d9f",
      "metadata": {
        "id": "b4c49d9f"
      },
      "source": [
        "## Word to Index\n",
        "\n"
      ]
    },
    {
      "cell_type": "markdown",
      "source": [
        "### 단어 집합(vocabulary) 생성"
      ],
      "metadata": {
        "id": "rcLx_9OeEyXe"
      },
      "id": "rcLx_9OeEyXe"
    },
    {
      "cell_type": "code",
      "execution_count": null,
      "id": "6a1f7e4e",
      "metadata": {
        "id": "6a1f7e4e"
      },
      "outputs": [],
      "source": [
        "src_tokenizer = Tokenizer() # 토크나이저 정의\n",
        "\n",
        "# fit_on_texts 함수는 Keras의 Tokenizer 객체에 속하는 메서드 중 하나로, 텍스트 데이터로부터 단어 집합(vocabulary)을 생성\n",
        "#단어 집합(vocabulary)은 텍스트 데이터에 등장하는 모든 단어들을 유니크한 정수 인덱스로 매핑한 사전(dictionary) 형태로 구성됩니다. (즉, 각 단어들은 고유한 번호로 인덱스화)\n",
        "\n",
        "src_tokenizer.fit_on_texts(encoder_input_train) # 입력된 데이터로부터 단어 집합 생성\n"
      ]
    },
    {
      "cell_type": "code",
      "source": [
        "# src_tokenizer.word_index 에 단어 집합이 생서됨. 해당 단어 집합을 출력해보고 싶었으나, 너무 커서 그런지 계속 에러가 나서, index 값을 1로 가지는 key : value 에 대해서만 출렫해봄\n",
        "words_with_value_1 = {word: index for word, index in src_tokenizer.word_index.items() if index == 1}\n",
        "print(words_with_value_1)"
      ],
      "metadata": {
        "colab": {
          "base_uri": "https://localhost:8080/"
        },
        "id": "WgvxkQw5Tigl",
        "outputId": "9c0c6406-13be-4966-9ef2-9c0290acd0be"
      },
      "id": "WgvxkQw5Tigl",
      "execution_count": null,
      "outputs": [
        {
          "output_type": "stream",
          "name": "stdout",
          "text": [
            "{'said': 1}\n"
          ]
        }
      ]
    },
    {
      "cell_type": "markdown",
      "id": "8b89510f",
      "metadata": {
        "id": "8b89510f"
      },
      "source": [
        ".\n",
        "* 만든 단어 집합에 있는 모든 단어를 사용하는 것이 아니라, 빈도수가 낮은 단어들은 훈련 데이터에서 제외한다.\n",
        "\n",
        "* `src_tokenizer.word_counts.items()` 를 사용하여 등장 빈도수가 8회 미만인 단어들이 이 데이터에서 얼만큼의 비중을 차지하는지 확인해본다."
      ]
    },
    {
      "cell_type": "code",
      "execution_count": null,
      "id": "e886a7d2",
      "metadata": {
        "colab": {
          "base_uri": "https://localhost:8080/"
        },
        "id": "e886a7d2",
        "outputId": "b3c5dc8c-2c3a-4aca-fbe5-6607581c3d40"
      },
      "outputs": [
        {
          "output_type": "stream",
          "name": "stdout",
          "text": [
            "단어 집합(vocabulary)의 크기 : 68781\n",
            "등장 빈도가 7번 이하인 희귀 단어의 수: 48349\n",
            "단어 집합에서 희귀 단어를 제외시킬 경우의 단어 집합의 크기 20432\n",
            "단어 집합에서 희귀 단어의 비율: 70.29412192320554\n",
            "전체 등장 빈도에서 희귀 단어 등장 빈도 비율: 3.9025906169029367\n"
          ]
        }
      ],
      "source": [
        "threshold = 8\n",
        "total_cnt = len(src_tokenizer.word_index) # 단어의 수\n",
        "rare_cnt = 0 # 등장 빈도수가 threshold보다 작은 단어의 개수를 카운트\n",
        "total_freq = 0 # 훈련 데이터의 전체 단어 빈도수 총 합\n",
        "rare_freq = 0 # 등장 빈도수가 threshold보다 작은 단어의 등장 빈도수의 총 합\n",
        "\n",
        "# 단어와 빈도수의 쌍(pair)을 key와 value로 받는다.\n",
        "for key, value in src_tokenizer.word_counts.items():\n",
        "    total_freq = total_freq + value\n",
        "\n",
        "    # 단어의 등장 빈도수가 threshold보다 작으면\n",
        "    if(value < threshold):\n",
        "        rare_cnt = rare_cnt + 1\n",
        "        rare_freq = rare_freq + value\n",
        "\n",
        "print('단어 집합(vocabulary)의 크기 :', total_cnt)\n",
        "print('등장 빈도가 %s번 이하인 희귀 단어의 수: %s'%(threshold - 1, rare_cnt))\n",
        "print('단어 집합에서 희귀 단어를 제외시킬 경우의 단어 집합의 크기 %s'%(total_cnt - rare_cnt))\n",
        "print(\"단어 집합에서 희귀 단어의 비율:\", (rare_cnt / total_cnt)*100)\n",
        "print(\"전체 등장 빈도에서 희귀 단어 등장 빈도 비율:\", (rare_freq / total_freq)*100)"
      ]
    },
    {
      "cell_type": "markdown",
      "id": "7ff98133",
      "metadata": {
        "id": "7ff98133"
      },
      "source": [
        "* 등장 빈도가 threshold 값인 7회 이하인 단어들은 단어 집합에서 약 70% 를 차지함.\n",
        "* 하지만, 실제로 훈련 데이터에서 등장 빈도로 차지하는 비중은 상대적으로 적은 수치인 3.89% 밖에 되지 않음.\n",
        "\n",
        "* 등장 빈도가 7회 이하인 단어들은 정수 인코딩 과정에서 빼고, 훈련 데이터에서 제거한다.\n",
        "\n",
        "* 단어 집합의 크기를 20,000으로 제한한다."
      ]
    },
    {
      "cell_type": "code",
      "execution_count": null,
      "id": "a68d1e25",
      "metadata": {
        "id": "a68d1e25"
      },
      "outputs": [],
      "source": [
        "src_vocab = 20000\n",
        "src_tokenizer = Tokenizer(num_words=src_vocab) # 단어 집합의 크기를 20,000으로 제한\n",
        "src_tokenizer.fit_on_texts(encoder_input_train) # 단어 집합 재생성."
      ]
    },
    {
      "cell_type": "markdown",
      "source": [
        "\n",
        "\n",
        "### Encoder Word to Index 적용"
      ],
      "metadata": {
        "id": "la_gvpxwFCA1"
      },
      "id": "la_gvpxwFCA1"
    },
    {
      "cell_type": "code",
      "execution_count": null,
      "id": "46ad1bf6",
      "metadata": {
        "colab": {
          "base_uri": "https://localhost:8080/"
        },
        "id": "46ad1bf6",
        "outputId": "82477f27-9752-4cb7-a452-3e78d2885234"
      },
      "outputs": [
        {
          "output_type": "stream",
          "name": "stdout",
          "text": [
            "[920, 2878, 2388, 1368, 10544, 8329, 71, 386, 369, 67, 2, 20, 207, 3847, 9510, 4868, 14145, 17279, 1924, 244, 727, 77, 3, 13, 1368, 2224, 3656, 92, 91, 412, 1105, 67, 2813, 26, 2146, 4869]\n"
          ]
        }
      ],
      "source": [
        "# 텍스트 시퀀스를 정수 시퀀스로 변환\n",
        "encoder_input_train = src_tokenizer.texts_to_sequences(encoder_input_train)\n",
        "encoder_input_test = src_tokenizer.texts_to_sequences(encoder_input_test)\n",
        "\n",
        "# 잘 진행되었는지 샘플 출력\n",
        "print(encoder_input_train[0])"
      ]
    },
    {
      "cell_type": "markdown",
      "id": "ada80627",
      "metadata": {
        "id": "ada80627"
      },
      "source": [
        "### Decoder Word to Index 적용"
      ]
    },
    {
      "cell_type": "code",
      "execution_count": null,
      "id": "1c0eab51",
      "metadata": {
        "id": "1c0eab51"
      },
      "outputs": [],
      "source": [
        "# 전체 단어 집합과 각 단어에 대한 빈도수를 계산\n",
        "tar_tokenizer = Tokenizer()\n",
        "tar_tokenizer.fit_on_texts(decoder_input_train)"
      ]
    },
    {
      "cell_type": "code",
      "execution_count": null,
      "id": "5214eade",
      "metadata": {
        "id": "5214eade",
        "outputId": "06882b05-83b0-4201-dcc0-a6e39bf44879",
        "colab": {
          "base_uri": "https://localhost:8080/"
        }
      },
      "outputs": [
        {
          "output_type": "stream",
          "name": "stdout",
          "text": [
            "단어 집합(vocabulary)의 크기 : 29836\n",
            "등장 빈도가 6번 이하인 희귀 단어의 수: 20419\n",
            "단어 집합에서 희귀 단어를 제외시킬 경우의 단어 집합의 크기 9417\n",
            "단어 집합에서 희귀 단어의 비율: 68.43745810430353\n",
            "전체 등장 빈도에서 희귀 단어 등장 빈도 비율: 5.426888350722671\n"
          ]
        }
      ],
      "source": [
        "# 등장 빈도수가 8회 미만인 단어들이 이 데이터에서 얼만큼의 비중을 차지하는지 확인\n",
        "threshold = 7\n",
        "total_cnt = len(tar_tokenizer.word_index) # 단어의 수\n",
        "rare_cnt = 0 # 등장 빈도수가 threshold보다 작은 단어의 개수를 카운트\n",
        "total_freq = 0 # 훈련 데이터의 전체 단어 빈도수 총 합\n",
        "rare_freq = 0 # 등장 빈도수가 threshold보다 작은 단어의 등장 빈도수의 총 합\n",
        "\n",
        "# 단어와 빈도수의 쌍(pair)을 key와 value로 받는다.\n",
        "for key, value in tar_tokenizer.word_counts.items():\n",
        "    total_freq = total_freq + value\n",
        "\n",
        "    # 단어의 등장 빈도수가 threshold보다 작으면\n",
        "    if(value < threshold):\n",
        "        rare_cnt = rare_cnt + 1\n",
        "        rare_freq = rare_freq + value\n",
        "\n",
        "print('단어 집합(vocabulary)의 크기 :', total_cnt)\n",
        "print('등장 빈도가 %s번 이하인 희귀 단어의 수: %s'%(threshold - 1, rare_cnt))\n",
        "print('단어 집합에서 희귀 단어를 제외시킬 경우의 단어 집합의 크기 %s'%(total_cnt - rare_cnt))\n",
        "print(\"단어 집합에서 희귀 단어의 비율:\", (rare_cnt / total_cnt)*100)\n",
        "print(\"전체 등장 빈도에서 희귀 단어 등장 빈도 비율:\", (rare_freq / total_freq)*100)"
      ]
    },
    {
      "cell_type": "code",
      "execution_count": null,
      "id": "82bf3cda",
      "metadata": {
        "id": "82bf3cda",
        "outputId": "842436c9-375f-471a-ec26-d3c51e80ede3",
        "colab": {
          "base_uri": "https://localhost:8080/"
        }
      },
      "outputs": [
        {
          "output_type": "stream",
          "name": "stdout",
          "text": [
            "input\n",
            "input  [1, 332, 2414, 7, 9, 7123, 8, 1376]\n",
            "target\n",
            "decoder  [332, 2414, 7, 9, 7123, 8, 1376, 2]\n"
          ]
        }
      ],
      "source": [
        "tar_vocab = 9000\n",
        "tar_tokenizer = Tokenizer(num_words = tar_vocab)\n",
        "tar_tokenizer.fit_on_texts(decoder_input_train)\n",
        "tar_tokenizer.fit_on_texts(decoder_target_train)\n",
        "\n",
        "# 텍스트 시퀀스를 정수 시퀀스로 변환\n",
        "decoder_input_train = tar_tokenizer.texts_to_sequences(decoder_input_train)\n",
        "decoder_target_train = tar_tokenizer.texts_to_sequences(decoder_target_train)\n",
        "decoder_input_test = tar_tokenizer.texts_to_sequences(decoder_input_test)\n",
        "decoder_target_test = tar_tokenizer.texts_to_sequences(decoder_target_test)\n",
        "\n",
        "#잘 변환되었는지 확인\n",
        "print('input')\n",
        "print('input ',decoder_input_train[0])\n",
        "print('target')\n",
        "print('decoder ',decoder_target_train[0])"
      ]
    },
    {
      "cell_type": "markdown",
      "id": "284e66b4",
      "metadata": {
        "id": "284e66b4"
      },
      "source": [
        "* 전체 데이터에서 빈도수가 낮은 단어가 삭제되었다는 것은 빈도수가 낮은 단어만으로 구성되었던 샘플들은 이제 빈(empty) 샘플이 되었을 가능성이 있다.\n",
        "\n",
        "* decoder_input에는 sostoken 또는 decoder_target에는 eostoken이 추가된 상태이므로 길이가 0이 된 요악문의 실제 길이는 1로 나올 것이다.\n",
        "\n",
        "* 훈련 데이터와 테스트 데이터에 대해서 요약문의 길이가 1인 경우의 인덱스를 각각 drop_train과 drop_test에 라는 변수에 저장하고 샘플들은 모두 삭제한다."
      ]
    },
    {
      "cell_type": "code",
      "execution_count": null,
      "id": "c9341d25",
      "metadata": {
        "id": "c9341d25",
        "outputId": "96024511-7634-442b-a233-0712adb739f4",
        "colab": {
          "base_uri": "https://localhost:8080/"
        }
      },
      "outputs": [
        {
          "output_type": "stream",
          "name": "stdout",
          "text": [
            "삭제할 훈련 데이터의 개수 : 1\n",
            "삭제할 테스트 데이터의 개수 : 0\n",
            "훈련 데이터의 개수 : 77230\n",
            "훈련 레이블의 개수 : 77230\n",
            "테스트 데이터의 개수 : 19307\n",
            "테스트 레이블의 개수 : 19307\n"
          ]
        },
        {
          "output_type": "stream",
          "name": "stderr",
          "text": [
            "/usr/local/lib/python3.10/dist-packages/numpy/lib/function_base.py:5030: VisibleDeprecationWarning: Creating an ndarray from ragged nested sequences (which is a list-or-tuple of lists-or-tuples-or ndarrays with different lengths or shapes) is deprecated. If you meant to do this, you must specify 'dtype=object' when creating the ndarray.\n",
            "  arr = asarray(arr)\n"
          ]
        }
      ],
      "source": [
        "drop_train = [index for index, sentence in enumerate(decoder_input_train) if len(sentence) == 1]\n",
        "drop_test = [index for index, sentence in enumerate(decoder_input_test) if len(sentence) == 1]\n",
        "\n",
        "print('삭제할 훈련 데이터의 개수 :', len(drop_train))\n",
        "print('삭제할 테스트 데이터의 개수 :', len(drop_test))\n",
        "\n",
        "encoder_input_train = np.delete(encoder_input_train, drop_train, axis=0)\n",
        "decoder_input_train = np.delete(decoder_input_train, drop_train, axis=0)\n",
        "decoder_target_train = np.delete(decoder_target_train, drop_train, axis=0)\n",
        "\n",
        "encoder_input_test = np.delete(encoder_input_test, drop_test, axis=0)\n",
        "decoder_input_test = np.delete(decoder_input_test, drop_test, axis=0)\n",
        "decoder_target_test = np.delete(decoder_target_test, drop_test, axis=0)\n",
        "\n",
        "print('훈련 데이터의 개수 :', len(encoder_input_train))\n",
        "print('훈련 레이블의 개수 :', len(decoder_input_train))\n",
        "print('테스트 데이터의 개수 :', len(encoder_input_test))\n",
        "print('테스트 레이블의 개수 :', len(decoder_input_test))"
      ]
    },
    {
      "cell_type": "markdown",
      "id": "64b09bab",
      "metadata": {
        "id": "64b09bab"
      },
      "source": [
        "## 패딩 추가\n",
        "\n",
        "* 서로 다른 길이의 샘플들을 병렬 처리하기 위해 같은 길이로 맞춰주는 패딩 작업을 해준다."
      ]
    },
    {
      "cell_type": "code",
      "execution_count": null,
      "id": "c9d47562",
      "metadata": {
        "id": "c9d47562"
      },
      "outputs": [],
      "source": [
        "encoder_input_train = pad_sequences(encoder_input_train, maxlen=text_max_len, padding='post')\n",
        "encoder_input_test = pad_sequences(encoder_input_test, maxlen=text_max_len, padding='post')\n",
        "decoder_input_train = pad_sequences(decoder_input_train, maxlen=headlines_max_len, padding='post')\n",
        "decoder_target_train = pad_sequences(decoder_target_train, maxlen=headlines_max_len, padding='post')\n",
        "decoder_input_test = pad_sequences(decoder_input_test, maxlen=headlines_max_len, padding='post')\n",
        "decoder_target_test = pad_sequences(decoder_target_test, maxlen=headlines_max_len, padding='post')"
      ]
    },
    {
      "cell_type": "markdown",
      "id": "0700c37e",
      "metadata": {
        "id": "0700c37e"
      },
      "source": [
        "# 모델 설계\n",
        "\n"
      ]
    },
    {
      "cell_type": "markdown",
      "source": [
        "## Encoder Model 정의\n"
      ],
      "metadata": {
        "id": "iiAveCDQVyvB"
      },
      "id": "iiAveCDQVyvB"
    },
    {
      "cell_type": "markdown",
      "source": [
        "\n",
        "* 임베딩 벡터의 차원을 128로 정의하고, hidden state의 크기를 256으로 정의\n",
        "* 이후, 인코더 부분의 LSTM은 총 3개의 층으로 구성\n",
        "* 인코더의 최종 출력 벡터는 디코더로 보낼 예정"
      ],
      "metadata": {
        "id": "UavWmTuUV2AQ"
      },
      "id": "UavWmTuUV2AQ"
    },
    {
      "cell_type": "code",
      "execution_count": null,
      "id": "739467b9",
      "metadata": {
        "id": "739467b9",
        "outputId": "069252cf-00c5-41d8-89dd-fbccdcc7f167",
        "colab": {
          "base_uri": "https://localhost:8080/"
        }
      },
      "outputs": [
        {
          "output_type": "stream",
          "name": "stderr",
          "text": [
            "WARNING:tensorflow:Layer lstm will not use cuDNN kernels since it doesn't meet the criteria. It will use a generic GPU kernel as fallback when running on GPU.\n",
            "WARNING:tensorflow:Layer lstm_1 will not use cuDNN kernels since it doesn't meet the criteria. It will use a generic GPU kernel as fallback when running on GPU.\n",
            "WARNING:tensorflow:Layer lstm_2 will not use cuDNN kernels since it doesn't meet the criteria. It will use a generic GPU kernel as fallback when running on GPU.\n"
          ]
        }
      ],
      "source": [
        "from tensorflow.keras.layers import Input, LSTM, Embedding, Dense, Concatenate\n",
        "from tensorflow.keras.models import Model\n",
        "from tensorflow.keras.callbacks import EarlyStopping, ModelCheckpoint\n",
        "\n",
        "\n",
        "# 인코더 설계 시작\n",
        "embedding_dim = 128\n",
        "hidden_size = 256\n",
        "\n",
        "# 인코더\n",
        "encoder_inputs = Input(shape=(text_max_len,))\n",
        "\n",
        "# 인코더의 임베딩 층\n",
        "enc_emb = Embedding(src_vocab, embedding_dim)(encoder_inputs)\n",
        "\n",
        "# 인코더의 LSTM 1\n",
        "encoder_lstm1 = LSTM(hidden_size, return_sequences=True, return_state=True ,dropout = 0.4, recurrent_dropout = 0.4)\n",
        "encoder_output1, state_h1, state_c1 = encoder_lstm1(enc_emb)\n",
        "\n",
        "# 인코더의 LSTM 2\n",
        "encoder_lstm2 = LSTM(hidden_size, return_sequences=True, return_state=True, dropout=0.4, recurrent_dropout=0.4)\n",
        "encoder_output2, state_h2, state_c2 = encoder_lstm2(encoder_output1)\n",
        "\n",
        "# 인코더의 LSTM 3\n",
        "encoder_lstm3 = LSTM(hidden_size, return_state=True, return_sequences=True, dropout=0.4, recurrent_dropout=0.4)\n",
        "encoder_outputs, state_h, state_c= encoder_lstm3(encoder_output2)"
      ]
    },
    {
      "cell_type": "markdown",
      "id": "78ba424f",
      "metadata": {
        "id": "78ba424f"
      },
      "source": [
        "## Decoder Model 정의\n"
      ]
    },
    {
      "cell_type": "markdown",
      "source": [
        "\n",
        "* 디코더의 임베딩 층을 설계하는 것은 인코더와 동일\n",
        "* LSTM 층은 initial_state의 인자값으로 인코더의 hidden state와 cell state의 값을 넣어줌"
      ],
      "metadata": {
        "id": "geDgAy8jV419"
      },
      "id": "geDgAy8jV419"
    },
    {
      "cell_type": "code",
      "execution_count": null,
      "id": "dc456057",
      "metadata": {
        "id": "dc456057",
        "outputId": "e052bed0-760b-481e-c648-351fe719b9e6",
        "colab": {
          "base_uri": "https://localhost:8080/"
        }
      },
      "outputs": [
        {
          "output_type": "stream",
          "name": "stderr",
          "text": [
            "WARNING:tensorflow:Layer lstm_3 will not use cuDNN kernels since it doesn't meet the criteria. It will use a generic GPU kernel as fallback when running on GPU.\n"
          ]
        }
      ],
      "source": [
        "# 디코더 설계\n",
        "decoder_inputs = Input(shape=(None,))\n",
        "\n",
        "# 디코더의 임베딩 층\n",
        "dec_emb_layer = Embedding(tar_vocab, embedding_dim)\n",
        "dec_emb = dec_emb_layer(decoder_inputs)\n",
        "\n",
        "# 디코더의 LSTM\n",
        "decoder_lstm = LSTM(hidden_size, return_sequences=True, return_state=True, dropout=0.4, recurrent_dropout=0.2)\n",
        "decoder_outputs, _, _ = decoder_lstm(dec_emb, initial_state=[state_h, state_c])\n",
        "\n",
        "# 디코더의 출력층 설계\n",
        "decoder_softmax_layer = Dense(tar_vocab, activation='softmax')\n",
        "decoder_softmax_outputs = decoder_softmax_layer(decoder_outputs)"
      ]
    },
    {
      "cell_type": "markdown",
      "id": "e6ad0002",
      "metadata": {
        "id": "e6ad0002"
      },
      "source": [
        "## Encoder와 Decoder 합치기"
      ]
    },
    {
      "cell_type": "code",
      "execution_count": null,
      "id": "e9909bbe",
      "metadata": {
        "id": "e9909bbe",
        "outputId": "52c49cd3-d4ad-4aa0-f538-8cb60f67de0e",
        "colab": {
          "base_uri": "https://localhost:8080/"
        }
      },
      "outputs": [
        {
          "output_type": "stream",
          "name": "stdout",
          "text": [
            "Model: \"model\"\n",
            "__________________________________________________________________________________________________\n",
            " Layer (type)                   Output Shape         Param #     Connected to                     \n",
            "==================================================================================================\n",
            " input_1 (InputLayer)           [(None, 44)]         0           []                               \n",
            "                                                                                                  \n",
            " embedding (Embedding)          (None, 44, 128)      2560000     ['input_1[0][0]']                \n",
            "                                                                                                  \n",
            " lstm (LSTM)                    [(None, 44, 256),    394240      ['embedding[0][0]']              \n",
            "                                 (None, 256),                                                     \n",
            "                                 (None, 256)]                                                     \n",
            "                                                                                                  \n",
            " input_2 (InputLayer)           [(None, None)]       0           []                               \n",
            "                                                                                                  \n",
            " lstm_1 (LSTM)                  [(None, 44, 256),    525312      ['lstm[0][0]']                   \n",
            "                                 (None, 256),                                                     \n",
            "                                 (None, 256)]                                                     \n",
            "                                                                                                  \n",
            " embedding_1 (Embedding)        (None, None, 128)    1152000     ['input_2[0][0]']                \n",
            "                                                                                                  \n",
            " lstm_2 (LSTM)                  [(None, 44, 256),    525312      ['lstm_1[0][0]']                 \n",
            "                                 (None, 256),                                                     \n",
            "                                 (None, 256)]                                                     \n",
            "                                                                                                  \n",
            " lstm_3 (LSTM)                  [(None, None, 256),  394240      ['embedding_1[0][0]',            \n",
            "                                 (None, 256),                     'lstm_2[0][1]',                 \n",
            "                                 (None, 256)]                     'lstm_2[0][2]']                 \n",
            "                                                                                                  \n",
            " dense (Dense)                  (None, None, 9000)   2313000     ['lstm_3[0][0]']                 \n",
            "                                                                                                  \n",
            "==================================================================================================\n",
            "Total params: 7,864,104\n",
            "Trainable params: 7,864,104\n",
            "Non-trainable params: 0\n",
            "__________________________________________________________________________________________________\n"
          ]
        }
      ],
      "source": [
        "# 모델 정의\n",
        "model = Model([encoder_inputs, decoder_inputs], decoder_softmax_outputs)\n",
        "model.summary()"
      ]
    },
    {
      "cell_type": "code",
      "source": [
        "from keras.utils import plot_model\n",
        "import pydot\n",
        "\n",
        "# 모델을 시각화하여 'model.png'로 저장\n",
        "plot_model(model, to_file='model.png', show_shapes=True, show_layer_names=True)\n"
      ],
      "metadata": {
        "colab": {
          "base_uri": "https://localhost:8080/",
          "height": 754
        },
        "id": "DA2ORMOxWIHH",
        "outputId": "911df0c8-7a62-4a75-e7be-8a0775f33330"
      },
      "id": "DA2ORMOxWIHH",
      "execution_count": null,
      "outputs": [
        {
          "output_type": "execute_result",
          "data": {
            "image/png": "[encoded data removed]",
            "text/plain": [
              "<IPython.core.display.Image object>"
            ]
          },
          "metadata": {},
          "execution_count": 28
        }
      ]
    },
    {
      "cell_type": "markdown",
      "id": "d8ea0590",
      "metadata": {
        "id": "d8ea0590"
      },
      "source": [
        "## Attention Model 어텐션 메커니즘 사용하기 (추상적 요약)\n",
        "\n",
        "* model에서 어텐션 함수를 이용할 예정"
      ]
    },
    {
      "cell_type": "code",
      "execution_count": null,
      "id": "42adbb84",
      "metadata": {
        "id": "42adbb84",
        "outputId": "22c2bae2-d62d-4e3b-ffed-d1c4cbd35281",
        "colab": {
          "base_uri": "https://localhost:8080/"
        }
      },
      "outputs": [
        {
          "output_type": "stream",
          "name": "stdout",
          "text": [
            "Model: \"model_1\"\n",
            "__________________________________________________________________________________________________\n",
            " Layer (type)                   Output Shape         Param #     Connected to                     \n",
            "==================================================================================================\n",
            " input_1 (InputLayer)           [(None, 44)]         0           []                               \n",
            "                                                                                                  \n",
            " embedding (Embedding)          (None, 44, 128)      2560000     ['input_1[0][0]']                \n",
            "                                                                                                  \n",
            " lstm (LSTM)                    [(None, 44, 256),    394240      ['embedding[0][0]']              \n",
            "                                 (None, 256),                                                     \n",
            "                                 (None, 256)]                                                     \n",
            "                                                                                                  \n",
            " input_2 (InputLayer)           [(None, None)]       0           []                               \n",
            "                                                                                                  \n",
            " lstm_1 (LSTM)                  [(None, 44, 256),    525312      ['lstm[0][0]']                   \n",
            "                                 (None, 256),                                                     \n",
            "                                 (None, 256)]                                                     \n",
            "                                                                                                  \n",
            " embedding_1 (Embedding)        (None, None, 128)    1152000     ['input_2[0][0]']                \n",
            "                                                                                                  \n",
            " lstm_2 (LSTM)                  [(None, 44, 256),    525312      ['lstm_1[0][0]']                 \n",
            "                                 (None, 256),                                                     \n",
            "                                 (None, 256)]                                                     \n",
            "                                                                                                  \n",
            " lstm_3 (LSTM)                  [(None, None, 256),  394240      ['embedding_1[0][0]',            \n",
            "                                 (None, 256),                     'lstm_2[0][1]',                 \n",
            "                                 (None, 256)]                     'lstm_2[0][2]']                 \n",
            "                                                                                                  \n",
            " attention_layer (AdditiveAtten  (None, None, 256)   256         ['lstm_3[0][0]',                 \n",
            " tion)                                                            'lstm_2[0][0]']                 \n",
            "                                                                                                  \n",
            " concat_layer (Concatenate)     (None, None, 512)    0           ['lstm_3[0][0]',                 \n",
            "                                                                  'attention_layer[0][0]']        \n",
            "                                                                                                  \n",
            " dense_1 (Dense)                (None, None, 9000)   4617000     ['concat_layer[0][0]']           \n",
            "                                                                                                  \n",
            "==================================================================================================\n",
            "Total params: 10,168,360\n",
            "Trainable params: 10,168,360\n",
            "Non-trainable params: 0\n",
            "__________________________________________________________________________________________________\n"
          ]
        }
      ],
      "source": [
        "from tensorflow.keras.layers import AdditiveAttention\n",
        "\n",
        "# 어텐션 층(어텐션 함수)\n",
        "attn_layer = AdditiveAttention(name='attention_layer')\n",
        "\n",
        "# 인코더와 디코더의 모든 time step의 hidden state를 어텐션 층에 전달하고 결과를 리턴\n",
        "attn_out = attn_layer([decoder_outputs, encoder_outputs])\n",
        "\n",
        "\n",
        "# 어텐션의 결과와 디코더의 hidden state들을 연결\n",
        "decoder_concat_input = Concatenate(axis=-1, name='concat_layer')([decoder_outputs, attn_out])\n",
        "\n",
        "# 디코더의 출력층\n",
        "decoder_softmax_layer = Dense(tar_vocab, activation='softmax')\n",
        "decoder_softmax_outputs = decoder_softmax_layer(decoder_concat_input)\n",
        "\n",
        "# 모델 정의\n",
        "model = Model([encoder_inputs, decoder_inputs], decoder_softmax_outputs)\n",
        "model.summary()"
      ]
    },
    {
      "cell_type": "code",
      "source": [
        "from keras.utils import plot_model\n",
        "import pydot\n",
        "\n",
        "# 모델을 시각화하여 'model.png'로 저장\n",
        "plot_model(model, to_file='model.png', show_shapes=True, show_layer_names=True)\n"
      ],
      "metadata": {
        "colab": {
          "base_uri": "https://localhost:8080/",
          "height": 976
        },
        "id": "m0q6HdbVWVWt",
        "outputId": "12e60b1e-8a06-4b99-b81c-66186c76eefb"
      },
      "id": "m0q6HdbVWVWt",
      "execution_count": null,
      "outputs": [
        {
          "output_type": "execute_result",
          "data": {
            "image/png": "[encoded data removed]",
            "text/plain": [
              "<IPython.core.display.Image object>"
            ]
          },
          "metadata": {},
          "execution_count": 30
        }
      ]
    },
    {
      "cell_type": "markdown",
      "id": "796f2832",
      "metadata": {
        "id": "796f2832"
      },
      "source": [
        "# 모델 훈련"
      ]
    },
    {
      "cell_type": "code",
      "execution_count": null,
      "metadata": {
        "outputId": "aacfd851-c969-4718-97e4-8b6aa78c5464",
        "id": "Py57JAkObU-h"
      },
      "outputs": [
        {
          "name": "stdout",
          "output_type": "stream",
          "text": [
            "Epoch 1/50\n",
            "302/302 [==============================] - 203s 618ms/step - loss: 5.5316 - val_loss: 5.1038\n",
            "Epoch 2/50\n",
            "302/302 [==============================] - 184s 610ms/step - loss: 4.9444 - val_loss: 4.7363\n",
            "Epoch 3/50\n",
            "302/302 [==============================] - 184s 608ms/step - loss: 4.6196 - val_loss: 4.4704\n",
            "Epoch 4/50\n",
            "302/302 [==============================] - 183s 606ms/step - loss: 4.3575 - val_loss: 4.2833\n",
            "Epoch 5/50\n",
            "302/302 [==============================] - 183s 606ms/step - loss: 4.1564 - val_loss: 4.1320\n",
            "Epoch 6/50\n",
            "302/302 [==============================] - 183s 606ms/step - loss: 3.9881 - val_loss: 4.0299\n",
            "Epoch 7/50\n",
            "302/302 [==============================] - 182s 603ms/step - loss: 3.8453 - val_loss: 3.9399\n",
            "Epoch 8/50\n",
            "302/302 [==============================] - 182s 603ms/step - loss: 3.7226 - val_loss: 3.8784\n",
            "Epoch 9/50\n",
            "302/302 [==============================] - 182s 603ms/step - loss: 3.6157 - val_loss: 3.8113\n",
            "Epoch 10/50\n",
            "302/302 [==============================] - 182s 604ms/step - loss: 3.5187 - val_loss: 3.7623\n",
            "Epoch 11/50\n",
            "302/302 [==============================] - 182s 601ms/step - loss: 3.4309 - val_loss: 3.7189\n",
            "Epoch 12/50\n",
            "302/302 [==============================] - 182s 603ms/step - loss: 3.3541 - val_loss: 3.6902\n",
            "Epoch 13/50\n",
            "302/302 [==============================] - 182s 603ms/step - loss: 3.2835 - val_loss: 3.6659\n",
            "Epoch 14/50\n",
            "302/302 [==============================] - 181s 601ms/step - loss: 3.2186 - val_loss: 3.6356\n",
            "Epoch 15/50\n",
            "302/302 [==============================] - 182s 602ms/step - loss: 3.1582 - val_loss: 3.6218\n",
            "Epoch 16/50\n",
            "302/302 [==============================] - 181s 598ms/step - loss: 3.1019 - val_loss: 3.6067\n",
            "Epoch 17/50\n",
            "302/302 [==============================] - 181s 599ms/step - loss: 3.0528 - val_loss: 3.5910\n",
            "Epoch 18/50\n",
            "302/302 [==============================] - 181s 601ms/step - loss: 3.0085 - val_loss: 3.5764\n",
            "Epoch 19/50\n",
            "302/302 [==============================] - 181s 598ms/step - loss: 2.9648 - val_loss: 3.5702\n",
            "Epoch 20/50\n",
            "302/302 [==============================] - 181s 599ms/step - loss: 2.9240 - val_loss: 3.5610\n",
            "Epoch 21/50\n",
            "302/302 [==============================] - 180s 597ms/step - loss: 2.8860 - val_loss: 3.5495\n",
            "Epoch 22/50\n",
            "302/302 [==============================] - 183s 605ms/step - loss: 2.8453 - val_loss: 3.5459\n",
            "Epoch 23/50\n",
            "302/302 [==============================] - 182s 602ms/step - loss: 2.8036 - val_loss: 3.5412\n",
            "Epoch 24/50\n",
            "302/302 [==============================] - 181s 598ms/step - loss: 2.7703 - val_loss: 3.5423\n",
            "Epoch 25/50\n",
            "302/302 [==============================] - 181s 599ms/step - loss: 2.7353 - val_loss: 3.5351\n",
            "Epoch 26/50\n",
            "302/302 [==============================] - 181s 599ms/step - loss: 2.7053 - val_loss: 3.5342\n",
            "Epoch 27/50\n",
            "302/302 [==============================] - 181s 600ms/step - loss: 2.6764 - val_loss: 3.5309\n",
            "Epoch 28/50\n",
            "302/302 [==============================] - 181s 599ms/step - loss: 2.6488 - val_loss: 3.5288\n",
            "Epoch 29/50\n",
            "302/302 [==============================] - 180s 598ms/step - loss: 2.6192 - val_loss: 3.5236\n",
            "Epoch 30/50\n",
            "302/302 [==============================] - 181s 598ms/step - loss: 2.5909 - val_loss: 3.5298\n",
            "Epoch 31/50\n",
            "302/302 [==============================] - 180s 598ms/step - loss: 2.5661 - val_loss: 3.5296\n",
            "Epoch 00031: early stopping\n"
          ]
        }
      ],
      "source": [
        "model.compile(optimizer='rmsprop', loss='sparse_categorical_crossentropy')\n",
        "es = EarlyStopping(monitor='val_loss', patience=2, verbose=1)\n",
        "history = model.fit(x=[encoder_input_train, decoder_input_train], y=decoder_target_train, \\\n",
        "          validation_data=([encoder_input_test, decoder_input_test], decoder_target_test), \\\n",
        "          batch_size=256, callbacks=[es], epochs=50)"
      ],
      "id": "Py57JAkObU-h"
    },
    {
      "cell_type": "markdown",
      "id": "fb24a8f5",
      "metadata": {
        "id": "fb24a8f5"
      },
      "source": [
        "* early stopping 해서, validation loss가 더 이상 낮아지지 않을 때(2회 사이), 학습을 종료\n",
        "* model의 loss는 약 2.5661이지만, validation loss는 3.5296 이어서 다소 오버피팅 된 모델이 생성된 것 같다."
      ]
    },
    {
      "cell_type": "code",
      "execution_count": null,
      "metadata": {
        "id": "01bde5ad",
        "outputId": "8b67f198-609a-4865-a447-38d6693c7d60"
      },
      "outputs": [
        {
          "data": {
            "image/png": "[encoded data removed]",
            "text/plain": [
              "<Figure size 432x288 with 1 Axes>"
            ]
          },
          "metadata": {
            "needs_background": "light"
          },
          "output_type": "display_data"
        }
      ],
      "source": [
        "plt.plot(history.history['loss'], label='train')\n",
        "plt.plot(history.history['val_loss'], label='test')\n",
        "plt.legend()\n",
        "plt.show()"
      ],
      "id": "01bde5ad"
    },
    {
      "cell_type": "markdown",
      "id": "24e3470f",
      "metadata": {
        "id": "24e3470f"
      },
      "source": [
        "훈련 데이터와 테스트 데이터의 loss를 시각화\n",
        "훈련 데이터와 테스트 데이터 loss의 격차를 보면, 훈련 데이터가 overfitting이 되었다고 판단할 수 있음"
      ]
    },
    {
      "cell_type": "markdown",
      "metadata": {
        "id": "7d7ae5df"
      },
      "source": [
        "# 인퍼런스 모델 구현\n",
        "\n",
        "## word2index, index2word 구하기"
      ],
      "id": "7d7ae5df"
    },
    {
      "cell_type": "code",
      "execution_count": null,
      "metadata": {
        "id": "2adc9206"
      },
      "outputs": [],
      "source": [
        "src_index_to_word = src_tokenizer.index_word # 원문 단어 집합에서 정수 -> 단어를 얻음\n",
        "tar_word_to_index = tar_tokenizer.word_index # 요약 단어 집합에서 단어 -> 정수를 얻음\n",
        "tar_index_to_word = tar_tokenizer.index_word # 요약 단어 집합에서 정수 -> 단어를 얻음"
      ],
      "id": "2adc9206"
    },
    {
      "cell_type": "markdown",
      "metadata": {
        "id": "2514dc24"
      },
      "source": [
        "## Encoder Model"
      ],
      "id": "2514dc24"
    },
    {
      "cell_type": "code",
      "execution_count": null,
      "metadata": {
        "id": "359305ec"
      },
      "outputs": [],
      "source": [
        "# 인코더 설계\n",
        "encoder_model = Model(inputs=encoder_inputs, outputs=[encoder_outputs, state_h, state_c])\n",
        "\n",
        "# 이전 시점의 상태들을 저장하는 텐서\n",
        "decoder_state_input_h = Input(shape=(hidden_size,))\n",
        "decoder_state_input_c = Input(shape=(hidden_size,))\n",
        "\n",
        "dec_emb2 = dec_emb_layer(decoder_inputs)\n",
        "\n",
        "# 문장의 다음 단어를 예측하기 위해서 초기 상태(initial_state)를 이전 시점의 상태로 사용. 이는 뒤의 함수 decode_sequence()에 구현\n",
        "# 훈련 과정에서와 달리 LSTM의 리턴하는 은닉 상태와 셀 상태인 state_h와 state_c를 버리지 않음.\n",
        "decoder_outputs2, state_h2, state_c2 = decoder_lstm(dec_emb2, initial_state=[decoder_state_input_h, decoder_state_input_c])"
      ],
      "id": "359305ec"
    },
    {
      "cell_type": "markdown",
      "metadata": {
        "id": "e1ad2ff8"
      },
      "source": [
        "## Decoder Model"
      ],
      "id": "e1ad2ff8"
    },
    {
      "cell_type": "code",
      "execution_count": null,
      "metadata": {
        "id": "79a4f144"
      },
      "outputs": [],
      "source": [
        "# 어텐션 함수\n",
        "decoder_hidden_state_input = Input(shape=(text_max_len, hidden_size))\n",
        "attn_out_inf = attn_layer([decoder_outputs2, decoder_hidden_state_input])\n",
        "decoder_inf_concat = Concatenate(axis=-1, name='concat')([decoder_outputs2, attn_out_inf])\n",
        "\n",
        "# 디코더의 출력층\n",
        "decoder_outputs2 = decoder_softmax_layer(decoder_inf_concat)\n",
        "\n",
        "# 최종 디코더 모델\n",
        "decoder_model = Model(\n",
        "    [decoder_inputs] + [decoder_hidden_state_input,decoder_state_input_h, decoder_state_input_c],\n",
        "    [decoder_outputs2] + [state_h2, state_c2])"
      ],
      "id": "79a4f144"
    },
    {
      "cell_type": "markdown",
      "metadata": {
        "id": "718e5e9f"
      },
      "source": [
        "## word를 Sequence로 만드는 함수"
      ],
      "id": "718e5e9f"
    },
    {
      "cell_type": "code",
      "execution_count": null,
      "metadata": {
        "id": "6c449c28"
      },
      "outputs": [],
      "source": [
        "def decode_sequence(input_seq):\n",
        "    # 입력으로부터 인코더의 상태를 얻음\n",
        "    e_out, e_h, e_c = encoder_model.predict(input_seq)\n",
        "\n",
        "     # <SOS>에 해당하는 토큰 생성\n",
        "    target_seq = np.zeros((1,1))\n",
        "    target_seq[0, 0] = tar_word_to_index['sostoken']\n",
        "\n",
        "    stop_condition = False\n",
        "    decoded_sentence = ''\n",
        "    while not stop_condition: # stop_condition이 True가 될 때까지 루프 반복\n",
        "\n",
        "        output_tokens, h, c = decoder_model.predict([target_seq] + [e_out, e_h, e_c])\n",
        "        sampled_token_index = np.argmax(output_tokens[0, -1, :])\n",
        "        sampled_token = tar_index_to_word[sampled_token_index]\n",
        "\n",
        "        if (sampled_token!='eostoken'):\n",
        "            decoded_sentence += ' '+sampled_token\n",
        "\n",
        "        #  <eos>에 도달하거나 최대 길이를 넘으면 중단.\n",
        "        if (sampled_token == 'eostoken'  or len(decoded_sentence.split()) >= (headlines_max_len-1)):\n",
        "            stop_condition = True\n",
        "\n",
        "        # 길이가 1인 타겟 시퀀스를 업데이트\n",
        "        target_seq = np.zeros((1,1))\n",
        "        target_seq[0, 0] = sampled_token_index\n",
        "\n",
        "        # 상태를 업데이트 합니다.\n",
        "        e_h, e_c = h, c\n",
        "\n",
        "    return decoded_sentence"
      ],
      "id": "6c449c28"
    },
    {
      "cell_type": "markdown",
      "metadata": {
        "id": "01f3401f"
      },
      "source": [
        "# 모델 테스트\n",
        "\n",
        "주어진 정수 시퀀스를 텍스트 시퀀스로 변환하는 함수를 만든다.\n",
        "\n",
        "이때, Text의 정수 시퀀스에서는 패딩을 위해 사용되는 숫자 0을 제외하고 Summary의 정수 시퀀스에서는 숫자 0, 시작 토큰의 인덱스, 종료 토큰의 인덱스를 출력에서 제외하도록 만든다."
      ],
      "id": "01f3401f"
    },
    {
      "cell_type": "code",
      "execution_count": null,
      "id": "12c8fb16",
      "metadata": {
        "id": "12c8fb16"
      },
      "outputs": [],
      "source": [
        "# 원문의 정수 시퀀스를 텍스트 시퀀스로 변환\n",
        "def seq2text(input_seq):\n",
        "    temp=''\n",
        "    for i in input_seq:\n",
        "        if (i!=0):\n",
        "            temp = temp + src_index_to_word[i]+' '\n",
        "    return temp\n",
        "\n",
        "# 요약문의 정수 시퀀스를 텍스트 시퀀스로 변환\n",
        "def seq2summary(input_seq):\n",
        "    temp=''\n",
        "    for i in input_seq:\n",
        "        if ((i!=0 and i!=tar_word_to_index['sostoken']) and i!=tar_word_to_index['eostoken']):\n",
        "            temp = temp + tar_index_to_word[i] + ' '\n",
        "    return temp"
      ]
    },
    {
      "cell_type": "code",
      "execution_count": null,
      "metadata": {
        "scrolled": false,
        "id": "842c5968",
        "outputId": "476bcc14-ef17-4048-b66d-d46ebe0b95ef"
      },
      "outputs": [
        {
          "name": "stdout",
          "output_type": "stream",
          "text": [
            "원문 : facebook coo sheryl sandberg twitter co founder ceo jack dorsey seek election walt disney board according filing disney said become increasingly difficult two avoid conflicts relating board matters former starbucks ceo smith also leave board following rules specify retirement age \n",
            "실제 요약 : fb coo twitter ceo to leave disney board \n",
            "예측 요약 :  twitter ceo quits facebook over paris deal\n",
            "\n",
            "\n",
            "원문 : irrfan khan saba qamar starrer hindi medium named best film rd edition filmfare awards irrfan named best actor hindi medium vidya balan best actress tumhari sulu meanwhile rajkummar rao starrer newton best film filmfare award \n",
            "실제 요약 : hindi medium named best film at filmfare awards \n",
            "예측 요약 :  irrfan irrfan khan to star in hindi medium report\n",
            "\n",
            "\n",
            "원문 : student kolkata st paul cathedral mission college allegedly stripped naked filmed seniors questioned funds used college fest filed police complaint video incident circulated college west bengal education minister partha chatterjee said strict action taken accused \n",
            "실제 요약 : kolkata student stripped naked for asking about college fund \n",
            "예측 요약 :  yr old student booked for copying fake student in du\n",
            "\n",
            "\n",
            "원문 : travel company super holiday sale offering attractive deals holiday packages come end th march travellers choose range summer holiday packages destinations like singapore dubai kashmir switzerland ladakh europe bhutan packages start include flights accommodation sightseeing \n",
            "실제 요약 : day left for super holiday sale to end \n",
            "예측 요약 :  thomas cook presents holiday on holiday\n",
            "\n",
            "\n",
            "원문 : karni sena chittorgarh unit president govind singh arrested declared women community ready commit jauhar release padmaavat police also arrested two members organisation earlier karni sena spokesperson said instead resorting violence women opted jauhar \n",
            "실제 요약 : karni sena chief arrested over threat \n",
            "예측 요약 :  karni sena mp arrested for raping woman in ayodhya case\n",
            "\n",
            "\n",
            "원문 : speaking sabarimala temple row union minister smriti irani said would take sanitary napkins menstrual blood walk friend home would would think respectful walk house god right pray right added \n",
            "실제 요약 : will you take bloodied pad to friend home irani on sabarimala \n",
            "예측 요약 :  implement doorstep ration at doorstep sanitary pads irani\n",
            "\n",
            "\n",
            "원문 : two day old newborn baby found abandoned bush tripura district said police friday many ant bites body treated infection hospital icu police added official said condition stable placed child welfare committee rehabilitation \n",
            "실제 요약 : newborn baby dumped in ant bush in tripura rescued \n",
            "예측 요약 :  baby found alive after being found alive in wb\n",
            "\n",
            "\n",
            "원문 : user united states claimed apple iphone exploded allegedly updated ios posted several photos exploded phone apple responded definitely expected behaviour update completed soon phone turned started smoke caught fire user said \n",
            "실제 요약 : apple iphone explodes after update in the us \n",
            "예측 요약 :  apple iphone explodes users to unlock iphone location\n",
            "\n",
            "\n",
            "원문 : india south africa signed three year strategic programme cooperation aimed enhancing strategic partnership two countries two nations agreed enhance ties economic defence sector among others came south african president cyril visited india chief guest republic day celebrations \n",
            "실제 요약 : india africa sign yr strategic programme to ties \n",
            "예측 요약 :  india to hold summit in us for st time in years\n",
            "\n",
            "\n",
            "원문 : uttar pradesh government decided start metro services agra kanpur meerut estimated cost crore two metro corridors planned agra costing crore kanpur metro km long costing crore meerut metro km long costing crore \n",
            "실제 요약 : up to start metro services in agra kanpur by \n",
            "예측 요약 :  up govt to get crore for metro mlas\n",
            "\n",
            "\n",
            "원문 : uttarakhand become first state give identity cards gau rakshaks reports quoting officials said initiative aimed people protect cows resort violence name cow vigilantism officials said genuine gau rakshaks six total districts uttarakhand identified \n",
            "실제 요약 : khand st state to give id cards to gau rakshaks reports \n",
            "예측 요약 :  uttar pradesh to introduce cow protection for cow slaughter\n",
            "\n",
            "\n",
            "원문 : west indies cricketer dwayne bravo invited indian cricketers house team ongoing caribbean tour bravo posted pictures instagram one ms dhoni daughter captioned great brother another mother house last night along beautiful daughter mom champion family mahi \n",
            "실제 요약 : dwayne bravo invites indian players to his house for dinner \n",
            "예측 요약 :  dwayne bravo visits mumbai team before day\n",
            "\n",
            "\n",
            "원문 : actor akshaye khanna asked finds sexiest woman film industry said cannot take eyes aishwarya every time meet added might used people looking embarrassing keep staring like akshaye said \n",
            "실제 요약 : cannot take my eyes off aishwarya when meet her akshaye \n",
            "예측 요약 :  am not doing to make woman rao on\n",
            "\n",
            "\n",
            "원문 : qatar monday filed legal complaint world trade organisation trade boycott saudi arabia bahrain united arab emirates formally requesting consultations three countries qatar triggered day deadline settle complaint face litigation wto potential retaliatory trade sanctions \n",
            "실제 요약 : qatar complains to wto against saudi led trade boycott \n",
            "예측 요약 :  qatar withdraws qatar ban on qatar after being\n",
            "\n",
            "\n",
            "원문 : us based scientists developed technique directly printing metal circuits create electronics instead ink researchers used metal melting points circuit unaffected even bent times stretched strain case damage circuits could heating said researchers \n",
            "실제 요약 : us researchers print self flexible metal \n",
            "예측 요약 :  scientists create new skin skin\n",
            "\n",
            "\n",
            "원문 : women tribe among last societies marry taking many lovers wish called kingdom women china tribe word father husband women make major decisions control household finances ownership houses land full rights children \n",
            "실제 요약 : women in chinese tribe do not marry \n",
            "예측 요약 :  women to marry women in south africa\n",
            "\n",
            "\n",
            "원문 : voting began sunday nepal first local level polls two decades landmark moment country transition democracy least lakh people eligible vote election nearly candidates contesting position mayor deputy mayor ward chairman ward member \n",
            "실제 요약 : nepal votes in first local elections in years today \n",
            "예측 요약 :  nepal begins st ever voter turnout at border\n",
            "\n",
            "\n",
            "원문 : singer mika singh said sing song film ae dil hai mushkil better original singer arijit singh singing lines song show mika said mix arijit atif aslam song mind blowing next time whole song \n",
            "실제 요약 : can sing better than arijit singh mika \n",
            "예측 요약 :  sonu nigam song from singing song featuring sonu nigam\n",
            "\n",
            "\n",
            "원문 : union government wednesday launched study india programme attract foreign students india programme projects premier universities institutes including iits iims ideal destination higher education government plans attract lakh international students sanctioned budget crore two years programme \n",
            "실제 요약 : govt launches study in india to attract foreign students \n",
            "예측 요약 :  govt launches online course for wifi\n",
            "\n",
            "\n",
            "원문 : addressing press conference dubai congress president rahul gandhi saturday said peaceful relationship pakistan absolutely tolerate violence carried innocent indians pakistani state gandhi two day visit dubai also discussed massive employment crisis criticised policies like gst demonetisation \n",
            "실제 요약 : all for peace with pak but will not tolerate violence rahul \n",
            "예측 요약 :  rahul should not let pakistan pm wants to help pak\n",
            "\n",
            "\n"
          ]
        }
      ],
      "source": [
        "for i in range(20, 40):\n",
        "    print(\"원문 :\", seq2text(encoder_input_test[i]))\n",
        "    print(\"실제 요약 :\", seq2summary(decoder_input_test[i]))\n",
        "    print(\"예측 요약 :\", decode_sequence(encoder_input_test[i].reshape(1, text_max_len)))\n",
        "    print(\"\\n\")"
      ],
      "id": "842c5968"
    },
    {
      "cell_type": "markdown",
      "metadata": {
        "id": "abab9cf1"
      },
      "source": [
        "# 추출적 요약 (Extractive Summarization)\n",
        "\n",
        "* 패키지 Summa에서는 추출적 요약을 위한 모듈인 summarize로 간단하게 구현"
      ],
      "id": "abab9cf1"
    },
    {
      "cell_type": "code",
      "execution_count": null,
      "metadata": {
        "id": "e61884c1"
      },
      "outputs": [],
      "source": [
        "from summa.summarizer import summarize\n",
        "import urllib.request\n",
        "\n",
        "urllib.request.urlretrieve(\"https://raw.githubusercontent.com/sunnysai12345/News_Summary/master/news_summary_more.csv\", filename=\"news_summary_more.csv\")\n",
        "data = pd.read_csv('news_summary_more.csv', encoding='iso-8859-1')"
      ],
      "id": "e61884c1"
    },
    {
      "cell_type": "code",
      "execution_count": null,
      "metadata": {
        "id": "819e82e4"
      },
      "outputs": [],
      "source": [
        "data['summary'] = data['text'].apply(lambda x: summarize(x, ratio=0.5))"
      ],
      "id": "819e82e4"
    },
    {
      "cell_type": "code",
      "execution_count": null,
      "metadata": {
        "id": "36f40837",
        "outputId": "f34e8897-0dd4-4df6-8194-f83c8741e0af"
      },
      "outputs": [
        {
          "data": {
            "text/html": [
              "<div>\n",
              "<style scoped>\n",
              "    .dataframe tbody tr th:only-of-type {\n",
              "        vertical-align: middle;\n",
              "    }\n",
              "\n",
              "    .dataframe tbody tr th {\n",
              "        vertical-align: top;\n",
              "    }\n",
              "\n",
              "    .dataframe thead th {\n",
              "        text-align: right;\n",
              "    }\n",
              "</style>\n",
              "<table border=\"1\" class=\"dataframe\">\n",
              "  <thead>\n",
              "    <tr style=\"text-align: right;\">\n",
              "      <th></th>\n",
              "      <th>headlines</th>\n",
              "      <th>text</th>\n",
              "      <th>summary</th>\n",
              "    </tr>\n",
              "  </thead>\n",
              "  <tbody>\n",
              "    <tr>\n",
              "      <th>20523</th>\n",
              "      <td>US man yells 'Jesus is coming' before stabbing...</td>\n",
              "      <td>A man was shot in the leg by his neighbour in ...</td>\n",
              "      <td>A man was shot in the leg by his neighbour in ...</td>\n",
              "    </tr>\n",
              "    <tr>\n",
              "      <th>68255</th>\n",
              "      <td>World Tourism Day celebrated on September 27</td>\n",
              "      <td>World Tourism Day is celebrated on September 2...</td>\n",
              "      <td>World Tourism Day is celebrated on September 2...</td>\n",
              "    </tr>\n",
              "    <tr>\n",
              "      <th>65102</th>\n",
              "      <td>Taj Mahal sits on stolen property: Subramanian...</td>\n",
              "      <td>BJP leader Subramanian Swamy has alleged Taj M...</td>\n",
              "      <td>He said there are documents that also suggest ...</td>\n",
              "    </tr>\n",
              "    <tr>\n",
              "      <th>10921</th>\n",
              "      <td>Thor actor shares video of India traffic, call...</td>\n",
              "      <td>'Thor' actor Chris Hemsworth, who's in India t...</td>\n",
              "      <td>In another video, Hemsworth said, \"No one's......</td>\n",
              "    </tr>\n",
              "    <tr>\n",
              "      <th>10102</th>\n",
              "      <td>PM Modi is my friend and now Ivanka's: Trump a...</td>\n",
              "      <td>While introducing his daughter Ivanka to India...</td>\n",
              "      <td>While introducing his daughter Ivanka to India...</td>\n",
              "    </tr>\n",
              "    <tr>\n",
              "      <th>89824</th>\n",
              "      <td>Scientists generate hydrogen fuel from pollute...</td>\n",
              "      <td>Belgian scientists have developed a device tha...</td>\n",
              "      <td>The compartments for purifying air and storing...</td>\n",
              "    </tr>\n",
              "    <tr>\n",
              "      <th>18897</th>\n",
              "      <td>I've become Shah Rukh Khan because of Salman a...</td>\n",
              "      <td>Actor Shah Rukh Khan, who recently appeared on...</td>\n",
              "      <td>Actor Shah Rukh Khan, who recently appeared on...</td>\n",
              "    </tr>\n",
              "    <tr>\n",
              "      <th>38443</th>\n",
              "      <td>Mumbai witnessed 12 major fires, 22 deaths in ...</td>\n",
              "      <td>Mumbai has witnessed 12 major fires which resu...</td>\n",
              "      <td>Mumbai has witnessed 12 major fires which resu...</td>\n",
              "    </tr>\n",
              "    <tr>\n",
              "      <th>16064</th>\n",
              "      <td>Doctors treat patients under candlelight due t...</td>\n",
              "      <td>Doctors at a government hospital in Odisha's M...</td>\n",
              "      <td>Doctors at a government hospital in Odisha's M...</td>\n",
              "    </tr>\n",
              "    <tr>\n",
              "      <th>60401</th>\n",
              "      <td>What was the answer that won Manushi the Miss ...</td>\n",
              "      <td>In Miss World 2017's final round, India's Manu...</td>\n",
              "      <td></td>\n",
              "    </tr>\n",
              "  </tbody>\n",
              "</table>\n",
              "</div>"
            ],
            "text/plain": [
              "                                               headlines  \\\n",
              "20523  US man yells 'Jesus is coming' before stabbing...   \n",
              "68255       World Tourism Day celebrated on September 27   \n",
              "65102  Taj Mahal sits on stolen property: Subramanian...   \n",
              "10921  Thor actor shares video of India traffic, call...   \n",
              "10102  PM Modi is my friend and now Ivanka's: Trump a...   \n",
              "89824  Scientists generate hydrogen fuel from pollute...   \n",
              "18897  I've become Shah Rukh Khan because of Salman a...   \n",
              "38443  Mumbai witnessed 12 major fires, 22 deaths in ...   \n",
              "16064  Doctors treat patients under candlelight due t...   \n",
              "60401  What was the answer that won Manushi the Miss ...   \n",
              "\n",
              "                                                    text  \\\n",
              "20523  A man was shot in the leg by his neighbour in ...   \n",
              "68255  World Tourism Day is celebrated on September 2...   \n",
              "65102  BJP leader Subramanian Swamy has alleged Taj M...   \n",
              "10921  'Thor' actor Chris Hemsworth, who's in India t...   \n",
              "10102  While introducing his daughter Ivanka to India...   \n",
              "89824  Belgian scientists have developed a device tha...   \n",
              "18897  Actor Shah Rukh Khan, who recently appeared on...   \n",
              "38443  Mumbai has witnessed 12 major fires which resu...   \n",
              "16064  Doctors at a government hospital in Odisha's M...   \n",
              "60401  In Miss World 2017's final round, India's Manu...   \n",
              "\n",
              "                                                 summary  \n",
              "20523  A man was shot in the leg by his neighbour in ...  \n",
              "68255  World Tourism Day is celebrated on September 2...  \n",
              "65102  He said there are documents that also suggest ...  \n",
              "10921  In another video, Hemsworth said, \"No one's......  \n",
              "10102  While introducing his daughter Ivanka to India...  \n",
              "89824  The compartments for purifying air and storing...  \n",
              "18897  Actor Shah Rukh Khan, who recently appeared on...  \n",
              "38443  Mumbai has witnessed 12 major fires which resu...  \n",
              "16064  Doctors at a government hospital in Odisha's M...  \n",
              "60401                                                     "
            ]
          },
          "execution_count": 70,
          "metadata": {},
          "output_type": "execute_result"
        }
      ],
      "source": [
        "data.sample(10)"
      ],
      "id": "36f40837"
    },
    {
      "cell_type": "code",
      "execution_count": null,
      "metadata": {
        "scrolled": false,
        "id": "01b4709f",
        "outputId": "a2d99cfa-9f50-4e61-8234-fd5dcafa75ae"
      },
      "outputs": [
        {
          "name": "stdout",
          "output_type": "stream",
          "text": [
            "원문 : Ex-ICICI Bank CEO Chanda Kochhar said she's \"utterly disappointed, hurt and shocked\" by the bank's decision to terminate her. Kochhar said she served ICICI for 34 years with utmost honesty and integrity and that ultimately truth will prevail. Adding that she hasn't been given a copy of the independent probe report, Kochhar said none of ICICI's credit decisions are unilateral\n",
            "실제 요약 : Shocked, hurt by ICICI's decision, truth will prevail: Kochhar\n",
            "추출 요약 : Adding that she hasn't been given a copy of the independent probe report, Kochhar said none of ICICI's credit decisions are unilateral\n",
            "\n",
            "\n",
            "원문 : Swedish multinational fast-fashion brand Hennes & Mauritz AB (H&M) has hired Christopher Wylie, the whistleblower who exposed Facebook's Cambridge Analytica data scandal. WylieÃ¢ÂÂs focus will be to help get better insights on customers, products and markets and support work on sustainable and ethical artificial intelligence, H&M spokesperson said. Wylie is a former employee of Cambridge Analytica.\n",
            "실제 요약 : Fashion brand H&M hires Facebook data scandal whistleblower\n",
            "추출 요약 : Swedish multinational fast-fashion brand Hennes & Mauritz AB (H&M) has hired Christopher Wylie, the whistleblower who exposed Facebook's Cambridge Analytica data scandal.\n",
            "\n",
            "\n",
            "원문 : Micro-blogging platform Twitter is testing a new feature on Android to put news on the top of a user's timeline. \"With this update, weÃ¢ÂÂre making it easier for people to see news and stories their followers have been discussing,\" Product Manager Walter Gurzynski said. The feature comes alongside a prompt saying, \"Catch up on what's happened while you were away.\"\n",
            "실제 요약 : Twitter testing news-first timeline feature on Android\n",
            "추출 요약 : Micro-blogging platform Twitter is testing a new feature on Android to put news on the top of a user's timeline.\n",
            "\n",
            "\n",
            "원문 : Samsung has started mass producing its one terabyte 'embedded Universal Flash Storage (eUFS) 2.1' technology for \"use in next-generation mobile applications\", which it claims is the industry's first such eUFS. The company added the new eUFS will let smartphones store 260 10-minute videos shot in 4K UHD format. It'll be sized the same as the previous 512GB version, Samsung said.\n",
            "실제 요약 : Samsung builds world's first 1TB storage chip for smartphones \n",
            "추출 요약 : Samsung has started mass producing its one terabyte 'embedded Universal Flash Storage (eUFS) 2.1' technology for \"use in next-generation mobile applications\", which it claims is the industry's first such eUFS.\n",
            "\n",
            "\n",
            "원문 : Prime Minister Narendra Modi on Wednesday said the people with 'negative mindset' are questioning him and his government for floating pro-poor schemes. He added negative mindset people are raising doubts about schemes such as building toilets and providing free gas connections to the poor. He further said that negative mentality laced with a vested interest still exists in the country.\n",
            "실제 요약 : People with 'negative mindset' quizzing pro-poor schemes: PM\n",
            "추출 요약 : Prime Minister Narendra Modi on Wednesday said the people with 'negative mindset' are questioning him and his government for floating pro-poor schemes.\n",
            "\n",
            "\n",
            "원문 : Union Minister Anantkumar Hegde took a dig at Congress President Rahul Gandhi by calling him a \"hybrid specimen\" who has no clue about religion. \"A father who's...Muslim, a mother who's...Christian and the son is supposed to be...Brahmin. How is that even possible?\" he said. He added such \"hybrid specimen\" cannot be found in any laboratory in the world.\n",
            "실제 요약 : Rahul is hybrid specimen, has no clue about religion: Hegde\n",
            "추출 요약 : Union Minister Anantkumar Hegde took a dig at Congress President Rahul Gandhi by calling him a \"hybrid specimen\" who has no clue about religion.\n",
            "He added such \"hybrid specimen\" cannot be found in any laboratory in the world.\n",
            "\n",
            "\n",
            "원문 : Several parts of the US are set to experience record low temperatures as the polar vortex hit the Upper Midwest, with more than 200 million people expected to experience below-freezing temperatures this week. Temperatures throughout the Upper Midwest are expected to be at least 20-40Ã¢ÂÂ below zero. Government offices and schools have been closed in several areas.\n",
            "실제 요약 : Extreme cold to affect 200 million people as polar vortex hits US\n",
            "추출 요약 : Several parts of the US are set to experience record low temperatures as the polar vortex hit the Upper Midwest, with more than 200 million people expected to experience below-freezing temperatures this week.\n",
            "\n",
            "\n",
            "원문 : The police on Wednesday registered cases against 13 persons, including a woman leader of Hindu Mahasabha, in Aligarh for firing at an effigy of Mahatma Gandhi with an air pistol. \"The incident took place in a house in Naurangabad locality of the city,\" Senior Superintendent of Police said. The video of the event went viral on social media, he added.\n",
            "실제 요약 : 13 booked for firing air shots at Mahatma Gandhi's effigy\n",
            "추출 요약 : The police on Wednesday registered cases against 13 persons, including a woman leader of Hindu Mahasabha, in Aligarh for firing at an effigy of Mahatma Gandhi with an air pistol.\n",
            "\n",
            "\n",
            "원문 : Railway police has rescued a woman travelling on a train in Chennai who got her leg stuck inside the commode of a toilet. After being caught inside the commode hole, she struggled to remove her leg and following failed attempts, she shouted for help, reports said. Railway police used a cutter to pry open the commode and freed her leg.\n",
            "실제 요약 : Railway police rescues woman with leg stuck in train toilet\n",
            "추출 요약 : Railway police has rescued a woman travelling on a train in Chennai who got her leg stuck inside the commode of a toilet.\n",
            "\n",
            "\n",
            "원문 : The US on Tuesday began returning asylum seekers to Mexico, sending back a migrant from a Central American nation and called the move a \"response to the illegal migration crisis\" faced by it. Under its Migrant Protection Protocols policy, the US will return certain migrants who cross into the country illegally back to Mexico while their asylum requests are processed.\n",
            "실제 요약 : US begins sending back asylum seekers to Mexico\n",
            "추출 요약 : The US on Tuesday began returning asylum seekers to Mexico, sending back a migrant from a Central American nation and called the move a \"response to the illegal migration crisis\" faced by it.\n",
            "\n",
            "\n",
            "원문 : Former Finance Minister Yashwant Sinha on Tuesday demanded a probe into the alleged diversion of loans worth Ã¢ÂÂ¹31,000 crore by Dewan Housing Finance (DHFL). All agencies including regulators of the government have failed to track nefarious deals, he said. This comes after a media report on Tuesday accused DHFL's controlling shareholders of diverting funds to shell companies to buy assets.\n",
            "실제 요약 : Yashwant Sinha demands probe into alleged fund diversion by DHFL\n",
            "추출 요약 : Former Finance Minister Yashwant Sinha on Tuesday demanded a probe into the alleged diversion of loans worth Ã¢ÂÂ¹31,000 crore by Dewan Housing Finance (DHFL).\n",
            "\n",
            "\n",
            "원문 : US-based Boeing on Wednesday reported annual sales worth $101.12 billion in 2018, the first time the planemaker's sales crossed the $100-billion mark in its 102-year history. The company said it expects to deliver between 895 and 905 commercial aircraft in 2019. Boeing retained its position as the world's largest planemaker for the seventh straight year, delivering 806 aircraft in 2018. \n",
            "실제 요약 : Boeing sales cross $100bn for 1st time in its 102-yr history\n",
            "추출 요약 : Boeing retained its position as the world's largest planemaker for the seventh straight year, delivering 806 aircraft in 2018.\n",
            "\n",
            "\n",
            "원문 : text\n",
            "실제 요약 : headlines\n",
            "추출 요약 : \n",
            "\n",
            "\n",
            "원문 : OnePlus has emerged as India's best-selling premium smartphone brand of 2018, as per a report by Counterpoint. It captured 36% of the market share in the premium segment, in Q4 2018. Further, its OnePlus 6 emerged as the highest selling premium smartphone of 2018 followed by OnePlus 6T.\n",
            "실제 요약 : OnePlus named bestselling premium smartphone brand of 2018: Report\n",
            "추출 요약 : Further, its OnePlus 6 emerged as the highest selling premium smartphone of 2018 followed by OnePlus 6T.\n",
            "\n",
            "\n",
            "원문 : Filmmaker Pooja Bhatt, while talking about the presentation of women in her films, said, \"I can never look at a female body, even if it's naked, in a vulgar manner.\" \"Our audience can say...the women in my films are bold or sensual, but never ever vulgar,\" she added. Pooja further said her censor board is her \"own heart and mind\".\n",
            "실제 요약 : Can never look at female body, even if naked, in vulgar way: Pooja\n",
            "추출 요약 : Filmmaker Pooja Bhatt, while talking about the presentation of women in her films, said, \"I can never look at a female body, even if it's naked, in a vulgar manner.\" \"Our audience can say...the women in my films are bold or sensual, but never ever vulgar,\" she added.\n",
            "\n",
            "\n",
            "원문 : Actress Mishti, who has featured in 'Manikarnika: The Queen of Jhansi', has said the film's co-director Kangana Ranaut made false promises to the cast. \"Kangana had said, 'I want dates because all characters look jumbled up...I'm trying my best to give everybody a prominent space on screen.' After watching the movie, there is no scope for other characters,\" Mishti added. \n",
            "실제 요약 : Kangana made fake promises to cast: 'Manikarnika' actress Mishti\n",
            "추출 요약 : Actress Mishti, who has featured in 'Manikarnika: The Queen of Jhansi', has said the film's co-director Kangana Ranaut made false promises to the cast.\n",
            "\n",
            "\n",
            "원문 : The high-powered committee led by PM Narendra Modi to select the next CBI Director will meet again on February 1, Congress leader Mallikarjun Kharge has said. The panel consisting of Kharge and Chief Justice of India Ranjan Gogoi met on January 24, but the meeting ended \"inconclusively\" after Kharge cited lack of details in the list of 80 IPS officers. \n",
            "실제 요약 : PM-led panel to meet on Friday to pick new CBI chief: Kharge\n",
            "추출 요약 : The high-powered committee led by PM Narendra Modi to select the next CBI Director will meet again on February 1, Congress leader Mallikarjun Kharge has said.\n",
            "\n",
            "\n",
            "원문 : Nevada State Athletic Commission has banned MMA fighters Conor McGregor and Khabib Nurmagomedov for six months and nine months respectively over their roles in the mass brawl that occurred after their fight at UFC 229 last October. McGregor and Khabib have been fined $50,000 (Ã¢ÂÂ¹35 lakh) and $500,000 (Ã¢ÂÂ¹3.5 crore) respectively. The brawl occurred after Nurmagomedov confronted McGregor's teammate.\n",
            "실제 요약 : McGregor fined Ã¢ÂÂ¹35 lakh, Khabib Ã¢ÂÂ¹3.5 crore for brawl; both banned\n",
            "추출 요약 : Nevada State Athletic Commission has banned MMA fighters Conor McGregor and Khabib Nurmagomedov for six months and nine months respectively over their roles in the mass brawl that occurred after their fight at UFC 229 last October.\n",
            "\n",
            "\n",
            "원문 : Pakistan captain Sarfaraz Ahmed, who has been banned for four matches over racist remarks, took an apparent dig at his critics by sharing a video of a child reciting 'log hai na' poem on Twitter. \"Pyaar karna hai to khud se kar...dushmani karne ke liye log hai na,\" the poem read. \"This is how the world is,\" Sarfaraz wrote.\n",
            "실제 요약 : Banned for 4 matches, Sarfaraz shares 'log hai na' poem for critics\n",
            "추출 요약 : Pakistan captain Sarfaraz Ahmed, who has been banned for four matches over racist remarks, took an apparent dig at his critics by sharing a video of a child reciting 'log hai na' poem on Twitter.\n",
            "\n",
            "\n",
            "원문 : Banned cricketer Sreesanth has told Supreme Court he initially confessed to Delhi Police about his alleged involvement in 2013 IPL spot-fixing scandal to escape continuous police torture. Sreesanth further said the bookie tried dragging him into spot-fixing but he didn't fall for it. Citing Sreesanth not informing BCCI about fixing approach, the apex court said Sreesanth's conduct \"wasn't good\".\n",
            "실제 요약 : Confessed to spot-fixing to escape police torture: Sreesanth to SC\n",
            "추출 요약 : Sreesanth further said the bookie tried dragging him into spot-fixing but he didn't fall for it.\n",
            "\n",
            "\n"
          ]
        }
      ],
      "source": [
        "for i in range(40, 60):\n",
        "    print(\"원문 :\", data['text'][i])\n",
        "    print(\"실제 요약 :\", data['headlines'][i])\n",
        "    print(\"추출 요약 :\", data['summary'][i])\n",
        "    print(\"\\n\")"
      ],
      "id": "01b4709f"
    },
    {
      "cell_type": "markdown",
      "metadata": {
        "id": "773089d6"
      },
      "source": [
        "# 평가 및 정리\n",
        "\n",
        "\n"
      ],
      "id": "773089d6"
    },
    {
      "cell_type": "markdown",
      "source": [
        "## 추상적 요약 모델 평가"
      ],
      "metadata": {
        "id": "oUTcD9bj0I9s"
      },
      "id": "oUTcD9bj0I9s"
    },
    {
      "cell_type": "markdown",
      "source": [
        "ROUGE 지표 사용\n",
        "\n",
        "- Rouge 스코어는 자동 요약 시스템의 출력 요약과 실제 인간이 작성한 요약 사이의 유사성을 평가하는 메트릭입니다. 일반적으로 Rouge 스코어는 Precision, Recall, 그리고 F1-score로 표현\n",
        "\n",
        "    Precision (정밀도): 자동 요약의 출력에 있는 단어 중에서 실제 요약에 있는 단어와 일치하는 비율을 나타냅니다. 높은 정밀도는 자동 요약이 정확한 단어를 선택하는 데 능숙하다는 것을 의미합니다.\n",
        "\n",
        "    Recall (재현율): 실제 요약에 있는 단어 중에서 자동 요약의 출력에 있는 단어와 일치하는 비율을 나타냅니다. 높은 재현율은 자동 요약이 가능한 많은 실제 요약을 재현한다는 것을 의미합니다.\n",
        "\n",
        "    F1-score: Precision과 Recall의 조화 평균으로 계산되며, Precision과 Recall을 모두 고려하여 자동 요약의 성능을 평가하는 데 사용됩니다.\n",
        "\n",
        "- Rouge 스코어는 일반적으로 0과 1 사이의 값을 가지며, 높을수록 자동 요약의 품질이 높다고 볼 수 있습니다. 하지만 절대적인 성능 평가에는 한계가 있으며, 특히 인간의 주관적인 판단과 차이가 있을 수 있습니다. 따라서 Rouge 스코어를 사용하여 자동 요약의 품질을 평가할 때는 주의가 필요함."
      ],
      "metadata": {
        "id": "16ei8e7W1tIa"
      },
      "id": "16ei8e7W1tIa"
    },
    {
      "cell_type": "code",
      "source": [
        "!python3 -m pip install rouge_score\n",
        "!pip install datasets"
      ],
      "metadata": {
        "colab": {
          "base_uri": "https://localhost:8080/"
        },
        "id": "OKqQxtjG4iW3",
        "outputId": "dc0975da-c5d0-4b82-d754-c16ca9680df6"
      },
      "id": "OKqQxtjG4iW3",
      "execution_count": null,
      "outputs": [
        {
          "output_type": "stream",
          "name": "stdout",
          "text": [
            "Requirement already satisfied: rouge_score in /usr/local/lib/python3.10/dist-packages (0.1.2)\n",
            "Requirement already satisfied: absl-py in /usr/local/lib/python3.10/dist-packages (from rouge_score) (1.4.0)\n",
            "Requirement already satisfied: nltk in /usr/local/lib/python3.10/dist-packages (from rouge_score) (3.8.1)\n",
            "Requirement already satisfied: numpy in /usr/local/lib/python3.10/dist-packages (from rouge_score) (1.22.4)\n",
            "Requirement already satisfied: six>=1.14.0 in /usr/local/lib/python3.10/dist-packages (from rouge_score) (1.16.0)\n",
            "Requirement already satisfied: click in /usr/local/lib/python3.10/dist-packages (from nltk->rouge_score) (8.1.4)\n",
            "Requirement already satisfied: joblib in /usr/local/lib/python3.10/dist-packages (from nltk->rouge_score) (1.3.1)\n",
            "Requirement already satisfied: regex>=2021.8.3 in /usr/local/lib/python3.10/dist-packages (from nltk->rouge_score) (2022.10.31)\n",
            "Requirement already satisfied: tqdm in /usr/local/lib/python3.10/dist-packages (from nltk->rouge_score) (4.65.0)\n",
            "Collecting datasets\n",
            "  Downloading datasets-2.13.1-py3-none-any.whl (486 kB)\n",
            "\u001b[2K     \u001b[90m━━━━━━━━━━━━━━━━━━━━━━━━━━━━━━━━━━━━━━━\u001b[0m \u001b[32m486.2/486.2 kB\u001b[0m \u001b[31m6.3 MB/s\u001b[0m eta \u001b[36m0:00:00\u001b[0m\n",
            "\u001b[?25hRequirement already satisfied: numpy>=1.17 in /usr/local/lib/python3.10/dist-packages (from datasets) (1.22.4)\n",
            "Requirement already satisfied: pyarrow>=8.0.0 in /usr/local/lib/python3.10/dist-packages (from datasets) (9.0.0)\n",
            "Collecting dill<0.3.7,>=0.3.0 (from datasets)\n",
            "  Downloading dill-0.3.6-py3-none-any.whl (110 kB)\n",
            "\u001b[2K     \u001b[90m━━━━━━━━━━━━━━━━━━━━━━━━━━━━━━━━━━━━━━\u001b[0m \u001b[32m110.5/110.5 kB\u001b[0m \u001b[31m12.0 MB/s\u001b[0m eta \u001b[36m0:00:00\u001b[0m\n",
            "\u001b[?25hRequirement already satisfied: pandas in /usr/local/lib/python3.10/dist-packages (from datasets) (1.5.3)\n",
            "Requirement already satisfied: requests>=2.19.0 in /usr/local/lib/python3.10/dist-packages (from datasets) (2.27.1)\n",
            "Requirement already satisfied: tqdm>=4.62.1 in /usr/local/lib/python3.10/dist-packages (from datasets) (4.65.0)\n",
            "Collecting xxhash (from datasets)\n",
            "  Downloading xxhash-3.2.0-cp310-cp310-manylinux_2_17_x86_64.manylinux2014_x86_64.whl (212 kB)\n",
            "\u001b[2K     \u001b[90m━━━━━━━━━━━━━━━━━━━━━━━━━━━━━━━━━━━━━━\u001b[0m \u001b[32m212.5/212.5 kB\u001b[0m \u001b[31m19.9 MB/s\u001b[0m eta \u001b[36m0:00:00\u001b[0m\n",
            "\u001b[?25hCollecting multiprocess (from datasets)\n",
            "  Downloading multiprocess-0.70.14-py310-none-any.whl (134 kB)\n",
            "\u001b[2K     \u001b[90m━━━━━━━━━━━━━━━━━━━━━━━━━━━━━━━━━━━━━━\u001b[0m \u001b[32m134.3/134.3 kB\u001b[0m \u001b[31m14.5 MB/s\u001b[0m eta \u001b[36m0:00:00\u001b[0m\n",
            "\u001b[?25hRequirement already satisfied: fsspec[http]>=2021.11.1 in /usr/local/lib/python3.10/dist-packages (from datasets) (2023.6.0)\n",
            "Requirement already satisfied: aiohttp in /usr/local/lib/python3.10/dist-packages (from datasets) (3.8.4)\n",
            "Collecting huggingface-hub<1.0.0,>=0.11.0 (from datasets)\n",
            "  Downloading huggingface_hub-0.16.4-py3-none-any.whl (268 kB)\n",
            "\u001b[2K     \u001b[90m━━━━━━━━━━━━━━━━━━━━━━━━━━━━━━━━━━━━━━\u001b[0m \u001b[32m268.8/268.8 kB\u001b[0m \u001b[31m20.2 MB/s\u001b[0m eta \u001b[36m0:00:00\u001b[0m\n",
            "\u001b[?25hRequirement already satisfied: packaging in /usr/local/lib/python3.10/dist-packages (from datasets) (23.1)\n",
            "Requirement already satisfied: pyyaml>=5.1 in /usr/local/lib/python3.10/dist-packages (from datasets) (6.0)\n",
            "Requirement already satisfied: attrs>=17.3.0 in /usr/local/lib/python3.10/dist-packages (from aiohttp->datasets) (23.1.0)\n",
            "Requirement already satisfied: charset-normalizer<4.0,>=2.0 in /usr/local/lib/python3.10/dist-packages (from aiohttp->datasets) (2.0.12)\n",
            "Requirement already satisfied: multidict<7.0,>=4.5 in /usr/local/lib/python3.10/dist-packages (from aiohttp->datasets) (6.0.4)\n",
            "Requirement already satisfied: async-timeout<5.0,>=4.0.0a3 in /usr/local/lib/python3.10/dist-packages (from aiohttp->datasets) (4.0.2)\n",
            "Requirement already satisfied: yarl<2.0,>=1.0 in /usr/local/lib/python3.10/dist-packages (from aiohttp->datasets) (1.9.2)\n",
            "Requirement already satisfied: frozenlist>=1.1.1 in /usr/local/lib/python3.10/dist-packages (from aiohttp->datasets) (1.4.0)\n",
            "Requirement already satisfied: aiosignal>=1.1.2 in /usr/local/lib/python3.10/dist-packages (from aiohttp->datasets) (1.3.1)\n",
            "Requirement already satisfied: filelock in /usr/local/lib/python3.10/dist-packages (from huggingface-hub<1.0.0,>=0.11.0->datasets) (3.12.2)\n",
            "Requirement already satisfied: typing-extensions>=3.7.4.3 in /usr/local/lib/python3.10/dist-packages (from huggingface-hub<1.0.0,>=0.11.0->datasets) (4.7.1)\n",
            "Requirement already satisfied: urllib3<1.27,>=1.21.1 in /usr/local/lib/python3.10/dist-packages (from requests>=2.19.0->datasets) (1.26.16)\n",
            "Requirement already satisfied: certifi>=2017.4.17 in /usr/local/lib/python3.10/dist-packages (from requests>=2.19.0->datasets) (2023.5.7)\n",
            "Requirement already satisfied: idna<4,>=2.5 in /usr/local/lib/python3.10/dist-packages (from requests>=2.19.0->datasets) (3.4)\n",
            "Requirement already satisfied: python-dateutil>=2.8.1 in /usr/local/lib/python3.10/dist-packages (from pandas->datasets) (2.8.2)\n",
            "Requirement already satisfied: pytz>=2020.1 in /usr/local/lib/python3.10/dist-packages (from pandas->datasets) (2022.7.1)\n",
            "Requirement already satisfied: six>=1.5 in /usr/local/lib/python3.10/dist-packages (from python-dateutil>=2.8.1->pandas->datasets) (1.16.0)\n",
            "Installing collected packages: xxhash, dill, multiprocess, huggingface-hub, datasets\n",
            "Successfully installed datasets-2.13.1 dill-0.3.6 huggingface-hub-0.16.4 multiprocess-0.70.14 xxhash-3.2.0\n"
          ]
        }
      ]
    },
    {
      "cell_type": "code",
      "source": [
        "from datasets import load_metric\n",
        "rouge_score = load_metric(\"rouge\")"
      ],
      "metadata": {
        "colab": {
          "base_uri": "https://localhost:8080/",
          "height": 107,
          "referenced_widgets": [
            "6291e0268fc14c03a42f8711c0597275",
            "64e1c1d2e896415db41eb9a15ac22992",
            "b429b78c76884f6d82ff16c25a18faee",
            "eb7c82c12c2446e8b4e53a09184586e8",
            "ac5a293f5b84437d910dba087ef4bdc7",
            "06cb2998a0dc4b0997193608551a652c",
            "250b1ca491d24b30816afecc1e511583",
            "a91dfb54275a4e79b3f413b1391b657e",
            "85aa8297f9ad4aa48ce5b14572a03709",
            "da21058422024396ad28abe7e320fc6e",
            "02733aac68d5476d82e935ecc9b908bb"
          ]
        },
        "id": "PW07GsA33Xjp",
        "outputId": "be3d20c5-248a-4fc3-9354-24fe792987ca"
      },
      "id": "PW07GsA33Xjp",
      "execution_count": null,
      "outputs": [
        {
          "output_type": "stream",
          "name": "stderr",
          "text": [
            "<ipython-input-5-3e17c0c1122f>:2: FutureWarning: load_metric is deprecated and will be removed in the next major version of datasets. Use 'evaluate.load' instead, from the new library 🤗 Evaluate: https://huggingface.co/docs/evaluate\n",
            "  rouge_score = load_metric(\"rouge\")\n"
          ]
        },
        {
          "output_type": "display_data",
          "data": {
            "text/plain": [
              "Downloading builder script:   0%|          | 0.00/2.17k [00:00<?, ?B/s]"
            ],
            "application/vnd.jupyter.widget-view+json": {
              "version_major": 2,
              "version_minor": 0,
              "model_id": "6291e0268fc14c03a42f8711c0597275"
            }
          },
          "metadata": {}
        }
      ]
    },
    {
      "cell_type": "code",
      "source": [
        "reference_summary = [\n",
        "    \"fb coo twitter ceo to leave disney board\",\n",
        "    \"hindi medium named best film at filmfare awards\",\n",
        "    \"kolkata student stripped naked for asking about college fund\",\n",
        "    \"day left for super holiday sale to end\",\n",
        "    \"karni sena chief arrested over threat\",\n",
        "    \"will you take bloodied pad to friend home irani on sabarimala\",\n",
        "    \"newborn baby dumped in ant bush in tripura rescued\",\n",
        "    \"apple iphone explodes after update in the us\",\n",
        "    \"india africa sign yr strategic programme to ties\",\n",
        "    \"up to start metro services in agra kanpur by\"\n",
        "]\n",
        "\n",
        "generated_summary = [\n",
        "    \"twitter ceo quits facebook over paris deal\",\n",
        "    \"irrfan irrfan khan to star in hindi medium report\",\n",
        "    \"yr old student booked for copying fake student in du\",\n",
        "    \"thomas cook presents holiday on holiday\",\n",
        "    \"karni sena mp arrested for raping woman in ayodhya case\",\n",
        "    \"implement doorstep ration at doorstep sanitary pads irani\",\n",
        "    \"baby found alive after being found alive in wb\",\n",
        "    \"apple iphone explodes users to unlock iphone location\",\n",
        "    \"india to hold summit in us for st time in years\",\n",
        "    \"up govt to get crore for metro mlas\"\n",
        "]\n",
        "\n",
        "scores = rouge_score.compute(\n",
        "    predictions=[generated_summary], references=[reference_summary]\n",
        ")\n",
        "scores"
      ],
      "metadata": {
        "colab": {
          "base_uri": "https://localhost:8080/"
        },
        "id": "Ek2_LOy65O6E",
        "outputId": "3957e5f0-66a4-4427-e153-86007802209f"
      },
      "id": "Ek2_LOy65O6E",
      "execution_count": null,
      "outputs": [
        {
          "output_type": "execute_result",
          "data": {
            "text/plain": [
              "{'rouge1': AggregateScore(low=Score(precision=0.38372093023255816, recall=0.39285714285714285, fmeasure=0.38823529411764707), mid=Score(precision=0.38372093023255816, recall=0.39285714285714285, fmeasure=0.38823529411764707), high=Score(precision=0.38372093023255816, recall=0.39285714285714285, fmeasure=0.38823529411764707)),\n",
              " 'rouge2': AggregateScore(low=Score(precision=0.058823529411764705, recall=0.060240963855421686, fmeasure=0.05952380952380952), mid=Score(precision=0.058823529411764705, recall=0.060240963855421686, fmeasure=0.05952380952380952), high=Score(precision=0.058823529411764705, recall=0.060240963855421686, fmeasure=0.05952380952380952)),\n",
              " 'rougeL': AggregateScore(low=Score(precision=0.2558139534883721, recall=0.2619047619047619, fmeasure=0.25882352941176473), mid=Score(precision=0.2558139534883721, recall=0.2619047619047619, fmeasure=0.25882352941176473), high=Score(precision=0.2558139534883721, recall=0.2619047619047619, fmeasure=0.25882352941176473)),\n",
              " 'rougeLsum': AggregateScore(low=Score(precision=0.2558139534883721, recall=0.2619047619047619, fmeasure=0.25882352941176473), mid=Score(precision=0.2558139534883721, recall=0.2619047619047619, fmeasure=0.25882352941176473), high=Score(precision=0.2558139534883721, recall=0.2619047619047619, fmeasure=0.25882352941176473))}"
            ]
          },
          "metadata": {},
          "execution_count": 12
        }
      ]
    },
    {
      "cell_type": "code",
      "source": [
        "import matplotlib.pyplot as plt\n",
        "\n",
        "# Rouge 점수 추출\n",
        "rouge1_precision = scores[\"rouge1\"].mid.fmeasure\n",
        "rouge1_recall = scores[\"rouge1\"].mid.recall\n",
        "rouge2_precision = scores[\"rouge2\"].mid.fmeasure\n",
        "rouge2_recall = scores[\"rouge2\"].mid.recall\n",
        "rougeL_precision = scores[\"rougeL\"].mid.fmeasure\n",
        "rougeL_recall = scores[\"rougeL\"].mid.recall\n",
        "\n",
        "# Rouge-1 그래프\n",
        "plt.bar([\"Precision\", \"Recall\"], [rouge1_precision, rouge1_recall], color=['skyblue', 'lightgreen'])\n",
        "plt.title(\"Rouge-1 Precision and Recall\")\n",
        "plt.ylabel(\"Score\")\n",
        "plt.ylim(0, 1)\n",
        "plt.show()\n",
        "\n",
        "# Rouge-2 그래프\n",
        "plt.bar([\"Precision\", \"Recall\"], [rouge2_precision, rouge2_recall], color=['skyblue', 'lightgreen'])\n",
        "plt.title(\"Rouge-2 Precision and Recall\")\n",
        "plt.ylabel(\"Score\")\n",
        "plt.ylim(0, 1)\n",
        "plt.show()\n",
        "\n",
        "# Rouge-L 그래프\n",
        "plt.bar([\"Precision\", \"Recall\"], [rougeL_precision, rougeL_recall], color=['skyblue', 'lightgreen'])\n",
        "plt.title(\"Rouge-L Precision and Recall\")\n",
        "plt.ylabel(\"Score\")\n",
        "plt.ylim(0, 1)\n",
        "plt.show()\n"
      ],
      "metadata": {
        "colab": {
          "base_uri": "https://localhost:8080/",
          "height": 1000
        },
        "id": "cqe2jNFKAmKV",
        "outputId": "e694ccd8-df3f-4229-ca37-17bf8cb3f45e"
      },
      "id": "cqe2jNFKAmKV",
      "execution_count": null,
      "outputs": [
        {
          "output_type": "display_data",
          "data": {
            "text/plain": [
              "<Figure size 640x480 with 1 Axes>"
            ],
            "image/png": "[encoded data removed]"
          },
          "metadata": {}
        },
        {
          "output_type": "display_data",
          "data": {
            "text/plain": [
              "<Figure size 640x480 with 1 Axes>"
            ],
            "image/png": "[encoded data removed]"
          },
          "metadata": {}
        },
        {
          "output_type": "display_data",
          "data": {
            "text/plain": [
              "<Figure size 640x480 with 1 Axes>"
            ],
            "image/png": "[encoded data removed]"
          },
          "metadata": {}
        }
      ]
    },
    {
      "cell_type": "markdown",
      "source": [
        "- 10개의 샘플에 대해서만, Rouge 지표로 모델의 성능을 평가한 내역은 위와 같습니다.\n",
        "- Rouge 지표가 모델의 요약 성능을 충분히 대변하지 못한다고 판단되기에 10개 데이터 에 대해서  의미론적인 관점에서 잘 요약 했는가를 평가해봤습니다."
      ],
      "metadata": {
        "id": "fkokWnZ70Mwl"
      },
      "id": "fkokWnZ70Mwl"
    },
    {
      "cell_type": "markdown",
      "source": [
        "아래는 각 예시에 대한 의미론적 평가 결과입니다.\n",
        "\n",
        "1. **원문:** facebook coo sheryl sandberg twitter co founder ceo jack dorsey seek election walt disney board according filing disney said become increasingly difficult two avoid conflicts relating board matters former starbucks ceo smith also leave board following rules specify retirement age\n",
        "   - **실제 요약:** fb coo twitter ceo to leave disney board\n",
        "   - **예측 요약:** twitter ceo quits facebook over paris deal\n",
        "   - **평가:** 예측 요약은 원문과 전혀 관련이 없는 내용으로 매우 부적절한 요약입니다. 원문에서는 Facebook COO와 Twitter CEO가 디즈니 이사회 선출에 관심을 갖고 있다는 내용이 주요하게 다루어졌지만, 예측 요약은 파리 협정과 관련된 트위터 CEO의 Facebook 탈퇴를 언급하고 있습니다\n",
        "\n",
        "2. **원문:** irrfan khan saba qamar starrer hindi medium named best film rd edition filmfare awards irrfan named best actor hindi medium vidya balan best actress tumhari sulu meanwhile rajkummar rao starrer newton best film filmfare award\n",
        "   - **실제 요약:** hindi medium named best film at filmfare awards\n",
        "   - **예측 요약:** irrfan irrfan khan to star in hindi medium report\n",
        "   - **평가:** 예측 요약은 전체적으로 혼란스러운 내용으로, 영화 \"힌디 미디엄\"과 관련된 것으로 보이지만, 더 정확한 정보가 필요한 내용으로 요약되어 있습니다.\n",
        "\n",
        "3. **원문:** student kolkata st paul cathedral mission college allegedly stripped naked filmed seniors questioned funds used college fest filed police complaint video incident circulated college west bengal education minister partha chatterjee said strict action taken accused\n",
        "   - **실제 요약:** kolkata student stripped naked for asking about college fund\n",
        "   - **예측 요약:** yr old student booked for copying fake student in du\n",
        "   - **평가:** 측 요약은 원문의 의미와 완전히 다른 내용으로, 무작위로 임의의 내용이 요약되었습니다. 원문에서는 콜카타의 한 대학에서 발생한 논란적인 사건이 다루어졌지만, 예측 요약은 12세 학생과 델리 대학에서의 가짜 학생과 관련된 내용으로 혼란스러운 요약입니다.\n",
        "\n",
        "4. **원문:** travel company super holiday sale offering attractive deals holiday packages come end th march travellers choose range summer holiday packages destinations like singapore dubai kashmir switzerland ladakh europe bhutan packages start include flights accommodation sightseeing\n",
        "   - **실제 요약:** day left for super holiday sale to end\n",
        "   - **예측 요약:** thomas cook presents holiday on holiday\n",
        "   - **평가:** 예측 요약은 일부 단어만 포함하고 있으며, 원문의 내용과 전혀 다른 내용으로 매우 부적절한 요약입니다. 원문에서는 여행 회사의 슈퍼 휴가 세일이 얼마 남지 않았다는 내용이 강조되었지만, 예측 요약은 \"토마스 쿡\"이라는 주제와 \"휴가\"라는 단어만 언급하고 있습니다.\n",
        "\n",
        "5. **원문:** karni sena chittorgarh unit president govind singh arrested declared women community ready commit jauhar release padmaavat police also arrested two members organisation earlier karni sena spokesperson said instead resorting violence women opted jauhar\n",
        "   - **실제 요약:** karni sena chief arrested over threat\n",
        "   - **예측 요약:** karni sena mp arrested for raping woman in ayodhya case\n",
        "   - **평가:** 예측 요약은 원문의 내용과 전혀 다른 내용으로, 매우 부적절한 요약입니다. 원문에서는 Karni Sena Chittorgarh 지회 회장인 Govind Singh이 \"파드마바트\"의 개봉으로 인해 여성들이 \"자우하르\"을 하겠다는 선언으로 체포되었다는 내용이 주요하게 다루어졌지만, 예측 요약은 \"카르니 세나 MP\"가 \"아요디아 사건\"으로 인해 여성을 강간한 것으로 잘못된 정보를 담고 있습니다.\n",
        "\n",
        "6. **원문:** speaking sabarimala temple row union minister smriti irani said would take sanitary napkins menstrual blood walk friend home would would think respectful walk house god right pray right added\n",
        "   - **실제 요약:** will you take bloodied pad to friend home irani on sabarimala\n",
        "   - **예측 요약:** implement doorstep ration at doorstep sanitary pads irani\n",
        "   - **평가:** 예측 요약은 일부 단어만 포함하고 있으며, 원문의 내용과 다른 주제로 요약되었습니다. 원문에서는 스미트리 이라니 장관이 사바리말라 사원 논란에 대해 생리대와 생리 혈액을 가져와 친구의 집을 방문할 것이라는 발언이 주요 내용이었지만, 예측 요약은 \"문 앞 물건\"과 \"생리대\"에 대한 구현을 언급하는 임의의 내용으로 요약되었습니다.\n",
        "\n",
        "7. **원문:** two day old newborn baby found abandoned bush tripura district said police friday many ant bites body treated infection hospital icu police added official said condition stable placed child welfare committee rehabilitation\n",
        "   - **실제 요약:** newborn baby dumped in ant bush in tripura rescued\n",
        "   - **예측 요약:** baby found alive after being found alive in wb\n",
        "   - **평가:**  예측 요약은 일부 단어가 중복되어 혼동스러운 요약입니다. 원문에서는 트리푸라의 더스트에서 버려진 2일 된 신생아를 발견했다는 내용이 주요하게 다루어졌지만, 예측 요약은 \"두 번 발견된 살아있는 아기\"라는 혼란스러운 문구로 요약되었습니다.\n",
        "\n",
        "8. **원문:** user united states claimed apple iphone exploded allegedly updated ios posted several photos exploded phone apple responded definitely expected behaviour update completed soon phone turned started smoke caught fire user said\n",
        "   - **실제 요약:** apple iphone explodes after update in the us\n",
        "   - **예측 요약:** apple iphone explodes users to unlock iphone location\n",
        "   - **평가:** 예측 요약은 원문의 내용과 일부 부합하지 않는 문구로, 매우 부적절한 요약입니다. 원문에서는 미국의 사용자가 iOS를 업데이트 한 후에 Apple iPhone이 폭발했다는 내용이 주요하게 다루어졌지만, 예측 요약은 \"Apple iPhone이 사용자의 위치를 해제하기 위해 폭발한다\"는 잘못된 정보를 담고 있습니다.\n",
        "\n",
        "9. **원문:** India and South Africa signed a three-year strategic programme of cooperation aimed at enhancing their strategic partnership. The two nations agreed to enhance ties in the economic and defense sectors, among others. The agreement came during South African President Cyril's visit to India as the chief guest for Republic Day celebrations.\n",
        "  - **실제 요약:** India-Africa sign 3-yr strategic programme to ties\n",
        "  - **예측 요약:** India to hold summit in US for the first time in years\n",
        "India and South Africa Sign Strategic Programme\n",
        "  - **평가:** 예측 요약은 원문의 내용과 완전히 다른 내용으로 혼란스러운 요약입니다. 원문에서는 인도와 남아프리카가 전략적 협력 프로그램에 서명하여 경제와 군사 분야를 포함한 관계를 강화한다는 내용이 주요하게 다루어졌지만, 예측 요약은 \"인도가 여러 해 동안 처음으로 미국에서 정상회담을 개최할 것이다\"라는 임의의 내용으로 요약되었습니다.\n",
        "\n",
        "10. **원문:** The Uttar Pradesh government has decided to start metro services in Agra, Kanpur, and Meerut. The estimated cost for the two metro corridors planned in Agra is ₹8,379 crore and in Kanpur is ₹11,076 crore. The Meerut metro, which is 33.6 km long, will cost ₹13,298 crore.\n",
        "  - **실제 요약:** UP to start metro services in Agra, Kanpur by 2025\n",
        "  - **예측 요약:** UP govt to get ₹1,000 crore for metro MLAs\n",
        "Uttar Pradesh to Start Metro Services\n",
        "  - **평가:** 예측 요약은 원문의 내용과 전혀 다른 내용으로, 잘못된 요약입니다. 원문에서는 우타르 프라데시 주정부가 아그라, 캔푸르 및 메이르트에 지하철 서비스를 시작하기로 결정했다는 내용이 주요하게 다루어졌지만, 예측 요약은 \"지하철 MLAs에게 1,000억 루피를 받을 것\"이라는 무의미한 정보로 요약되었습니다."
      ],
      "metadata": {
        "id": "71HJPheQ0763"
      },
      "id": "71HJPheQ0763"
    },
    {
      "cell_type": "code",
      "source": [],
      "metadata": {
        "id": "C1l3mj_Pcl-r"
      },
      "id": "C1l3mj_Pcl-r",
      "execution_count": null,
      "outputs": []
    },
    {
      "cell_type": "markdown",
      "source": [
        "## 추출적 요약 모델 평가"
      ],
      "metadata": {
        "id": "FHZoTY7f-P9e"
      },
      "id": "FHZoTY7f-P9e"
    },
    {
      "cell_type": "code",
      "source": [
        "reference_summary = [\n",
        "    \"Shocked, hurt by ICICI's decision, truth will prevail: Kochhar\",\n",
        "    \"Fashion brand H&M hires Facebook data scandal whistleblower\",\n",
        "    \"Twitter testing news-first timeline feature on Android\",\n",
        "    \"Samsung builds world's first 1TB storage chip for smartphones\"\n",
        "]\n",
        "\n",
        "generated_summary = [\n",
        "    \"Adding that she hasn't been given a copy of the independent probe report, Kochhar said none of ICICI's credit decisions are unilateral\",\n",
        "    \"Swedish multinational fast-fashion brand Hennes & Mauritz AB (H&M) has hired Christopher Wylie, the whistleblower who exposed Facebook's Cambridge Analytica data scandal.\",\n",
        "    \"Micro-blogging platform Twitter is testing a new feature on Android to put news on the top of a user's timeline.\",\n",
        "    \"Samsung has started mass producing its one terabyte 'embedded Universal Flash Storage (eUFS) 2.1' technology for 'use in next-generation mobile applications', which it claims is the industry's first such eUFS.\"\n",
        "]\n",
        "\n",
        "\n",
        "scores = rouge_score.compute(\n",
        "    predictions=[generated_summary], references=[reference_summary]\n",
        ")\n",
        "scores"
      ],
      "metadata": {
        "colab": {
          "base_uri": "https://localhost:8080/"
        },
        "outputId": "01ee7d19-aef4-4201-82c1-8d3b61c99a02",
        "id": "Tb6bPKHY-WT5"
      },
      "execution_count": null,
      "outputs": [
        {
          "output_type": "execute_result",
          "data": {
            "text/plain": [
              "{'rouge1': AggregateScore(low=Score(precision=0.22330097087378642, recall=0.6216216216216216, fmeasure=0.32857142857142857), mid=Score(precision=0.22330097087378642, recall=0.6216216216216216, fmeasure=0.32857142857142857), high=Score(precision=0.22330097087378642, recall=0.6216216216216216, fmeasure=0.32857142857142857)),\n",
              " 'rouge2': AggregateScore(low=Score(precision=0.06862745098039216, recall=0.19444444444444445, fmeasure=0.10144927536231885), mid=Score(precision=0.06862745098039216, recall=0.19444444444444445, fmeasure=0.10144927536231885), high=Score(precision=0.06862745098039216, recall=0.19444444444444445, fmeasure=0.10144927536231885)),\n",
              " 'rougeL': AggregateScore(low=Score(precision=0.1650485436893204, recall=0.4594594594594595, fmeasure=0.24285714285714288), mid=Score(precision=0.1650485436893204, recall=0.4594594594594595, fmeasure=0.24285714285714288), high=Score(precision=0.1650485436893204, recall=0.4594594594594595, fmeasure=0.24285714285714288)),\n",
              " 'rougeLsum': AggregateScore(low=Score(precision=0.1650485436893204, recall=0.4594594594594595, fmeasure=0.24285714285714288), mid=Score(precision=0.1650485436893204, recall=0.4594594594594595, fmeasure=0.24285714285714288), high=Score(precision=0.1650485436893204, recall=0.4594594594594595, fmeasure=0.24285714285714288))}"
            ]
          },
          "metadata": {},
          "execution_count": 8
        }
      ],
      "id": "Tb6bPKHY-WT5"
    },
    {
      "cell_type": "code",
      "source": [
        "import matplotlib.pyplot as plt\n",
        "\n",
        "# Rouge 점수 추출\n",
        "rouge1_precision = scores[\"rouge1\"].mid.fmeasure\n",
        "rouge1_recall = scores[\"rouge1\"].mid.recall\n",
        "rouge2_precision = scores[\"rouge2\"].mid.fmeasure\n",
        "rouge2_recall = scores[\"rouge2\"].mid.recall\n",
        "rougeL_precision = scores[\"rougeL\"].mid.fmeasure\n",
        "rougeL_recall = scores[\"rougeL\"].mid.recall\n",
        "\n",
        "# Rouge-1 그래프\n",
        "plt.bar([\"Precision\", \"Recall\"], [rouge1_precision, rouge1_recall], color=['skyblue', 'lightgreen'])\n",
        "plt.title(\"Rouge-1 Precision and Recall\")\n",
        "plt.ylabel(\"Score\")\n",
        "plt.ylim(0, 1)\n",
        "plt.show()\n",
        "\n",
        "# Rouge-2 그래프\n",
        "plt.bar([\"Precision\", \"Recall\"], [rouge2_precision, rouge2_recall], color=['skyblue', 'lightgreen'])\n",
        "plt.title(\"Rouge-2 Precision and Recall\")\n",
        "plt.ylabel(\"Score\")\n",
        "plt.ylim(0, 1)\n",
        "plt.show()\n",
        "\n",
        "# Rouge-L 그래프\n",
        "plt.bar([\"Precision\", \"Recall\"], [rougeL_precision, rougeL_recall], color=['skyblue', 'lightgreen'])\n",
        "plt.title(\"Rouge-L Precision and Recall\")\n",
        "plt.ylabel(\"Score\")\n",
        "plt.ylim(0, 1)\n",
        "plt.show()\n"
      ],
      "metadata": {
        "colab": {
          "base_uri": "https://localhost:8080/",
          "height": 1000
        },
        "id": "zuSUz1I-AMRI",
        "outputId": "42dc41a0-4238-46c8-96a5-6bae338b51f3"
      },
      "id": "zuSUz1I-AMRI",
      "execution_count": null,
      "outputs": [
        {
          "output_type": "display_data",
          "data": {
            "text/plain": [
              "<Figure size 640x480 with 1 Axes>"
            ],
            "image/png": "[encoded data removed]"
          },
          "metadata": {}
        },
        {
          "output_type": "display_data",
          "data": {
            "text/plain": [
              "<Figure size 640x480 with 1 Axes>"
            ],
            "image/png": "[encoded data removed]"
          },
          "metadata": {}
        },
        {
          "output_type": "display_data",
          "data": {
            "text/plain": [
              "<Figure size 640x480 with 1 Axes>"
            ],
            "image/png": "[encoded data removed]"
          },
          "metadata": {}
        }
      ]
    },
    {
      "cell_type": "markdown",
      "source": [
        "## 전체적인 분석 및 개선 방안 제시"
      ],
      "metadata": {
        "id": "0ul9mknjBMpd"
      },
      "id": "0ul9mknjBMpd"
    },
    {
      "cell_type": "markdown",
      "source": [
        "원본 데이터를 가져와서 데이터를 목적에 맞게 전처리를 시키고 문장요약 모델을 LSTM으로 구현하고 어텐션 매커니즘을 추가하여 문장요약을 해보았습니다.\n",
        "생각보다 성능이 생각보다 좋게 나오지 않았습니다. 여러가지 원인이 있겠지만 모델을 완벽하게 이해하지 못한 부분에서 제가 생각하기에는 전처리 부분에서 최대 텍스트 길이 설정 부분이나, 단어 빈도수를 바탕으로 단어 집합을 만들 때, 크기 설정 부분, 패딩 부분에서 'post' 방식이 아닌 'pre' 방식 사용 정도가 있을 것 같습니다. 전처리 부분을 좀 더 다듬고 학습을 시킨다면 좀 더 좋은 성능이 나올것 같습니다. 그리고 비교적 낮은 에포크임에도 로스율이 떨이지지 않은것으로 보아 오버피팅이 발생하고 있는데, dropout이나 다른 파라미터를 변경하여 성능을 높일 수 있을 것 같습니다."
      ],
      "metadata": {
        "id": "Z6WntW1kDr9s"
      },
      "id": "Z6WntW1kDr9s"
    },
    {
      "cell_type": "markdown",
      "source": [
        "결론적으로 전체적으로 요약 모델의 성능이 좋지 않다고 판단된다. 성과가 좋지 않은 자연어 요약 모델에는 여러 해결 방안에 대해서 조새해본 내용을 정리해봤습니다.\n",
        "\n",
        "첫번째로는 우선, seq2seq와 attention mechnism의 조합을 개선하는 것이다.\n",
        "인코더의 레이어 수를 조정하거나, 디코더에 추가적인 레이어나 컨텍스트 벡터를 도입하여 더 깊고 복잡한 모델을 만들면 문맥 정보를 더 잘 파악할 수 있을 것이다.\n",
        "그 외에, 양방향 인코더를 사용하여 디코더에 더 많은 정보를 전달하는 경우, 빔서치 크기를 키워 디코더가 더 많은 후보를 고려할 수 있게 하거나, 모델의 학습률이나 임베딩 차원 등과 같은 하이퍼 파라미터를 조정하여 모델을 세밀하게 튜닝하면 모델의 성능을 향상시킬 수도 있다.\n",
        "\n",
        "두번째로, 워드 임베딩 대신 사전 훈련된 워드 임베딩을 사용하게 되면,\n",
        "대규모 텍스트 데이터를 사용하여 훈련되었기 때문에, 풍부한 단어 표현이 가능하고\n",
        "다양한 문맥에서 학습됐으므로, 비슷한 의미를 지닌 단어들이 유사한 벡터 공간에서 가까이 위치하게 된다.\n",
        "다른 자연어 처리 작업에도 전이 학습으로 활용될 수 있다.\n",
        "다만, 법률과 같은 특수 분야에선 사전 훈련된 워드 임베딩 보다는, 도메인에 특화된 임베딩이 더 적합하다.\n",
        "일반적인 언어 사용을 기반으로 다양한 언어의 통계적 패턴을 학습하기 때문에 특정 언어의 문법이나 구조에 최적화되지 않을 수 있다.\n",
        "즉, 구체적인 도메인이나 언어, 그리고 목적에는 적합하지 않을 수 있다.\n",
        "\n",
        "세번째로, 빔서치를 seq2seq와 RNN과 함께 이용하게 되면,\n",
        "빔서치는 주어진 입력에 대해 가능한 모든 시퀀스를 생성하고, 가장 적합한 시퀀스를 선택하는 확률적 탐색이기 때문에, 다양한 해결책을 검토하면서 더 일반화된 요약을 얻을 수 있다.\n",
        "빔서치는 모델이 다양한 후보를 생성하므로, 탐색 범위도 확장할 수 있고 이는 더 긴 문장이나 더 복잡한 문맥을 처리하는 데 도움이 된다.\n",
        "다만, 탐색 공간이 매우 크거나 출력 시퀀스의 길이가 매우 긴 경우 계산 비용이 크게 증가하기 때문에 사용하지 않는 것이 좋다.\n",
        "다양한 후보를 생성하고 유지하기 때문에, 다양한 해결책 보다는 최적의 해결책에 집중해야하는 경우에는 적합하지 않다.\n",
        "또, 각 단계에서 여러 후보를 유지하기 때문에 중복된 해결책이 발생할 수 있으므로, 중복이 큰 문제가 되는 작업에선 사용하지 않는게 좋다.\n",
        "\n",
        "모델 훈련 과정에서 런타임이 끊겨서 직접 데이터를 입력하여 진행하였다.\n",
        "훈련 결과에선 그다지 좋지 못한 요약이 꽤 보인걸로 보아 아쉬운 성능을 가진 모델로 보여진다.\n",
        "이를 개선하기 위해선 첫번째로는 우선, seq2seq와 attention mechnism의 조합을 개선하는 것이다. 인코더의 레이어 수를 조정하거나, 디코더에 추가적인 레이어나 컨텍스트 벡터를 도입하여 더 깊고 복잡한 모델을 만들면 문맥 정보를 더 잘 파악할 수 있을 것이다. 또 모델의 학습률이나 임베딩 차원 등과 같은 하이퍼 파라미터를 조정하여 모델을 세밀하게 튜닝하면 모델의 성능을 향상시킬 수도 있다.\n",
        "두번째로는, 워드 임베딩 대신 사전 훈련된 워드 임베딩을 사용하는 것이다. 데이터가 전반적인 뉴스에 대한 요약이므로 성능 향상에 도움이 될 수 있다. 마지막으로 세번째로, 빔서치를 seq2seq와 RNN과 함께 이용하게 되면, 모델이 다양한 후보를 생성하므로, 탐색 범위도 확장할 수 있고 이는 더 긴 문장이나 더 복잡한 문맥을 처리하는 데 도움이 된다.\n",
        "\n"
      ],
      "metadata": {
        "id": "3ZZXy6D9BZlP"
      },
      "id": "3ZZXy6D9BZlP"
    },
    {
      "cell_type": "markdown",
      "source": [],
      "metadata": {
        "id": "gFyCTojVBTeT"
      },
      "id": "gFyCTojVBTeT"
    }
  ],
  "metadata": {
    "kernelspec": {
      "display_name": "Python 3",
      "name": "python3"
    },
    "language_info": {
      "codemirror_mode": {
        "name": "ipython",
        "version": 3
      },
      "file_extension": ".py",
      "mimetype": "text/x-python",
      "name": "python",
      "nbconvert_exporter": "python",
      "pygments_lexer": "ipython3",
      "version": "3.9.7"
    },
    "colab": {
      "provenance": [],
      "gpuType": "T4",
      "toc_visible": true,
      "include_colab_link": true
    },
    "accelerator": "GPU",
    "widgets": {
      "application/vnd.jupyter.widget-state+json": {
        "6291e0268fc14c03a42f8711c0597275": {
          "model_module": "@jupyter-widgets/controls",
          "model_name": "HBoxModel",
          "model_module_version": "1.5.0",
          "state": {
            "_dom_classes": [],
            "_model_module": "@jupyter-widgets/controls",
            "_model_module_version": "1.5.0",
            "_model_name": "HBoxModel",
            "_view_count": null,
            "_view_module": "@jupyter-widgets/controls",
            "_view_module_version": "1.5.0",
            "_view_name": "HBoxView",
            "box_style": "",
            "children": [
              "IPY_MODEL_64e1c1d2e896415db41eb9a15ac22992",
              "IPY_MODEL_b429b78c76884f6d82ff16c25a18faee",
              "IPY_MODEL_eb7c82c12c2446e8b4e53a09184586e8"
            ],
            "layout": "IPY_MODEL_ac5a293f5b84437d910dba087ef4bdc7"
          }
        },
        "64e1c1d2e896415db41eb9a15ac22992": {
          "model_module": "@jupyter-widgets/controls",
          "model_name": "HTMLModel",
          "model_module_version": "1.5.0",
          "state": {
            "_dom_classes": [],
            "_model_module": "@jupyter-widgets/controls",
            "_model_module_version": "1.5.0",
            "_model_name": "HTMLModel",
            "_view_count": null,
            "_view_module": "@jupyter-widgets/controls",
            "_view_module_version": "1.5.0",
            "_view_name": "HTMLView",
            "description": "",
            "description_tooltip": null,
            "layout": "IPY_MODEL_06cb2998a0dc4b0997193608551a652c",
            "placeholder": "​",
            "style": "IPY_MODEL_250b1ca491d24b30816afecc1e511583",
            "value": "Downloading builder script: "
          }
        },
        "b429b78c76884f6d82ff16c25a18faee": {
          "model_module": "@jupyter-widgets/controls",
          "model_name": "FloatProgressModel",
          "model_module_version": "1.5.0",
          "state": {
            "_dom_classes": [],
            "_model_module": "@jupyter-widgets/controls",
            "_model_module_version": "1.5.0",
            "_model_name": "FloatProgressModel",
            "_view_count": null,
            "_view_module": "@jupyter-widgets/controls",
            "_view_module_version": "1.5.0",
            "_view_name": "ProgressView",
            "bar_style": "success",
            "description": "",
            "description_tooltip": null,
            "layout": "IPY_MODEL_a91dfb54275a4e79b3f413b1391b657e",
            "max": 2169,
            "min": 0,
            "orientation": "horizontal",
            "style": "IPY_MODEL_85aa8297f9ad4aa48ce5b14572a03709",
            "value": 2169
          }
        },
        "eb7c82c12c2446e8b4e53a09184586e8": {
          "model_module": "@jupyter-widgets/controls",
          "model_name": "HTMLModel",
          "model_module_version": "1.5.0",
          "state": {
            "_dom_classes": [],
            "_model_module": "@jupyter-widgets/controls",
            "_model_module_version": "1.5.0",
            "_model_name": "HTMLModel",
            "_view_count": null,
            "_view_module": "@jupyter-widgets/controls",
            "_view_module_version": "1.5.0",
            "_view_name": "HTMLView",
            "description": "",
            "description_tooltip": null,
            "layout": "IPY_MODEL_da21058422024396ad28abe7e320fc6e",
            "placeholder": "​",
            "style": "IPY_MODEL_02733aac68d5476d82e935ecc9b908bb",
            "value": " 5.65k/? [00:00&lt;00:00, 287kB/s]"
          }
        },
        "ac5a293f5b84437d910dba087ef4bdc7": {
          "model_module": "@jupyter-widgets/base",
          "model_name": "LayoutModel",
          "model_module_version": "1.2.0",
          "state": {
            "_model_module": "@jupyter-widgets/base",
            "_model_module_version": "1.2.0",
            "_model_name": "LayoutModel",
            "_view_count": null,
            "_view_module": "@jupyter-widgets/base",
            "_view_module_version": "1.2.0",
            "_view_name": "LayoutView",
            "align_content": null,
            "align_items": null,
            "align_self": null,
            "border": null,
            "bottom": null,
            "display": null,
            "flex": null,
            "flex_flow": null,
            "grid_area": null,
            "grid_auto_columns": null,
            "grid_auto_flow": null,
            "grid_auto_rows": null,
            "grid_column": null,
            "grid_gap": null,
            "grid_row": null,
            "grid_template_areas": null,
            "grid_template_columns": null,
            "grid_template_rows": null,
            "height": null,
            "justify_content": null,
            "justify_items": null,
            "left": null,
            "margin": null,
            "max_height": null,
            "max_width": null,
            "min_height": null,
            "min_width": null,
            "object_fit": null,
            "object_position": null,
            "order": null,
            "overflow": null,
            "overflow_x": null,
            "overflow_y": null,
            "padding": null,
            "right": null,
            "top": null,
            "visibility": null,
            "width": null
          }
        },
        "06cb2998a0dc4b0997193608551a652c": {
          "model_module": "@jupyter-widgets/base",
          "model_name": "LayoutModel",
          "model_module_version": "1.2.0",
          "state": {
            "_model_module": "@jupyter-widgets/base",
            "_model_module_version": "1.2.0",
            "_model_name": "LayoutModel",
            "_view_count": null,
            "_view_module": "@jupyter-widgets/base",
            "_view_module_version": "1.2.0",
            "_view_name": "LayoutView",
            "align_content": null,
            "align_items": null,
            "align_self": null,
            "border": null,
            "bottom": null,
            "display": null,
            "flex": null,
            "flex_flow": null,
            "grid_area": null,
            "grid_auto_columns": null,
            "grid_auto_flow": null,
            "grid_auto_rows": null,
            "grid_column": null,
            "grid_gap": null,
            "grid_row": null,
            "grid_template_areas": null,
            "grid_template_columns": null,
            "grid_template_rows": null,
            "height": null,
            "justify_content": null,
            "justify_items": null,
            "left": null,
            "margin": null,
            "max_height": null,
            "max_width": null,
            "min_height": null,
            "min_width": null,
            "object_fit": null,
            "object_position": null,
            "order": null,
            "overflow": null,
            "overflow_x": null,
            "overflow_y": null,
            "padding": null,
            "right": null,
            "top": null,
            "visibility": null,
            "width": null
          }
        },
        "250b1ca491d24b30816afecc1e511583": {
          "model_module": "@jupyter-widgets/controls",
          "model_name": "DescriptionStyleModel",
          "model_module_version": "1.5.0",
          "state": {
            "_model_module": "@jupyter-widgets/controls",
            "_model_module_version": "1.5.0",
            "_model_name": "DescriptionStyleModel",
            "_view_count": null,
            "_view_module": "@jupyter-widgets/base",
            "_view_module_version": "1.2.0",
            "_view_name": "StyleView",
            "description_width": ""
          }
        },
        "a91dfb54275a4e79b3f413b1391b657e": {
          "model_module": "@jupyter-widgets/base",
          "model_name": "LayoutModel",
          "model_module_version": "1.2.0",
          "state": {
            "_model_module": "@jupyter-widgets/base",
            "_model_module_version": "1.2.0",
            "_model_name": "LayoutModel",
            "_view_count": null,
            "_view_module": "@jupyter-widgets/base",
            "_view_module_version": "1.2.0",
            "_view_name": "LayoutView",
            "align_content": null,
            "align_items": null,
            "align_self": null,
            "border": null,
            "bottom": null,
            "display": null,
            "flex": null,
            "flex_flow": null,
            "grid_area": null,
            "grid_auto_columns": null,
            "grid_auto_flow": null,
            "grid_auto_rows": null,
            "grid_column": null,
            "grid_gap": null,
            "grid_row": null,
            "grid_template_areas": null,
            "grid_template_columns": null,
            "grid_template_rows": null,
            "height": null,
            "justify_content": null,
            "justify_items": null,
            "left": null,
            "margin": null,
            "max_height": null,
            "max_width": null,
            "min_height": null,
            "min_width": null,
            "object_fit": null,
            "object_position": null,
            "order": null,
            "overflow": null,
            "overflow_x": null,
            "overflow_y": null,
            "padding": null,
            "right": null,
            "top": null,
            "visibility": null,
            "width": null
          }
        },
        "85aa8297f9ad4aa48ce5b14572a03709": {
          "model_module": "@jupyter-widgets/controls",
          "model_name": "ProgressStyleModel",
          "model_module_version": "1.5.0",
          "state": {
            "_model_module": "@jupyter-widgets/controls",
            "_model_module_version": "1.5.0",
            "_model_name": "ProgressStyleModel",
            "_view_count": null,
            "_view_module": "@jupyter-widgets/base",
            "_view_module_version": "1.2.0",
            "_view_name": "StyleView",
            "bar_color": null,
            "description_width": ""
          }
        },
        "da21058422024396ad28abe7e320fc6e": {
          "model_module": "@jupyter-widgets/base",
          "model_name": "LayoutModel",
          "model_module_version": "1.2.0",
          "state": {
            "_model_module": "@jupyter-widgets/base",
            "_model_module_version": "1.2.0",
            "_model_name": "LayoutModel",
            "_view_count": null,
            "_view_module": "@jupyter-widgets/base",
            "_view_module_version": "1.2.0",
            "_view_name": "LayoutView",
            "align_content": null,
            "align_items": null,
            "align_self": null,
            "border": null,
            "bottom": null,
            "display": null,
            "flex": null,
            "flex_flow": null,
            "grid_area": null,
            "grid_auto_columns": null,
            "grid_auto_flow": null,
            "grid_auto_rows": null,
            "grid_column": null,
            "grid_gap": null,
            "grid_row": null,
            "grid_template_areas": null,
            "grid_template_columns": null,
            "grid_template_rows": null,
            "height": null,
            "justify_content": null,
            "justify_items": null,
            "left": null,
            "margin": null,
            "max_height": null,
            "max_width": null,
            "min_height": null,
            "min_width": null,
            "object_fit": null,
            "object_position": null,
            "order": null,
            "overflow": null,
            "overflow_x": null,
            "overflow_y": null,
            "padding": null,
            "right": null,
            "top": null,
            "visibility": null,
            "width": null
          }
        },
        "02733aac68d5476d82e935ecc9b908bb": {
          "model_module": "@jupyter-widgets/controls",
          "model_name": "DescriptionStyleModel",
          "model_module_version": "1.5.0",
          "state": {
            "_model_module": "@jupyter-widgets/controls",
            "_model_module_version": "1.5.0",
            "_model_name": "DescriptionStyleModel",
            "_view_count": null,
            "_view_module": "@jupyter-widgets/base",
            "_view_module_version": "1.2.0",
            "_view_name": "StyleView",
            "description_width": ""
          }
        }
      }
    }
  },
  "nbformat": 4,
  "nbformat_minor": 5
}